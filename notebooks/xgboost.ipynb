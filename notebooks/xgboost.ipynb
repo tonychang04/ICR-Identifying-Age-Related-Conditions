{
 "cells": [
  {
   "attachments": {},
   "cell_type": "markdown",
   "metadata": {},
   "source": [
    "## ICR - Identifying Age-Related Conditions¶\n"
   ]
  },
  {
   "attachments": {},
   "cell_type": "markdown",
   "metadata": {},
   "source": [
    "Use Machine Learning to detect conditions with measurements of anonymous characteristics\n",
    "https://www.kaggle.com/code/samuelabatnehendalie/icr-identifying-age-related-conditions"
   ]
  },
  {
   "cell_type": "markdown",
   "metadata": {
    "collapsed": false
   },
   "source": [
    "### Importing Libraries"
   ]
  },
  {
   "cell_type": "code",
   "execution_count": 184,
   "metadata": {},
   "outputs": [],
   "source": [
    "import pandas as pd\n",
    "import numpy as np\n",
    "import matplotlib.pyplot as plt\n",
    "import seaborn as sns\n",
    "import os\n",
    "import warnings\n",
    "\n",
    "from sklearn.metrics import accuracy_score\n",
    "from sklearn.metrics import confusion_matrix\n",
    "from sklearn.metrics import classification_report\n",
    "\n",
    "from sklearn.model_selection import GridSearchCV\n",
    "from sklearn.metrics import make_scorer"
   ]
  },
  {
   "cell_type": "code",
   "execution_count": 185,
   "metadata": {
    "collapsed": false
   },
   "outputs": [
    {
     "data": {
      "text/plain": [
       "' use this code when upload to kaggle\\n# This Python 3 environment comes with many helpful analytics libraries installed\\n# It is defined by the kaggle/python Docker image: https://github.com/kaggle/docker-python\\n# For example, here\\'s several helpful packages to load\\n\\nimport numpy as np # linear algebra\\nimport pandas as pd # data processing, CSV file I/O (e.g. pd.read_csv)\\nimport matplotlib.pyplot as plt\\nimport seaborn as sns\\n\\n# Input data files are available in the read-only \"../input/\" directory\\n# For example, running this (by clicking run or pressing Shift+Enter) will list all files under the input directory\\n\\nimport os\\nfor dirname, _, filenames in os.walk(\\'/kaggle/input\\'):\\n    for filename in filenames:\\n        print(os.path.join(dirname, filename))\\n\\n# You can write up to 20GB to the current directory (/kaggle/working/) that gets preserved as output when you create a version using \"Save & Run All\"\\n# You can also write temporary files to /kaggle/temp/, but they won\\'t be saved outside of the current session\\n\\n\\ntrain = pd.read_csv(\\'/kaggle/input/icr-identify-age-related-conditions/train.csv\\')\\ntest = pd.read_csv(\\'/kaggle/input/icr-identify-age-related-conditions/test.csv\\')\\n'"
      ]
     },
     "execution_count": 185,
     "metadata": {},
     "output_type": "execute_result"
    }
   ],
   "source": [
    "''' use this code when upload to kaggle\n",
    "# This Python 3 environment comes with many helpful analytics libraries installed\n",
    "# It is defined by the kaggle/python Docker image: https://github.com/kaggle/docker-python\n",
    "# For example, here's several helpful packages to load\n",
    "\n",
    "import numpy as np # linear algebra\n",
    "import pandas as pd # data processing, CSV file I/O (e.g. pd.read_csv)\n",
    "import matplotlib.pyplot as plt\n",
    "import seaborn as sns\n",
    "\n",
    "# Input data files are available in the read-only \"../input/\" directory\n",
    "# For example, running this (by clicking run or pressing Shift+Enter) will list all files under the input directory\n",
    "\n",
    "import os\n",
    "for dirname, _, filenames in os.walk('/kaggle/input'):\n",
    "    for filename in filenames:\n",
    "        print(os.path.join(dirname, filename))\n",
    "\n",
    "# You can write up to 20GB to the current directory (/kaggle/working/) that gets preserved as output when you create a version using \"Save & Run All\"\n",
    "# You can also write temporary files to /kaggle/temp/, but they won't be saved outside of the current session\n",
    "\n",
    "\n",
    "train = pd.read_csv('/kaggle/input/icr-identify-age-related-conditions/train.csv')\n",
    "test = pd.read_csv('/kaggle/input/icr-identify-age-related-conditions/test.csv')\n",
    "'''"
   ]
  },
  {
   "attachments": {},
   "cell_type": "markdown",
   "metadata": {},
   "source": []
  },
  {
   "cell_type": "code",
   "execution_count": 186,
   "metadata": {},
   "outputs": [],
   "source": [
    "directory = \"../data\"\n"
   ]
  },
  {
   "cell_type": "code",
   "execution_count": 187,
   "metadata": {},
   "outputs": [],
   "source": [
    "train = pd.read_csv(os.path.join(directory, \"train.csv\"))\n",
    "meta_data = pd.read_csv(os.path.join(directory, \"greeks.csv\"))\n",
    "test = pd.read_csv(os.path.join(directory, \"test.csv\"))"
   ]
  },
  {
   "cell_type": "markdown",
   "metadata": {
    "collapsed": false
   },
   "source": [
    "### Exploratory Data Analysis"
   ]
  },
  {
   "cell_type": "code",
   "execution_count": 188,
   "metadata": {
    "collapsed": false
   },
   "outputs": [
    {
     "data": {
      "text/html": [
       "<div>\n",
       "<style scoped>\n",
       "    .dataframe tbody tr th:only-of-type {\n",
       "        vertical-align: middle;\n",
       "    }\n",
       "\n",
       "    .dataframe tbody tr th {\n",
       "        vertical-align: top;\n",
       "    }\n",
       "\n",
       "    .dataframe thead th {\n",
       "        text-align: right;\n",
       "    }\n",
       "</style>\n",
       "<table border=\"1\" class=\"dataframe\">\n",
       "  <thead>\n",
       "    <tr style=\"text-align: right;\">\n",
       "      <th></th>\n",
       "      <th>Id</th>\n",
       "      <th>AB</th>\n",
       "      <th>AF</th>\n",
       "      <th>AH</th>\n",
       "      <th>AM</th>\n",
       "      <th>AR</th>\n",
       "      <th>AX</th>\n",
       "      <th>AY</th>\n",
       "      <th>AZ</th>\n",
       "      <th>BC</th>\n",
       "      <th>...</th>\n",
       "      <th>FL</th>\n",
       "      <th>FR</th>\n",
       "      <th>FS</th>\n",
       "      <th>GB</th>\n",
       "      <th>GE</th>\n",
       "      <th>GF</th>\n",
       "      <th>GH</th>\n",
       "      <th>GI</th>\n",
       "      <th>GL</th>\n",
       "      <th>Class</th>\n",
       "    </tr>\n",
       "  </thead>\n",
       "  <tbody>\n",
       "    <tr>\n",
       "      <th>0</th>\n",
       "      <td>000ff2bfdfe9</td>\n",
       "      <td>0.209377</td>\n",
       "      <td>3109.03329</td>\n",
       "      <td>85.200147</td>\n",
       "      <td>22.394407</td>\n",
       "      <td>8.138688</td>\n",
       "      <td>0.699861</td>\n",
       "      <td>0.025578</td>\n",
       "      <td>9.812214</td>\n",
       "      <td>5.555634</td>\n",
       "      <td>...</td>\n",
       "      <td>7.298162</td>\n",
       "      <td>1.73855</td>\n",
       "      <td>0.094822</td>\n",
       "      <td>11.339138</td>\n",
       "      <td>72.611063</td>\n",
       "      <td>2003.810319</td>\n",
       "      <td>22.136229</td>\n",
       "      <td>69.834944</td>\n",
       "      <td>0.120343</td>\n",
       "      <td>1</td>\n",
       "    </tr>\n",
       "    <tr>\n",
       "      <th>1</th>\n",
       "      <td>007255e47698</td>\n",
       "      <td>0.145282</td>\n",
       "      <td>978.76416</td>\n",
       "      <td>85.200147</td>\n",
       "      <td>36.968889</td>\n",
       "      <td>8.138688</td>\n",
       "      <td>3.632190</td>\n",
       "      <td>0.025578</td>\n",
       "      <td>13.517790</td>\n",
       "      <td>1.229900</td>\n",
       "      <td>...</td>\n",
       "      <td>0.173229</td>\n",
       "      <td>0.49706</td>\n",
       "      <td>0.568932</td>\n",
       "      <td>9.292698</td>\n",
       "      <td>72.611063</td>\n",
       "      <td>27981.562750</td>\n",
       "      <td>29.135430</td>\n",
       "      <td>32.131996</td>\n",
       "      <td>21.978000</td>\n",
       "      <td>0</td>\n",
       "    </tr>\n",
       "    <tr>\n",
       "      <th>2</th>\n",
       "      <td>013f2bd269f5</td>\n",
       "      <td>0.470030</td>\n",
       "      <td>2635.10654</td>\n",
       "      <td>85.200147</td>\n",
       "      <td>32.360553</td>\n",
       "      <td>8.138688</td>\n",
       "      <td>6.732840</td>\n",
       "      <td>0.025578</td>\n",
       "      <td>12.824570</td>\n",
       "      <td>1.229900</td>\n",
       "      <td>...</td>\n",
       "      <td>7.709560</td>\n",
       "      <td>0.97556</td>\n",
       "      <td>1.198821</td>\n",
       "      <td>37.077772</td>\n",
       "      <td>88.609437</td>\n",
       "      <td>13676.957810</td>\n",
       "      <td>28.022851</td>\n",
       "      <td>35.192676</td>\n",
       "      <td>0.196941</td>\n",
       "      <td>0</td>\n",
       "    </tr>\n",
       "    <tr>\n",
       "      <th>3</th>\n",
       "      <td>043ac50845d5</td>\n",
       "      <td>0.252107</td>\n",
       "      <td>3819.65177</td>\n",
       "      <td>120.201618</td>\n",
       "      <td>77.112203</td>\n",
       "      <td>8.138688</td>\n",
       "      <td>3.685344</td>\n",
       "      <td>0.025578</td>\n",
       "      <td>11.053708</td>\n",
       "      <td>1.229900</td>\n",
       "      <td>...</td>\n",
       "      <td>6.122162</td>\n",
       "      <td>0.49706</td>\n",
       "      <td>0.284466</td>\n",
       "      <td>18.529584</td>\n",
       "      <td>82.416803</td>\n",
       "      <td>2094.262452</td>\n",
       "      <td>39.948656</td>\n",
       "      <td>90.493248</td>\n",
       "      <td>0.155829</td>\n",
       "      <td>0</td>\n",
       "    </tr>\n",
       "    <tr>\n",
       "      <th>4</th>\n",
       "      <td>044fb8a146ec</td>\n",
       "      <td>0.380297</td>\n",
       "      <td>3733.04844</td>\n",
       "      <td>85.200147</td>\n",
       "      <td>14.103738</td>\n",
       "      <td>8.138688</td>\n",
       "      <td>3.942255</td>\n",
       "      <td>0.054810</td>\n",
       "      <td>3.396778</td>\n",
       "      <td>102.151980</td>\n",
       "      <td>...</td>\n",
       "      <td>8.153058</td>\n",
       "      <td>48.50134</td>\n",
       "      <td>0.121914</td>\n",
       "      <td>16.408728</td>\n",
       "      <td>146.109943</td>\n",
       "      <td>8524.370502</td>\n",
       "      <td>45.381316</td>\n",
       "      <td>36.262628</td>\n",
       "      <td>0.096614</td>\n",
       "      <td>1</td>\n",
       "    </tr>\n",
       "  </tbody>\n",
       "</table>\n",
       "<p>5 rows × 58 columns</p>\n",
       "</div>"
      ],
      "text/plain": [
       "             Id        AB          AF          AH         AM        AR  \\\n",
       "0  000ff2bfdfe9  0.209377  3109.03329   85.200147  22.394407  8.138688   \n",
       "1  007255e47698  0.145282   978.76416   85.200147  36.968889  8.138688   \n",
       "2  013f2bd269f5  0.470030  2635.10654   85.200147  32.360553  8.138688   \n",
       "3  043ac50845d5  0.252107  3819.65177  120.201618  77.112203  8.138688   \n",
       "4  044fb8a146ec  0.380297  3733.04844   85.200147  14.103738  8.138688   \n",
       "\n",
       "         AX        AY         AZ          BC  ...        FL        FR  \\\n",
       "0  0.699861  0.025578   9.812214    5.555634  ...  7.298162   1.73855   \n",
       "1  3.632190  0.025578  13.517790    1.229900  ...  0.173229   0.49706   \n",
       "2  6.732840  0.025578  12.824570    1.229900  ...  7.709560   0.97556   \n",
       "3  3.685344  0.025578  11.053708    1.229900  ...  6.122162   0.49706   \n",
       "4  3.942255  0.054810   3.396778  102.151980  ...  8.153058  48.50134   \n",
       "\n",
       "         FS         GB          GE            GF         GH         GI  \\\n",
       "0  0.094822  11.339138   72.611063   2003.810319  22.136229  69.834944   \n",
       "1  0.568932   9.292698   72.611063  27981.562750  29.135430  32.131996   \n",
       "2  1.198821  37.077772   88.609437  13676.957810  28.022851  35.192676   \n",
       "3  0.284466  18.529584   82.416803   2094.262452  39.948656  90.493248   \n",
       "4  0.121914  16.408728  146.109943   8524.370502  45.381316  36.262628   \n",
       "\n",
       "          GL  Class  \n",
       "0   0.120343      1  \n",
       "1  21.978000      0  \n",
       "2   0.196941      0  \n",
       "3   0.155829      0  \n",
       "4   0.096614      1  \n",
       "\n",
       "[5 rows x 58 columns]"
      ]
     },
     "execution_count": 188,
     "metadata": {},
     "output_type": "execute_result"
    }
   ],
   "source": [
    "train.head() # a lot of columns!"
   ]
  },
  {
   "cell_type": "code",
   "execution_count": 189,
   "metadata": {
    "collapsed": false
   },
   "outputs": [
    {
     "data": {
      "text/html": [
       "<div>\n",
       "<style scoped>\n",
       "    .dataframe tbody tr th:only-of-type {\n",
       "        vertical-align: middle;\n",
       "    }\n",
       "\n",
       "    .dataframe tbody tr th {\n",
       "        vertical-align: top;\n",
       "    }\n",
       "\n",
       "    .dataframe thead th {\n",
       "        text-align: right;\n",
       "    }\n",
       "</style>\n",
       "<table border=\"1\" class=\"dataframe\">\n",
       "  <thead>\n",
       "    <tr style=\"text-align: right;\">\n",
       "      <th></th>\n",
       "      <th>AB</th>\n",
       "      <th>AF</th>\n",
       "      <th>AH</th>\n",
       "      <th>AM</th>\n",
       "      <th>AR</th>\n",
       "      <th>AX</th>\n",
       "      <th>AY</th>\n",
       "      <th>AZ</th>\n",
       "      <th>BC</th>\n",
       "      <th>BD</th>\n",
       "      <th>...</th>\n",
       "      <th>FL</th>\n",
       "      <th>FR</th>\n",
       "      <th>FS</th>\n",
       "      <th>GB</th>\n",
       "      <th>GE</th>\n",
       "      <th>GF</th>\n",
       "      <th>GH</th>\n",
       "      <th>GI</th>\n",
       "      <th>GL</th>\n",
       "      <th>Class</th>\n",
       "    </tr>\n",
       "  </thead>\n",
       "  <tbody>\n",
       "    <tr>\n",
       "      <th>count</th>\n",
       "      <td>617.000000</td>\n",
       "      <td>617.000000</td>\n",
       "      <td>617.000000</td>\n",
       "      <td>617.000000</td>\n",
       "      <td>617.000000</td>\n",
       "      <td>617.000000</td>\n",
       "      <td>617.000000</td>\n",
       "      <td>617.000000</td>\n",
       "      <td>617.000000</td>\n",
       "      <td>617.000000</td>\n",
       "      <td>...</td>\n",
       "      <td>616.000000</td>\n",
       "      <td>617.000000</td>\n",
       "      <td>615.000000</td>\n",
       "      <td>617.000000</td>\n",
       "      <td>617.000000</td>\n",
       "      <td>617.000000</td>\n",
       "      <td>617.000000</td>\n",
       "      <td>617.000000</td>\n",
       "      <td>616.000000</td>\n",
       "      <td>617.000000</td>\n",
       "    </tr>\n",
       "    <tr>\n",
       "      <th>mean</th>\n",
       "      <td>0.477149</td>\n",
       "      <td>3502.013221</td>\n",
       "      <td>118.624513</td>\n",
       "      <td>38.968552</td>\n",
       "      <td>10.128242</td>\n",
       "      <td>5.545576</td>\n",
       "      <td>0.060320</td>\n",
       "      <td>10.566447</td>\n",
       "      <td>8.053012</td>\n",
       "      <td>5350.388655</td>\n",
       "      <td>...</td>\n",
       "      <td>5.433199</td>\n",
       "      <td>3.533905</td>\n",
       "      <td>0.421501</td>\n",
       "      <td>20.724856</td>\n",
       "      <td>131.714987</td>\n",
       "      <td>14679.595398</td>\n",
       "      <td>31.489716</td>\n",
       "      <td>50.584437</td>\n",
       "      <td>8.530961</td>\n",
       "      <td>0.175041</td>\n",
       "    </tr>\n",
       "    <tr>\n",
       "      <th>std</th>\n",
       "      <td>0.468388</td>\n",
       "      <td>2300.322717</td>\n",
       "      <td>127.838950</td>\n",
       "      <td>69.728226</td>\n",
       "      <td>10.518877</td>\n",
       "      <td>2.551696</td>\n",
       "      <td>0.416817</td>\n",
       "      <td>4.350645</td>\n",
       "      <td>65.166943</td>\n",
       "      <td>3021.326641</td>\n",
       "      <td>...</td>\n",
       "      <td>11.496257</td>\n",
       "      <td>50.181948</td>\n",
       "      <td>1.305365</td>\n",
       "      <td>9.991907</td>\n",
       "      <td>144.181524</td>\n",
       "      <td>19352.959387</td>\n",
       "      <td>9.864239</td>\n",
       "      <td>36.266251</td>\n",
       "      <td>10.327010</td>\n",
       "      <td>0.380310</td>\n",
       "    </tr>\n",
       "    <tr>\n",
       "      <th>min</th>\n",
       "      <td>0.081187</td>\n",
       "      <td>192.593280</td>\n",
       "      <td>85.200147</td>\n",
       "      <td>3.177522</td>\n",
       "      <td>8.138688</td>\n",
       "      <td>0.699861</td>\n",
       "      <td>0.025578</td>\n",
       "      <td>3.396778</td>\n",
       "      <td>1.229900</td>\n",
       "      <td>1693.624320</td>\n",
       "      <td>...</td>\n",
       "      <td>0.173229</td>\n",
       "      <td>0.497060</td>\n",
       "      <td>0.067730</td>\n",
       "      <td>4.102182</td>\n",
       "      <td>72.611063</td>\n",
       "      <td>13.038894</td>\n",
       "      <td>9.432735</td>\n",
       "      <td>0.897628</td>\n",
       "      <td>0.001129</td>\n",
       "      <td>0.000000</td>\n",
       "    </tr>\n",
       "    <tr>\n",
       "      <th>25%</th>\n",
       "      <td>0.252107</td>\n",
       "      <td>2197.345480</td>\n",
       "      <td>85.200147</td>\n",
       "      <td>12.270314</td>\n",
       "      <td>8.138688</td>\n",
       "      <td>4.128294</td>\n",
       "      <td>0.025578</td>\n",
       "      <td>8.129580</td>\n",
       "      <td>1.229900</td>\n",
       "      <td>4155.702870</td>\n",
       "      <td>...</td>\n",
       "      <td>0.173229</td>\n",
       "      <td>0.497060</td>\n",
       "      <td>0.067730</td>\n",
       "      <td>14.036718</td>\n",
       "      <td>72.611063</td>\n",
       "      <td>2798.992584</td>\n",
       "      <td>25.034888</td>\n",
       "      <td>23.011684</td>\n",
       "      <td>0.124392</td>\n",
       "      <td>0.000000</td>\n",
       "    </tr>\n",
       "    <tr>\n",
       "      <th>50%</th>\n",
       "      <td>0.354659</td>\n",
       "      <td>3120.318960</td>\n",
       "      <td>85.200147</td>\n",
       "      <td>20.533110</td>\n",
       "      <td>8.138688</td>\n",
       "      <td>5.031912</td>\n",
       "      <td>0.025578</td>\n",
       "      <td>10.461320</td>\n",
       "      <td>1.229900</td>\n",
       "      <td>4997.960730</td>\n",
       "      <td>...</td>\n",
       "      <td>3.028141</td>\n",
       "      <td>1.131000</td>\n",
       "      <td>0.250601</td>\n",
       "      <td>18.771436</td>\n",
       "      <td>72.611063</td>\n",
       "      <td>7838.273610</td>\n",
       "      <td>30.608946</td>\n",
       "      <td>41.007968</td>\n",
       "      <td>0.337827</td>\n",
       "      <td>0.000000</td>\n",
       "    </tr>\n",
       "    <tr>\n",
       "      <th>75%</th>\n",
       "      <td>0.559763</td>\n",
       "      <td>4361.637390</td>\n",
       "      <td>113.739540</td>\n",
       "      <td>39.139886</td>\n",
       "      <td>8.138688</td>\n",
       "      <td>6.431634</td>\n",
       "      <td>0.036845</td>\n",
       "      <td>12.969516</td>\n",
       "      <td>5.081244</td>\n",
       "      <td>6035.885700</td>\n",
       "      <td>...</td>\n",
       "      <td>6.238814</td>\n",
       "      <td>1.512060</td>\n",
       "      <td>0.535067</td>\n",
       "      <td>25.608406</td>\n",
       "      <td>127.591671</td>\n",
       "      <td>19035.709240</td>\n",
       "      <td>36.863947</td>\n",
       "      <td>67.931664</td>\n",
       "      <td>21.978000</td>\n",
       "      <td>0.000000</td>\n",
       "    </tr>\n",
       "    <tr>\n",
       "      <th>max</th>\n",
       "      <td>6.161666</td>\n",
       "      <td>28688.187660</td>\n",
       "      <td>1910.123198</td>\n",
       "      <td>630.518230</td>\n",
       "      <td>178.943634</td>\n",
       "      <td>38.270880</td>\n",
       "      <td>10.315851</td>\n",
       "      <td>38.971568</td>\n",
       "      <td>1463.693448</td>\n",
       "      <td>53060.599240</td>\n",
       "      <td>...</td>\n",
       "      <td>137.932739</td>\n",
       "      <td>1244.227020</td>\n",
       "      <td>31.365763</td>\n",
       "      <td>135.781294</td>\n",
       "      <td>1497.351958</td>\n",
       "      <td>143790.071200</td>\n",
       "      <td>81.210825</td>\n",
       "      <td>191.194764</td>\n",
       "      <td>21.978000</td>\n",
       "      <td>1.000000</td>\n",
       "    </tr>\n",
       "  </tbody>\n",
       "</table>\n",
       "<p>8 rows × 56 columns</p>\n",
       "</div>"
      ],
      "text/plain": [
       "               AB            AF           AH          AM          AR  \\\n",
       "count  617.000000    617.000000   617.000000  617.000000  617.000000   \n",
       "mean     0.477149   3502.013221   118.624513   38.968552   10.128242   \n",
       "std      0.468388   2300.322717   127.838950   69.728226   10.518877   \n",
       "min      0.081187    192.593280    85.200147    3.177522    8.138688   \n",
       "25%      0.252107   2197.345480    85.200147   12.270314    8.138688   \n",
       "50%      0.354659   3120.318960    85.200147   20.533110    8.138688   \n",
       "75%      0.559763   4361.637390   113.739540   39.139886    8.138688   \n",
       "max      6.161666  28688.187660  1910.123198  630.518230  178.943634   \n",
       "\n",
       "               AX          AY          AZ           BC           BD   ...  \\\n",
       "count  617.000000  617.000000  617.000000   617.000000    617.000000  ...   \n",
       "mean     5.545576    0.060320   10.566447     8.053012   5350.388655  ...   \n",
       "std      2.551696    0.416817    4.350645    65.166943   3021.326641  ...   \n",
       "min      0.699861    0.025578    3.396778     1.229900   1693.624320  ...   \n",
       "25%      4.128294    0.025578    8.129580     1.229900   4155.702870  ...   \n",
       "50%      5.031912    0.025578   10.461320     1.229900   4997.960730  ...   \n",
       "75%      6.431634    0.036845   12.969516     5.081244   6035.885700  ...   \n",
       "max     38.270880   10.315851   38.971568  1463.693448  53060.599240  ...   \n",
       "\n",
       "               FL           FR          FS          GB           GE  \\\n",
       "count  616.000000   617.000000  615.000000  617.000000   617.000000   \n",
       "mean     5.433199     3.533905    0.421501   20.724856   131.714987   \n",
       "std     11.496257    50.181948    1.305365    9.991907   144.181524   \n",
       "min      0.173229     0.497060    0.067730    4.102182    72.611063   \n",
       "25%      0.173229     0.497060    0.067730   14.036718    72.611063   \n",
       "50%      3.028141     1.131000    0.250601   18.771436    72.611063   \n",
       "75%      6.238814     1.512060    0.535067   25.608406   127.591671   \n",
       "max    137.932739  1244.227020   31.365763  135.781294  1497.351958   \n",
       "\n",
       "                  GF          GH          GI          GL       Class  \n",
       "count     617.000000  617.000000  617.000000  616.000000  617.000000  \n",
       "mean    14679.595398   31.489716   50.584437    8.530961    0.175041  \n",
       "std     19352.959387    9.864239   36.266251   10.327010    0.380310  \n",
       "min        13.038894    9.432735    0.897628    0.001129    0.000000  \n",
       "25%      2798.992584   25.034888   23.011684    0.124392    0.000000  \n",
       "50%      7838.273610   30.608946   41.007968    0.337827    0.000000  \n",
       "75%     19035.709240   36.863947   67.931664   21.978000    0.000000  \n",
       "max    143790.071200   81.210825  191.194764   21.978000    1.000000  \n",
       "\n",
       "[8 rows x 56 columns]"
      ]
     },
     "execution_count": 189,
     "metadata": {},
     "output_type": "execute_result"
    }
   ],
   "source": [
    "train.describe() # may be coming from different distribution\n"
   ]
  },
  {
   "cell_type": "code",
   "execution_count": 190,
   "metadata": {
    "collapsed": false
   },
   "outputs": [
    {
     "name": "stdout",
     "output_type": "stream",
     "text": [
      "<class 'pandas.core.frame.DataFrame'>\n",
      "RangeIndex: 617 entries, 0 to 616\n",
      "Data columns (total 58 columns):\n",
      " #   Column  Non-Null Count  Dtype  \n",
      "---  ------  --------------  -----  \n",
      " 0   Id      617 non-null    object \n",
      " 1   AB      617 non-null    float64\n",
      " 2   AF      617 non-null    float64\n",
      " 3   AH      617 non-null    float64\n",
      " 4   AM      617 non-null    float64\n",
      " 5   AR      617 non-null    float64\n",
      " 6   AX      617 non-null    float64\n",
      " 7   AY      617 non-null    float64\n",
      " 8   AZ      617 non-null    float64\n",
      " 9   BC      617 non-null    float64\n",
      " 10  BD      617 non-null    float64\n",
      " 11  BN      617 non-null    float64\n",
      " 12  BP      617 non-null    float64\n",
      " 13  BQ      557 non-null    float64\n",
      " 14  BR      617 non-null    float64\n",
      " 15  BZ      617 non-null    float64\n",
      " 16  CB      615 non-null    float64\n",
      " 17  CC      614 non-null    float64\n",
      " 18  CD      617 non-null    float64\n",
      " 19  CF      617 non-null    float64\n",
      " 20  CH      617 non-null    float64\n",
      " 21  CL      617 non-null    float64\n",
      " 22  CR      617 non-null    float64\n",
      " 23  CS      617 non-null    float64\n",
      " 24  CU      617 non-null    float64\n",
      " 25  CW      617 non-null    float64\n",
      " 26  DA      617 non-null    float64\n",
      " 27  DE      617 non-null    float64\n",
      " 28  DF      617 non-null    float64\n",
      " 29  DH      617 non-null    float64\n",
      " 30  DI      617 non-null    float64\n",
      " 31  DL      617 non-null    float64\n",
      " 32  DN      617 non-null    float64\n",
      " 33  DU      616 non-null    float64\n",
      " 34  DV      617 non-null    float64\n",
      " 35  DY      617 non-null    float64\n",
      " 36  EB      617 non-null    float64\n",
      " 37  EE      617 non-null    float64\n",
      " 38  EG      617 non-null    float64\n",
      " 39  EH      617 non-null    float64\n",
      " 40  EJ      617 non-null    object \n",
      " 41  EL      557 non-null    float64\n",
      " 42  EP      617 non-null    float64\n",
      " 43  EU      617 non-null    float64\n",
      " 44  FC      616 non-null    float64\n",
      " 45  FD      617 non-null    float64\n",
      " 46  FE      617 non-null    float64\n",
      " 47  FI      617 non-null    float64\n",
      " 48  FL      616 non-null    float64\n",
      " 49  FR      617 non-null    float64\n",
      " 50  FS      615 non-null    float64\n",
      " 51  GB      617 non-null    float64\n",
      " 52  GE      617 non-null    float64\n",
      " 53  GF      617 non-null    float64\n",
      " 54  GH      617 non-null    float64\n",
      " 55  GI      617 non-null    float64\n",
      " 56  GL      616 non-null    float64\n",
      " 57  Class   617 non-null    int64  \n",
      "dtypes: float64(55), int64(1), object(2)\n",
      "memory usage: 279.7+ KB\n"
     ]
    }
   ],
   "source": [
    "train.info() # can see that there are several null values in the data"
   ]
  },
  {
   "cell_type": "code",
   "execution_count": 191,
   "metadata": {},
   "outputs": [
    {
     "data": {
      "text/plain": [
       "Id       617\n",
       "AB       217\n",
       "AF       599\n",
       "AH       227\n",
       "AM       605\n",
       "AR       130\n",
       "AX       427\n",
       "AY       148\n",
       "AZ       484\n",
       "BC       259\n",
       "BD       617\n",
       "BN        53\n",
       "BP       612\n",
       "BQ       515\n",
       "BR       566\n",
       "BZ       115\n",
       "CB       553\n",
       "CC       602\n",
       "CD       584\n",
       "CF       586\n",
       "CH       135\n",
       "CL       123\n",
       "CR       595\n",
       "CS       576\n",
       "CU       307\n",
       "CW       426\n",
       "DA       611\n",
       "DE       616\n",
       "DF       137\n",
       "DH       191\n",
       "DI       571\n",
       "DL       604\n",
       "DN       576\n",
       "DU       253\n",
       "DV        39\n",
       "DY       590\n",
       "EB       439\n",
       "EE       513\n",
       "EG       610\n",
       "EH       127\n",
       "EJ         2\n",
       "EL       311\n",
       "EP       275\n",
       "EU       455\n",
       "FC       600\n",
       "FD       337\n",
       "FE       615\n",
       "FI       498\n",
       "FL       388\n",
       "FR       435\n",
       "FS       161\n",
       "GB       560\n",
       "GE       264\n",
       "GF       611\n",
       "GH       596\n",
       "GI       615\n",
       "GL       355\n",
       "Class      2\n",
       "dtype: int64"
      ]
     },
     "execution_count": 191,
     "metadata": {},
     "output_type": "execute_result"
    }
   ],
   "source": [
    "train.nunique()"
   ]
  },
  {
   "cell_type": "code",
   "execution_count": 192,
   "metadata": {
    "collapsed": false
   },
   "outputs": [
    {
     "name": "stdout",
     "output_type": "stream",
     "text": [
      "BQ    60\n",
      "CB     2\n",
      "CC     3\n",
      "DU     1\n",
      "EL    60\n",
      "FC     1\n",
      "FL     1\n",
      "FS     2\n",
      "GL     1\n",
      "dtype: int64\n"
     ]
    }
   ],
   "source": [
    "null_cols = train.columns[train.isnull().any()]\n",
    "print(train[null_cols].isnull().sum()) # remove BQ and EL since they have more 50 null values\n"
   ]
  },
  {
   "cell_type": "code",
   "execution_count": 193,
   "metadata": {
    "collapsed": false
   },
   "outputs": [],
   "source": [
    "train = train.drop(['BQ', 'EL'], axis=1)\n",
    "\n"
   ]
  },
  {
   "cell_type": "code",
   "execution_count": 194,
   "metadata": {
    "collapsed": false
   },
   "outputs": [],
   "source": [
    "null_cols = train.columns[train.isnull().any()]\n",
    "for col in null_cols:\n",
    "    train[col].fillna(train[col].mean(), inplace=True)\n"
   ]
  },
  {
   "cell_type": "code",
   "execution_count": 195,
   "metadata": {
    "collapsed": false
   },
   "outputs": [
    {
     "name": "stdout",
     "output_type": "stream",
     "text": [
      "<class 'pandas.core.frame.DataFrame'>\n",
      "RangeIndex: 617 entries, 0 to 616\n",
      "Data columns (total 56 columns):\n",
      " #   Column  Non-Null Count  Dtype  \n",
      "---  ------  --------------  -----  \n",
      " 0   Id      617 non-null    object \n",
      " 1   AB      617 non-null    float64\n",
      " 2   AF      617 non-null    float64\n",
      " 3   AH      617 non-null    float64\n",
      " 4   AM      617 non-null    float64\n",
      " 5   AR      617 non-null    float64\n",
      " 6   AX      617 non-null    float64\n",
      " 7   AY      617 non-null    float64\n",
      " 8   AZ      617 non-null    float64\n",
      " 9   BC      617 non-null    float64\n",
      " 10  BD      617 non-null    float64\n",
      " 11  BN      617 non-null    float64\n",
      " 12  BP      617 non-null    float64\n",
      " 13  BR      617 non-null    float64\n",
      " 14  BZ      617 non-null    float64\n",
      " 15  CB      617 non-null    float64\n",
      " 16  CC      617 non-null    float64\n",
      " 17  CD      617 non-null    float64\n",
      " 18  CF      617 non-null    float64\n",
      " 19  CH      617 non-null    float64\n",
      " 20  CL      617 non-null    float64\n",
      " 21  CR      617 non-null    float64\n",
      " 22  CS      617 non-null    float64\n",
      " 23  CU      617 non-null    float64\n",
      " 24  CW      617 non-null    float64\n",
      " 25  DA      617 non-null    float64\n",
      " 26  DE      617 non-null    float64\n",
      " 27  DF      617 non-null    float64\n",
      " 28  DH      617 non-null    float64\n",
      " 29  DI      617 non-null    float64\n",
      " 30  DL      617 non-null    float64\n",
      " 31  DN      617 non-null    float64\n",
      " 32  DU      617 non-null    float64\n",
      " 33  DV      617 non-null    float64\n",
      " 34  DY      617 non-null    float64\n",
      " 35  EB      617 non-null    float64\n",
      " 36  EE      617 non-null    float64\n",
      " 37  EG      617 non-null    float64\n",
      " 38  EH      617 non-null    float64\n",
      " 39  EJ      617 non-null    object \n",
      " 40  EP      617 non-null    float64\n",
      " 41  EU      617 non-null    float64\n",
      " 42  FC      617 non-null    float64\n",
      " 43  FD      617 non-null    float64\n",
      " 44  FE      617 non-null    float64\n",
      " 45  FI      617 non-null    float64\n",
      " 46  FL      617 non-null    float64\n",
      " 47  FR      617 non-null    float64\n",
      " 48  FS      617 non-null    float64\n",
      " 49  GB      617 non-null    float64\n",
      " 50  GE      617 non-null    float64\n",
      " 51  GF      617 non-null    float64\n",
      " 52  GH      617 non-null    float64\n",
      " 53  GI      617 non-null    float64\n",
      " 54  GL      617 non-null    float64\n",
      " 55  Class   617 non-null    int64  \n",
      "dtypes: float64(53), int64(1), object(2)\n",
      "memory usage: 270.1+ KB\n"
     ]
    }
   ],
   "source": [
    "train.info() # no more null values\n"
   ]
  },
  {
   "cell_type": "code",
   "execution_count": 196,
   "metadata": {
    "collapsed": false
   },
   "outputs": [
    {
     "name": "stdout",
     "output_type": "stream",
     "text": [
      "0      1\n",
      "1      0\n",
      "2      0\n",
      "3      0\n",
      "4      1\n",
      "      ..\n",
      "612    0\n",
      "613    0\n",
      "614    0\n",
      "615    0\n",
      "616    0\n",
      "Name: Class, Length: 617, dtype: int64\n"
     ]
    },
    {
     "data": {
      "text/html": [
       "<div>\n",
       "<style scoped>\n",
       "    .dataframe tbody tr th:only-of-type {\n",
       "        vertical-align: middle;\n",
       "    }\n",
       "\n",
       "    .dataframe tbody tr th {\n",
       "        vertical-align: top;\n",
       "    }\n",
       "\n",
       "    .dataframe thead th {\n",
       "        text-align: right;\n",
       "    }\n",
       "</style>\n",
       "<table border=\"1\" class=\"dataframe\">\n",
       "  <thead>\n",
       "    <tr style=\"text-align: right;\">\n",
       "      <th></th>\n",
       "      <th>AB</th>\n",
       "      <th>AF</th>\n",
       "      <th>AH</th>\n",
       "      <th>AM</th>\n",
       "      <th>AR</th>\n",
       "      <th>AX</th>\n",
       "      <th>AY</th>\n",
       "      <th>AZ</th>\n",
       "      <th>BC</th>\n",
       "      <th>BD</th>\n",
       "      <th>...</th>\n",
       "      <th>FI</th>\n",
       "      <th>FL</th>\n",
       "      <th>FR</th>\n",
       "      <th>FS</th>\n",
       "      <th>GB</th>\n",
       "      <th>GE</th>\n",
       "      <th>GF</th>\n",
       "      <th>GH</th>\n",
       "      <th>GI</th>\n",
       "      <th>GL</th>\n",
       "    </tr>\n",
       "  </thead>\n",
       "  <tbody>\n",
       "    <tr>\n",
       "      <th>0</th>\n",
       "      <td>0.209377</td>\n",
       "      <td>3109.03329</td>\n",
       "      <td>85.200147</td>\n",
       "      <td>22.394407</td>\n",
       "      <td>8.138688</td>\n",
       "      <td>0.699861</td>\n",
       "      <td>0.025578</td>\n",
       "      <td>9.812214</td>\n",
       "      <td>5.555634</td>\n",
       "      <td>4126.58731</td>\n",
       "      <td>...</td>\n",
       "      <td>3.583450</td>\n",
       "      <td>7.298162</td>\n",
       "      <td>1.73855</td>\n",
       "      <td>0.094822</td>\n",
       "      <td>11.339138</td>\n",
       "      <td>72.611063</td>\n",
       "      <td>2003.810319</td>\n",
       "      <td>22.136229</td>\n",
       "      <td>69.834944</td>\n",
       "      <td>0.120343</td>\n",
       "    </tr>\n",
       "    <tr>\n",
       "      <th>1</th>\n",
       "      <td>0.145282</td>\n",
       "      <td>978.76416</td>\n",
       "      <td>85.200147</td>\n",
       "      <td>36.968889</td>\n",
       "      <td>8.138688</td>\n",
       "      <td>3.632190</td>\n",
       "      <td>0.025578</td>\n",
       "      <td>13.517790</td>\n",
       "      <td>1.229900</td>\n",
       "      <td>5496.92824</td>\n",
       "      <td>...</td>\n",
       "      <td>10.358927</td>\n",
       "      <td>0.173229</td>\n",
       "      <td>0.49706</td>\n",
       "      <td>0.568932</td>\n",
       "      <td>9.292698</td>\n",
       "      <td>72.611063</td>\n",
       "      <td>27981.562750</td>\n",
       "      <td>29.135430</td>\n",
       "      <td>32.131996</td>\n",
       "      <td>21.978000</td>\n",
       "    </tr>\n",
       "    <tr>\n",
       "      <th>2</th>\n",
       "      <td>0.470030</td>\n",
       "      <td>2635.10654</td>\n",
       "      <td>85.200147</td>\n",
       "      <td>32.360553</td>\n",
       "      <td>8.138688</td>\n",
       "      <td>6.732840</td>\n",
       "      <td>0.025578</td>\n",
       "      <td>12.824570</td>\n",
       "      <td>1.229900</td>\n",
       "      <td>5135.78024</td>\n",
       "      <td>...</td>\n",
       "      <td>11.626917</td>\n",
       "      <td>7.709560</td>\n",
       "      <td>0.97556</td>\n",
       "      <td>1.198821</td>\n",
       "      <td>37.077772</td>\n",
       "      <td>88.609437</td>\n",
       "      <td>13676.957810</td>\n",
       "      <td>28.022851</td>\n",
       "      <td>35.192676</td>\n",
       "      <td>0.196941</td>\n",
       "    </tr>\n",
       "    <tr>\n",
       "      <th>3</th>\n",
       "      <td>0.252107</td>\n",
       "      <td>3819.65177</td>\n",
       "      <td>120.201618</td>\n",
       "      <td>77.112203</td>\n",
       "      <td>8.138688</td>\n",
       "      <td>3.685344</td>\n",
       "      <td>0.025578</td>\n",
       "      <td>11.053708</td>\n",
       "      <td>1.229900</td>\n",
       "      <td>4169.67738</td>\n",
       "      <td>...</td>\n",
       "      <td>14.852022</td>\n",
       "      <td>6.122162</td>\n",
       "      <td>0.49706</td>\n",
       "      <td>0.284466</td>\n",
       "      <td>18.529584</td>\n",
       "      <td>82.416803</td>\n",
       "      <td>2094.262452</td>\n",
       "      <td>39.948656</td>\n",
       "      <td>90.493248</td>\n",
       "      <td>0.155829</td>\n",
       "    </tr>\n",
       "    <tr>\n",
       "      <th>4</th>\n",
       "      <td>0.380297</td>\n",
       "      <td>3733.04844</td>\n",
       "      <td>85.200147</td>\n",
       "      <td>14.103738</td>\n",
       "      <td>8.138688</td>\n",
       "      <td>3.942255</td>\n",
       "      <td>0.054810</td>\n",
       "      <td>3.396778</td>\n",
       "      <td>102.151980</td>\n",
       "      <td>5728.73412</td>\n",
       "      <td>...</td>\n",
       "      <td>13.666727</td>\n",
       "      <td>8.153058</td>\n",
       "      <td>48.50134</td>\n",
       "      <td>0.121914</td>\n",
       "      <td>16.408728</td>\n",
       "      <td>146.109943</td>\n",
       "      <td>8524.370502</td>\n",
       "      <td>45.381316</td>\n",
       "      <td>36.262628</td>\n",
       "      <td>0.096614</td>\n",
       "    </tr>\n",
       "  </tbody>\n",
       "</table>\n",
       "<p>5 rows × 54 columns</p>\n",
       "</div>"
      ],
      "text/plain": [
       "         AB          AF          AH         AM        AR        AX        AY  \\\n",
       "0  0.209377  3109.03329   85.200147  22.394407  8.138688  0.699861  0.025578   \n",
       "1  0.145282   978.76416   85.200147  36.968889  8.138688  3.632190  0.025578   \n",
       "2  0.470030  2635.10654   85.200147  32.360553  8.138688  6.732840  0.025578   \n",
       "3  0.252107  3819.65177  120.201618  77.112203  8.138688  3.685344  0.025578   \n",
       "4  0.380297  3733.04844   85.200147  14.103738  8.138688  3.942255  0.054810   \n",
       "\n",
       "          AZ          BC         BD   ...         FI        FL        FR  \\\n",
       "0   9.812214    5.555634  4126.58731  ...   3.583450  7.298162   1.73855   \n",
       "1  13.517790    1.229900  5496.92824  ...  10.358927  0.173229   0.49706   \n",
       "2  12.824570    1.229900  5135.78024  ...  11.626917  7.709560   0.97556   \n",
       "3  11.053708    1.229900  4169.67738  ...  14.852022  6.122162   0.49706   \n",
       "4   3.396778  102.151980  5728.73412  ...  13.666727  8.153058  48.50134   \n",
       "\n",
       "         FS         GB          GE            GF         GH         GI  \\\n",
       "0  0.094822  11.339138   72.611063   2003.810319  22.136229  69.834944   \n",
       "1  0.568932   9.292698   72.611063  27981.562750  29.135430  32.131996   \n",
       "2  1.198821  37.077772   88.609437  13676.957810  28.022851  35.192676   \n",
       "3  0.284466  18.529584   82.416803   2094.262452  39.948656  90.493248   \n",
       "4  0.121914  16.408728  146.109943   8524.370502  45.381316  36.262628   \n",
       "\n",
       "          GL  \n",
       "0   0.120343  \n",
       "1  21.978000  \n",
       "2   0.196941  \n",
       "3   0.155829  \n",
       "4   0.096614  \n",
       "\n",
       "[5 rows x 54 columns]"
      ]
     },
     "execution_count": 196,
     "metadata": {},
     "output_type": "execute_result"
    }
   ],
   "source": [
    "ytrain = train['Class']\n",
    "print(ytrain)\n",
    "train = train.drop(['Class', 'Id'], axis=1)\n",
    "train.head()"
   ]
  },
  {
   "cell_type": "code",
   "execution_count": 197,
   "metadata": {
    "collapsed": false
   },
   "outputs": [
    {
     "data": {
      "text/plain": [
       "array(['B', 'A'], dtype=object)"
      ]
     },
     "execution_count": 197,
     "metadata": {},
     "output_type": "execute_result"
    }
   ],
   "source": [
    "train['EJ'].unique()"
   ]
  },
  {
   "cell_type": "code",
   "execution_count": 198,
   "metadata": {
    "collapsed": false
   },
   "outputs": [
    {
     "data": {
      "text/html": [
       "<div>\n",
       "<style scoped>\n",
       "    .dataframe tbody tr th:only-of-type {\n",
       "        vertical-align: middle;\n",
       "    }\n",
       "\n",
       "    .dataframe tbody tr th {\n",
       "        vertical-align: top;\n",
       "    }\n",
       "\n",
       "    .dataframe thead th {\n",
       "        text-align: right;\n",
       "    }\n",
       "</style>\n",
       "<table border=\"1\" class=\"dataframe\">\n",
       "  <thead>\n",
       "    <tr style=\"text-align: right;\">\n",
       "      <th></th>\n",
       "      <th>AB</th>\n",
       "      <th>AF</th>\n",
       "      <th>AH</th>\n",
       "      <th>AM</th>\n",
       "      <th>AR</th>\n",
       "      <th>AX</th>\n",
       "      <th>AY</th>\n",
       "      <th>AZ</th>\n",
       "      <th>BC</th>\n",
       "      <th>BD</th>\n",
       "      <th>...</th>\n",
       "      <th>FI</th>\n",
       "      <th>FL</th>\n",
       "      <th>FR</th>\n",
       "      <th>FS</th>\n",
       "      <th>GB</th>\n",
       "      <th>GE</th>\n",
       "      <th>GF</th>\n",
       "      <th>GH</th>\n",
       "      <th>GI</th>\n",
       "      <th>GL</th>\n",
       "    </tr>\n",
       "  </thead>\n",
       "  <tbody>\n",
       "    <tr>\n",
       "      <th>0</th>\n",
       "      <td>0.209377</td>\n",
       "      <td>3109.03329</td>\n",
       "      <td>85.200147</td>\n",
       "      <td>22.394407</td>\n",
       "      <td>8.138688</td>\n",
       "      <td>0.699861</td>\n",
       "      <td>0.025578</td>\n",
       "      <td>9.812214</td>\n",
       "      <td>5.555634</td>\n",
       "      <td>4126.58731</td>\n",
       "      <td>...</td>\n",
       "      <td>3.583450</td>\n",
       "      <td>7.298162</td>\n",
       "      <td>1.73855</td>\n",
       "      <td>0.094822</td>\n",
       "      <td>11.339138</td>\n",
       "      <td>72.611063</td>\n",
       "      <td>2003.810319</td>\n",
       "      <td>22.136229</td>\n",
       "      <td>69.834944</td>\n",
       "      <td>0.120343</td>\n",
       "    </tr>\n",
       "    <tr>\n",
       "      <th>1</th>\n",
       "      <td>0.145282</td>\n",
       "      <td>978.76416</td>\n",
       "      <td>85.200147</td>\n",
       "      <td>36.968889</td>\n",
       "      <td>8.138688</td>\n",
       "      <td>3.632190</td>\n",
       "      <td>0.025578</td>\n",
       "      <td>13.517790</td>\n",
       "      <td>1.229900</td>\n",
       "      <td>5496.92824</td>\n",
       "      <td>...</td>\n",
       "      <td>10.358927</td>\n",
       "      <td>0.173229</td>\n",
       "      <td>0.49706</td>\n",
       "      <td>0.568932</td>\n",
       "      <td>9.292698</td>\n",
       "      <td>72.611063</td>\n",
       "      <td>27981.562750</td>\n",
       "      <td>29.135430</td>\n",
       "      <td>32.131996</td>\n",
       "      <td>21.978000</td>\n",
       "    </tr>\n",
       "    <tr>\n",
       "      <th>2</th>\n",
       "      <td>0.470030</td>\n",
       "      <td>2635.10654</td>\n",
       "      <td>85.200147</td>\n",
       "      <td>32.360553</td>\n",
       "      <td>8.138688</td>\n",
       "      <td>6.732840</td>\n",
       "      <td>0.025578</td>\n",
       "      <td>12.824570</td>\n",
       "      <td>1.229900</td>\n",
       "      <td>5135.78024</td>\n",
       "      <td>...</td>\n",
       "      <td>11.626917</td>\n",
       "      <td>7.709560</td>\n",
       "      <td>0.97556</td>\n",
       "      <td>1.198821</td>\n",
       "      <td>37.077772</td>\n",
       "      <td>88.609437</td>\n",
       "      <td>13676.957810</td>\n",
       "      <td>28.022851</td>\n",
       "      <td>35.192676</td>\n",
       "      <td>0.196941</td>\n",
       "    </tr>\n",
       "    <tr>\n",
       "      <th>3</th>\n",
       "      <td>0.252107</td>\n",
       "      <td>3819.65177</td>\n",
       "      <td>120.201618</td>\n",
       "      <td>77.112203</td>\n",
       "      <td>8.138688</td>\n",
       "      <td>3.685344</td>\n",
       "      <td>0.025578</td>\n",
       "      <td>11.053708</td>\n",
       "      <td>1.229900</td>\n",
       "      <td>4169.67738</td>\n",
       "      <td>...</td>\n",
       "      <td>14.852022</td>\n",
       "      <td>6.122162</td>\n",
       "      <td>0.49706</td>\n",
       "      <td>0.284466</td>\n",
       "      <td>18.529584</td>\n",
       "      <td>82.416803</td>\n",
       "      <td>2094.262452</td>\n",
       "      <td>39.948656</td>\n",
       "      <td>90.493248</td>\n",
       "      <td>0.155829</td>\n",
       "    </tr>\n",
       "    <tr>\n",
       "      <th>4</th>\n",
       "      <td>0.380297</td>\n",
       "      <td>3733.04844</td>\n",
       "      <td>85.200147</td>\n",
       "      <td>14.103738</td>\n",
       "      <td>8.138688</td>\n",
       "      <td>3.942255</td>\n",
       "      <td>0.054810</td>\n",
       "      <td>3.396778</td>\n",
       "      <td>102.151980</td>\n",
       "      <td>5728.73412</td>\n",
       "      <td>...</td>\n",
       "      <td>13.666727</td>\n",
       "      <td>8.153058</td>\n",
       "      <td>48.50134</td>\n",
       "      <td>0.121914</td>\n",
       "      <td>16.408728</td>\n",
       "      <td>146.109943</td>\n",
       "      <td>8524.370502</td>\n",
       "      <td>45.381316</td>\n",
       "      <td>36.262628</td>\n",
       "      <td>0.096614</td>\n",
       "    </tr>\n",
       "  </tbody>\n",
       "</table>\n",
       "<p>5 rows × 54 columns</p>\n",
       "</div>"
      ],
      "text/plain": [
       "         AB          AF          AH         AM        AR        AX        AY  \\\n",
       "0  0.209377  3109.03329   85.200147  22.394407  8.138688  0.699861  0.025578   \n",
       "1  0.145282   978.76416   85.200147  36.968889  8.138688  3.632190  0.025578   \n",
       "2  0.470030  2635.10654   85.200147  32.360553  8.138688  6.732840  0.025578   \n",
       "3  0.252107  3819.65177  120.201618  77.112203  8.138688  3.685344  0.025578   \n",
       "4  0.380297  3733.04844   85.200147  14.103738  8.138688  3.942255  0.054810   \n",
       "\n",
       "          AZ          BC         BD   ...         FI        FL        FR  \\\n",
       "0   9.812214    5.555634  4126.58731  ...   3.583450  7.298162   1.73855   \n",
       "1  13.517790    1.229900  5496.92824  ...  10.358927  0.173229   0.49706   \n",
       "2  12.824570    1.229900  5135.78024  ...  11.626917  7.709560   0.97556   \n",
       "3  11.053708    1.229900  4169.67738  ...  14.852022  6.122162   0.49706   \n",
       "4   3.396778  102.151980  5728.73412  ...  13.666727  8.153058  48.50134   \n",
       "\n",
       "         FS         GB          GE            GF         GH         GI  \\\n",
       "0  0.094822  11.339138   72.611063   2003.810319  22.136229  69.834944   \n",
       "1  0.568932   9.292698   72.611063  27981.562750  29.135430  32.131996   \n",
       "2  1.198821  37.077772   88.609437  13676.957810  28.022851  35.192676   \n",
       "3  0.284466  18.529584   82.416803   2094.262452  39.948656  90.493248   \n",
       "4  0.121914  16.408728  146.109943   8524.370502  45.381316  36.262628   \n",
       "\n",
       "          GL  \n",
       "0   0.120343  \n",
       "1  21.978000  \n",
       "2   0.196941  \n",
       "3   0.155829  \n",
       "4   0.096614  \n",
       "\n",
       "[5 rows x 54 columns]"
      ]
     },
     "execution_count": 198,
     "metadata": {},
     "output_type": "execute_result"
    }
   ],
   "source": [
    "# make categorical data into numerical data\n",
    "train.EJ = train.EJ.replace({'A': 0, 'B': 1})\n",
    "train.head()\n"
   ]
  },
  {
   "cell_type": "code",
   "execution_count": 206,
   "metadata": {
    "collapsed": false
   },
   "outputs": [],
   "source": [
    " # referenced https://www.kaggle.com/code/dan3dewey/icr-2023-balanced-log-loss\n",
    "def competition_log_loss(y_true, y_pred): # use predict proba\n",
    "    # y_true: correct labels 0, 1\n",
    "    # y_pred: predicted probabilities of class=1\n",
    "    # Implements the Evaluation equation with w_0 = w_1 = 1.\n",
    "    # Calculate the number of observations for each class\n",
    "    N_0 = np.sum(1 - y_true)\n",
    "    N_1 = np.sum(y_true)\n",
    "    print(y_pred.shape)\n",
    "    # Calculate the predicted probabilities for each class\n",
    "    p_1 = np.clip(y_pred[:,1], 1e-15, 1 - 1e-15)\n",
    "    p_0 = 1 - p_1\n",
    "    # Calculate the average log loss for each class\n",
    "    #print(\"reached\")\n",
    "    print(p_0.shape, p_1.shape, y_true.shape)\n",
    "\n",
    "    log_loss_0 = -np.sum((1 - y_true) * np.log(p_0)) / N_0\n",
    "    log_loss_1 = -np.sum(y_true * np.log(p_1)) / N_1\n",
    "    # return the (not further weighted) average of the averages\n",
    "    return (log_loss_0 + log_loss_1)/2\n",
    "\n",
    "\n",
    "def competition_log_loss2(y_true, y_pred): # for grid search\n",
    "    # y_true: correct labels 0, 1\n",
    "    # y_pred: predicted probabilities of class=1\n",
    "    # Implements the Evaluation equation with w_0 = w_1 = 1.\n",
    "    # Calculate the number of observations for each class\n",
    "    N_0 = np.sum(1 - y_true)\n",
    "    N_1 = np.sum(y_true)\n",
    "    print(y_pred.shape)\n",
    "    # Calculate the predicted probabilities for each class\n",
    "    p_1 = np.clip(y_pred, 1e-15, 1 - 1e-15)\n",
    "    p_0 = 1 - p_1\n",
    "    # Calculate the average log loss for each class\n",
    "    #print(\"reached\")\n",
    "    print(p_0.shape, p_1.shape, y_true.shape)\n",
    "\n",
    "    log_loss_0 = -np.sum((1 - y_true) * np.log(p_0)) / N_0\n",
    "    log_loss_1 = -np.sum(y_true * np.log(p_1)) / N_1\n",
    "    # return the (not further weighted) average of the averages\n",
    "    return (log_loss_0 + log_loss_1)/2"
   ]
  },
  {
   "cell_type": "markdown",
   "metadata": {
    "collapsed": false
   },
   "source": [
    "### Train Test Split"
   ]
  },
  {
   "cell_type": "code",
   "execution_count": 207,
   "metadata": {
    "collapsed": false
   },
   "outputs": [
    {
     "name": "stderr",
     "output_type": "stream",
     "text": [
      "/Users/gary/anaconda3/lib/python3.7/site-packages/sklearn/model_selection/_split.py:1609: DeprecationWarning: `np.int` is a deprecated alias for the builtin `int`. To silence this warning, use `int` by itself. Doing this will not modify any behavior and is safe. When replacing `np.int`, you may wish to use e.g. `np.int64` or `np.int32` to specify the precision. If you wish to review your current use, check the release note link for additional information.\n",
      "Deprecated in NumPy 1.20; for more details and guidance: https://numpy.org/devdocs/release/1.20.0-notes.html#deprecations\n",
      "  return floored.astype(np.int)\n",
      "/Users/gary/anaconda3/lib/python3.7/site-packages/sklearn/model_selection/_split.py:1609: DeprecationWarning: `np.int` is a deprecated alias for the builtin `int`. To silence this warning, use `int` by itself. Doing this will not modify any behavior and is safe. When replacing `np.int`, you may wish to use e.g. `np.int64` or `np.int32` to specify the precision. If you wish to review your current use, check the release note link for additional information.\n",
      "Deprecated in NumPy 1.20; for more details and guidance: https://numpy.org/devdocs/release/1.20.0-notes.html#deprecations\n",
      "  return floored.astype(np.int)\n"
     ]
    }
   ],
   "source": [
    "# train test split such that same distribution of classes in train and test\n",
    "from sklearn.model_selection import train_test_split\n",
    "X_train, X_test, y_train, y_test = train_test_split(train, ytrain, test_size=0.2, random_state=42, stratify=ytrain)"
   ]
  },
  {
   "cell_type": "code",
   "execution_count": 218,
   "metadata": {
    "collapsed": false
   },
   "outputs": [
    {
     "name": "stdout",
     "output_type": "stream",
     "text": [
      "Accuracy of XGB classifier on train set: 1.00\n",
      "[[407   0]\n",
      " [  2  84]]\n",
      "              precision    recall  f1-score   support\n",
      "\n",
      "           0       1.00      1.00      1.00       407\n",
      "           1       1.00      0.98      0.99        86\n",
      "\n",
      "   micro avg       1.00      1.00      1.00       493\n",
      "   macro avg       1.00      0.99      0.99       493\n",
      "weighted avg       1.00      1.00      1.00       493\n",
      "\n",
      "Accuracy of XGB classifier on test set: 0.90\n",
      "[[96  6]\n",
      " [ 7 15]]\n",
      "              precision    recall  f1-score   support\n",
      "\n",
      "           0       0.93      0.94      0.94       102\n",
      "           1       0.71      0.68      0.70        22\n",
      "\n",
      "   micro avg       0.90      0.90      0.90       124\n",
      "   macro avg       0.82      0.81      0.82       124\n",
      "weighted avg       0.89      0.90      0.89       124\n",
      "\n",
      "(124, 2)\n",
      "(124,) (124,) (124,)\n",
      "0.46885364824979037\n"
     ]
    }
   ],
   "source": [
    "# xgboost model\n",
    "from xgboost import XGBClassifier\n",
    "\n",
    "xgb = XGBClassifier(\n",
    "       learning_rate=0.01,\n",
    "      max_depth=7, n_estimators=300)\n",
    "xgb.fit(X_train, y_train)\n",
    "y_pred = xgb.predict(X_train)\n",
    "\n",
    "print('Accuracy of XGB classifier on train set: {:.2f}'.format(accuracy_score(y_train, y_pred)))\n",
    "print(confusion_matrix(y_train, y_pred))\n",
    "print(classification_report(y_train, y_pred))\n",
    "\n",
    "y_pred = xgb.predict(X_test)\n",
    "y_pred2 =   xgb.predict_proba(X_test)\n",
    "\n",
    "print('Accuracy of XGB classifier on test set: {:.2f}'.format(accuracy_score(y_test, y_pred)))\n",
    "print(confusion_matrix(y_test, y_pred))\n",
    "print(classification_report(y_test, y_pred))\n",
    "\n",
    "print(competition_log_loss(y_test, y_pred2))\n",
    "\n",
    "\n",
    "\n",
    "\n",
    "\n"
   ]
  },
  {
   "cell_type": "code",
   "execution_count": 222,
   "metadata": {},
   "outputs": [
    {
     "name": "stderr",
     "output_type": "stream",
     "text": [
      "\u001b[32m[I 2023-05-15 20:22:40,650]\u001b[0m A new study created in memory with name: no-name-7fa3a00c-ea2b-4b2e-87eb-63ff220c10b3\u001b[0m\n",
      "/Users/gary/anaconda3/lib/python3.7/site-packages/ipykernel_launcher.py:8: FutureWarning: suggest_loguniform has been deprecated in v3.0.0. This feature will be removed in v6.0.0. See https://github.com/optuna/optuna/releases/tag/v3.0.0. Use :func:`~optuna.trial.Trial.suggest_float` instead.\n",
      "  \n",
      "\u001b[32m[I 2023-05-15 20:22:41,747]\u001b[0m Trial 0 finished with value: 0.6185383705850591 and parameters: {'learning_rate': 0.0019361280899354814, 'max_depth': 4, 'n_estimators': 100}. Best is trial 0 with value: 0.6185383705850591.\u001b[0m\n"
     ]
    },
    {
     "name": "stdout",
     "output_type": "stream",
     "text": [
      "(124, 2)\n",
      "(124,) (124,) (124,)\n"
     ]
    },
    {
     "name": "stderr",
     "output_type": "stream",
     "text": [
      "\u001b[32m[I 2023-05-15 20:22:43,296]\u001b[0m Trial 1 finished with value: 0.5552209155250041 and parameters: {'learning_rate': 0.025816701364335733, 'max_depth': 4, 'n_estimators': 300}. Best is trial 1 with value: 0.5552209155250041.\u001b[0m\n"
     ]
    },
    {
     "name": "stdout",
     "output_type": "stream",
     "text": [
      "(124, 2)\n",
      "(124,) (124,) (124,)\n"
     ]
    },
    {
     "name": "stderr",
     "output_type": "stream",
     "text": [
      "\u001b[32m[I 2023-05-15 20:22:44,209]\u001b[0m Trial 2 finished with value: 0.6076737428997077 and parameters: {'learning_rate': 0.0015091219393355633, 'max_depth': 3, 'n_estimators': 200}. Best is trial 1 with value: 0.5552209155250041.\u001b[0m\n"
     ]
    },
    {
     "name": "stdout",
     "output_type": "stream",
     "text": [
      "(124, 2)\n",
      "(124,) (124,) (124,)\n"
     ]
    },
    {
     "name": "stderr",
     "output_type": "stream",
     "text": [
      "\u001b[32m[I 2023-05-15 20:22:45,621]\u001b[0m Trial 3 finished with value: 0.5046951645427449 and parameters: {'learning_rate': 0.017564612669727517, 'max_depth': 5, 'n_estimators': 200}. Best is trial 3 with value: 0.5046951645427449.\u001b[0m\n"
     ]
    },
    {
     "name": "stdout",
     "output_type": "stream",
     "text": [
      "(124, 2)\n",
      "(124,) (124,) (124,)\n"
     ]
    },
    {
     "name": "stderr",
     "output_type": "stream",
     "text": [
      "\u001b[32m[I 2023-05-15 20:22:46,480]\u001b[0m Trial 4 finished with value: 0.5468978751151957 and parameters: {'learning_rate': 0.00446784704679162, 'max_depth': 6, 'n_estimators': 100}. Best is trial 3 with value: 0.5046951645427449.\u001b[0m\n"
     ]
    },
    {
     "name": "stdout",
     "output_type": "stream",
     "text": [
      "(124, 2)\n",
      "(124,) (124,) (124,)\n"
     ]
    },
    {
     "name": "stderr",
     "output_type": "stream",
     "text": [
      "\u001b[32m[I 2023-05-15 20:22:48,103]\u001b[0m Trial 5 finished with value: 0.4858430965858347 and parameters: {'learning_rate': 0.004922936469466793, 'max_depth': 6, 'n_estimators': 200}. Best is trial 5 with value: 0.4858430965858347.\u001b[0m\n"
     ]
    },
    {
     "name": "stdout",
     "output_type": "stream",
     "text": [
      "(124, 2)\n",
      "(124,) (124,) (124,)\n"
     ]
    },
    {
     "name": "stderr",
     "output_type": "stream",
     "text": [
      "\u001b[32m[I 2023-05-15 20:22:48,683]\u001b[0m Trial 6 finished with value: 0.4970194233843721 and parameters: {'learning_rate': 0.022039508193377702, 'max_depth': 3, 'n_estimators': 100}. Best is trial 5 with value: 0.4858430965858347.\u001b[0m\n"
     ]
    },
    {
     "name": "stdout",
     "output_type": "stream",
     "text": [
      "(124, 2)\n",
      "(124,) (124,) (124,)\n"
     ]
    },
    {
     "name": "stderr",
     "output_type": "stream",
     "text": [
      "\u001b[32m[I 2023-05-15 20:22:49,750]\u001b[0m Trial 7 finished with value: 0.4756204400961943 and parameters: {'learning_rate': 0.01508715355640109, 'max_depth': 5, 'n_estimators': 100}. Best is trial 7 with value: 0.4756204400961943.\u001b[0m\n"
     ]
    },
    {
     "name": "stdout",
     "output_type": "stream",
     "text": [
      "(124, 2)\n",
      "(124,) (124,) (124,)\n"
     ]
    },
    {
     "name": "stderr",
     "output_type": "stream",
     "text": [
      "\u001b[32m[I 2023-05-15 20:22:50,793]\u001b[0m Trial 8 finished with value: 0.562395858989054 and parameters: {'learning_rate': 0.05331407422882491, 'max_depth': 4, 'n_estimators': 200}. Best is trial 7 with value: 0.4756204400961943.\u001b[0m\n"
     ]
    },
    {
     "name": "stdout",
     "output_type": "stream",
     "text": [
      "(124, 2)\n",
      "(124,) (124,) (124,)\n"
     ]
    },
    {
     "name": "stderr",
     "output_type": "stream",
     "text": [
      "\u001b[32m[I 2023-05-15 20:22:52,175]\u001b[0m Trial 9 finished with value: 0.48750421507931485 and parameters: {'learning_rate': 0.013766368576257975, 'max_depth': 5, 'n_estimators': 200}. Best is trial 7 with value: 0.4756204400961943.\u001b[0m\n"
     ]
    },
    {
     "name": "stdout",
     "output_type": "stream",
     "text": [
      "(124, 2)\n",
      "(124,) (124,) (124,)\n"
     ]
    },
    {
     "name": "stderr",
     "output_type": "stream",
     "text": [
      "\u001b[32m[I 2023-05-15 20:22:53,949]\u001b[0m Trial 10 finished with value: 0.6488371011841594 and parameters: {'learning_rate': 0.08231059772851095, 'max_depth': 7, 'n_estimators': 300}. Best is trial 7 with value: 0.4756204400961943.\u001b[0m\n"
     ]
    },
    {
     "name": "stdout",
     "output_type": "stream",
     "text": [
      "(124, 2)\n",
      "(124,) (124,) (124,)\n"
     ]
    },
    {
     "name": "stderr",
     "output_type": "stream",
     "text": [
      "\u001b[32m[I 2023-05-15 20:22:55,071]\u001b[0m Trial 11 finished with value: 0.5164499736246578 and parameters: {'learning_rate': 0.006579226067588172, 'max_depth': 6, 'n_estimators': 100}. Best is trial 7 with value: 0.4756204400961943.\u001b[0m\n"
     ]
    },
    {
     "name": "stdout",
     "output_type": "stream",
     "text": [
      "(124, 2)\n",
      "(124,) (124,) (124,)\n"
     ]
    },
    {
     "name": "stderr",
     "output_type": "stream",
     "text": [
      "\u001b[32m[I 2023-05-15 20:22:57,148]\u001b[0m Trial 12 finished with value: 0.47996041413111057 and parameters: {'learning_rate': 0.005724556828370379, 'max_depth': 6, 'n_estimators': 200}. Best is trial 7 with value: 0.4756204400961943.\u001b[0m\n"
     ]
    },
    {
     "name": "stdout",
     "output_type": "stream",
     "text": [
      "(124, 2)\n",
      "(124,) (124,) (124,)\n"
     ]
    },
    {
     "name": "stderr",
     "output_type": "stream",
     "text": [
      "\u001b[32m[I 2023-05-15 20:22:58,071]\u001b[0m Trial 13 finished with value: 0.5016303856503518 and parameters: {'learning_rate': 0.007746364629229251, 'max_depth': 7, 'n_estimators': 100}. Best is trial 7 with value: 0.4756204400961943.\u001b[0m\n"
     ]
    },
    {
     "name": "stdout",
     "output_type": "stream",
     "text": [
      "(124, 2)\n",
      "(124,) (124,) (124,)\n"
     ]
    },
    {
     "name": "stderr",
     "output_type": "stream",
     "text": [
      "\u001b[32m[I 2023-05-15 20:23:00,145]\u001b[0m Trial 14 finished with value: 0.490504575969648 and parameters: {'learning_rate': 0.002985732093787323, 'max_depth': 6, 'n_estimators': 300}. Best is trial 7 with value: 0.4756204400961943.\u001b[0m\n"
     ]
    },
    {
     "name": "stdout",
     "output_type": "stream",
     "text": [
      "(124, 2)\n",
      "(124,) (124,) (124,)\n"
     ]
    },
    {
     "name": "stderr",
     "output_type": "stream",
     "text": [
      "\u001b[32m[I 2023-05-15 20:23:00,709]\u001b[0m Trial 15 finished with value: 0.49806425019222145 and parameters: {'learning_rate': 0.008488201984594934, 'max_depth': 5, 'n_estimators': 100}. Best is trial 7 with value: 0.4756204400961943.\u001b[0m\n"
     ]
    },
    {
     "name": "stdout",
     "output_type": "stream",
     "text": [
      "(124, 2)\n",
      "(124,) (124,) (124,)\n"
     ]
    },
    {
     "name": "stderr",
     "output_type": "stream",
     "text": [
      "\u001b[32m[I 2023-05-15 20:23:02,187]\u001b[0m Trial 16 finished with value: 0.4712116917289807 and parameters: {'learning_rate': 0.011176641805554305, 'max_depth': 7, 'n_estimators': 200}. Best is trial 16 with value: 0.4712116917289807.\u001b[0m\n"
     ]
    },
    {
     "name": "stdout",
     "output_type": "stream",
     "text": [
      "(124, 2)\n",
      "(124,) (124,) (124,)\n"
     ]
    },
    {
     "name": "stderr",
     "output_type": "stream",
     "text": [
      "\u001b[32m[I 2023-05-15 20:23:02,831]\u001b[0m Trial 17 finished with value: 0.4728745788322519 and parameters: {'learning_rate': 0.012667803557110877, 'max_depth': 7, 'n_estimators': 100}. Best is trial 16 with value: 0.4712116917289807.\u001b[0m\n"
     ]
    },
    {
     "name": "stdout",
     "output_type": "stream",
     "text": [
      "(124, 2)\n",
      "(124,) (124,) (124,)\n"
     ]
    },
    {
     "name": "stderr",
     "output_type": "stream",
     "text": [
      "\u001b[32m[I 2023-05-15 20:23:04,226]\u001b[0m Trial 18 finished with value: 0.5366678158075087 and parameters: {'learning_rate': 0.03407809034605765, 'max_depth': 7, 'n_estimators': 200}. Best is trial 16 with value: 0.4712116917289807.\u001b[0m\n"
     ]
    },
    {
     "name": "stdout",
     "output_type": "stream",
     "text": [
      "(124, 2)\n",
      "(124,) (124,) (124,)\n"
     ]
    },
    {
     "name": "stderr",
     "output_type": "stream",
     "text": [
      "\u001b[32m[I 2023-05-15 20:23:06,375]\u001b[0m Trial 19 finished with value: 0.4699843449430099 and parameters: {'learning_rate': 0.009960685262406382, 'max_depth': 7, 'n_estimators': 300}. Best is trial 19 with value: 0.4699843449430099.\u001b[0m\n"
     ]
    },
    {
     "name": "stdout",
     "output_type": "stream",
     "text": [
      "(124, 2)\n",
      "(124,) (124,) (124,)\n"
     ]
    },
    {
     "name": "stderr",
     "output_type": "stream",
     "text": [
      "\u001b[32m[I 2023-05-15 20:23:09,334]\u001b[0m Trial 20 finished with value: 0.4741493095760026 and parameters: {'learning_rate': 0.010582126351713834, 'max_depth': 7, 'n_estimators': 300}. Best is trial 19 with value: 0.4699843449430099.\u001b[0m\n"
     ]
    },
    {
     "name": "stdout",
     "output_type": "stream",
     "text": [
      "(124, 2)\n",
      "(124,) (124,) (124,)\n"
     ]
    },
    {
     "name": "stderr",
     "output_type": "stream",
     "text": [
      "\u001b[32m[I 2023-05-15 20:23:11,397]\u001b[0m Trial 21 finished with value: 0.4832830414725484 and parameters: {'learning_rate': 0.01126441439672873, 'max_depth': 7, 'n_estimators': 300}. Best is trial 19 with value: 0.4699843449430099.\u001b[0m\n"
     ]
    },
    {
     "name": "stdout",
     "output_type": "stream",
     "text": [
      "(124, 2)\n",
      "(124,) (124,) (124,)\n"
     ]
    },
    {
     "name": "stderr",
     "output_type": "stream",
     "text": [
      "\u001b[32m[I 2023-05-15 20:23:13,544]\u001b[0m Trial 22 finished with value: 0.4759187826524869 and parameters: {'learning_rate': 0.010569597470776937, 'max_depth': 7, 'n_estimators': 300}. Best is trial 19 with value: 0.4699843449430099.\u001b[0m\n"
     ]
    },
    {
     "name": "stdout",
     "output_type": "stream",
     "text": [
      "(124, 2)\n",
      "(124,) (124,) (124,)\n"
     ]
    },
    {
     "name": "stderr",
     "output_type": "stream",
     "text": [
      "\u001b[32m[I 2023-05-15 20:23:16,871]\u001b[0m Trial 23 finished with value: 0.5358717720472103 and parameters: {'learning_rate': 0.01963845103466843, 'max_depth': 7, 'n_estimators': 300}. Best is trial 19 with value: 0.4699843449430099.\u001b[0m\n"
     ]
    },
    {
     "name": "stdout",
     "output_type": "stream",
     "text": [
      "(124, 2)\n",
      "(124,) (124,) (124,)\n"
     ]
    },
    {
     "name": "stderr",
     "output_type": "stream",
     "text": [
      "\u001b[32m[I 2023-05-15 20:23:19,116]\u001b[0m Trial 24 finished with value: 0.5157517243019818 and parameters: {'learning_rate': 0.013983814342227178, 'max_depth': 6, 'n_estimators': 300}. Best is trial 19 with value: 0.4699843449430099.\u001b[0m\n"
     ]
    },
    {
     "name": "stdout",
     "output_type": "stream",
     "text": [
      "(124, 2)\n",
      "(124,) (124,) (124,)\n"
     ]
    },
    {
     "name": "stderr",
     "output_type": "stream",
     "text": [
      "\u001b[32m[I 2023-05-15 20:23:19,916]\u001b[0m Trial 25 finished with value: 0.4726398989480195 and parameters: {'learning_rate': 0.030878439621335543, 'max_depth': 7, 'n_estimators': 100}. Best is trial 19 with value: 0.4699843449430099.\u001b[0m\n"
     ]
    },
    {
     "name": "stdout",
     "output_type": "stream",
     "text": [
      "(124, 2)\n",
      "(124,) (124,) (124,)\n"
     ]
    },
    {
     "name": "stderr",
     "output_type": "stream",
     "text": [
      "\u001b[32m[I 2023-05-15 20:23:21,166]\u001b[0m Trial 26 finished with value: 0.5404445572827616 and parameters: {'learning_rate': 0.029878048077195393, 'max_depth': 6, 'n_estimators': 200}. Best is trial 19 with value: 0.4699843449430099.\u001b[0m\n"
     ]
    },
    {
     "name": "stdout",
     "output_type": "stream",
     "text": [
      "(124, 2)\n",
      "(124,) (124,) (124,)\n"
     ]
    },
    {
     "name": "stderr",
     "output_type": "stream",
     "text": [
      "\u001b[32m[I 2023-05-15 20:23:21,944]\u001b[0m Trial 27 finished with value: 0.5003133934450215 and parameters: {'learning_rate': 0.03916083998152268, 'max_depth': 7, 'n_estimators': 100}. Best is trial 19 with value: 0.4699843449430099.\u001b[0m\n"
     ]
    },
    {
     "name": "stdout",
     "output_type": "stream",
     "text": [
      "(124, 2)\n",
      "(124,) (124,) (124,)\n"
     ]
    },
    {
     "name": "stderr",
     "output_type": "stream",
     "text": [
      "\u001b[32m[I 2023-05-15 20:23:23,517]\u001b[0m Trial 28 finished with value: 0.4996360408693366 and parameters: {'learning_rate': 0.019604537738869547, 'max_depth': 7, 'n_estimators': 200}. Best is trial 19 with value: 0.4699843449430099.\u001b[0m\n"
     ]
    },
    {
     "name": "stdout",
     "output_type": "stream",
     "text": [
      "(124, 2)\n",
      "(124,) (124,) (124,)\n"
     ]
    },
    {
     "name": "stderr",
     "output_type": "stream",
     "text": [
      "\u001b[32m[I 2023-05-15 20:23:25,642]\u001b[0m Trial 29 finished with value: 0.5793469912520279 and parameters: {'learning_rate': 0.0010456668458692197, 'max_depth': 6, 'n_estimators': 300}. Best is trial 19 with value: 0.4699843449430099.\u001b[0m\n"
     ]
    },
    {
     "name": "stdout",
     "output_type": "stream",
     "text": [
      "(124, 2)\n",
      "(124,) (124,) (124,)\n"
     ]
    },
    {
     "name": "stderr",
     "output_type": "stream",
     "text": [
      "\u001b[32m[I 2023-05-15 20:23:26,428]\u001b[0m Trial 30 finished with value: 0.49451866332248995 and parameters: {'learning_rate': 0.008455424334913858, 'max_depth': 7, 'n_estimators': 100}. Best is trial 19 with value: 0.4699843449430099.\u001b[0m\n"
     ]
    },
    {
     "name": "stdout",
     "output_type": "stream",
     "text": [
      "(124, 2)\n",
      "(124,) (124,) (124,)\n"
     ]
    },
    {
     "name": "stderr",
     "output_type": "stream",
     "text": [
      "\u001b[32m[I 2023-05-15 20:23:27,243]\u001b[0m Trial 31 finished with value: 0.46999072765602784 and parameters: {'learning_rate': 0.013521040024126867, 'max_depth': 7, 'n_estimators': 100}. Best is trial 19 with value: 0.4699843449430099.\u001b[0m\n"
     ]
    },
    {
     "name": "stdout",
     "output_type": "stream",
     "text": [
      "(124, 2)\n",
      "(124,) (124,) (124,)\n"
     ]
    },
    {
     "name": "stderr",
     "output_type": "stream",
     "text": [
      "\u001b[32m[I 2023-05-15 20:23:27,908]\u001b[0m Trial 32 finished with value: 0.47441096847906783 and parameters: {'learning_rate': 0.026417693887761707, 'max_depth': 7, 'n_estimators': 100}. Best is trial 19 with value: 0.4699843449430099.\u001b[0m\n"
     ]
    },
    {
     "name": "stdout",
     "output_type": "stream",
     "text": [
      "(124, 2)\n",
      "(124,) (124,) (124,)\n"
     ]
    },
    {
     "name": "stderr",
     "output_type": "stream",
     "text": [
      "\u001b[32m[I 2023-05-15 20:23:28,808]\u001b[0m Trial 33 finished with value: 0.45975436175942636 and parameters: {'learning_rate': 0.01596255039414685, 'max_depth': 7, 'n_estimators': 100}. Best is trial 33 with value: 0.45975436175942636.\u001b[0m\n"
     ]
    },
    {
     "name": "stdout",
     "output_type": "stream",
     "text": [
      "(124, 2)\n",
      "(124,) (124,) (124,)\n"
     ]
    },
    {
     "name": "stderr",
     "output_type": "stream",
     "text": [
      "\u001b[32m[I 2023-05-15 20:23:29,581]\u001b[0m Trial 34 finished with value: 0.468142879741688 and parameters: {'learning_rate': 0.018189200842451576, 'max_depth': 6, 'n_estimators': 100}. Best is trial 33 with value: 0.45975436175942636.\u001b[0m\n"
     ]
    },
    {
     "name": "stdout",
     "output_type": "stream",
     "text": [
      "(124, 2)\n",
      "(124,) (124,) (124,)\n"
     ]
    },
    {
     "name": "stderr",
     "output_type": "stream",
     "text": [
      "\u001b[32m[I 2023-05-15 20:23:30,409]\u001b[0m Trial 35 finished with value: 0.46884072879777555 and parameters: {'learning_rate': 0.0179033178920801, 'max_depth': 6, 'n_estimators': 100}. Best is trial 33 with value: 0.45975436175942636.\u001b[0m\n"
     ]
    },
    {
     "name": "stdout",
     "output_type": "stream",
     "text": [
      "(124, 2)\n",
      "(124,) (124,) (124,)\n"
     ]
    },
    {
     "name": "stderr",
     "output_type": "stream",
     "text": [
      "\u001b[32m[I 2023-05-15 20:23:31,087]\u001b[0m Trial 36 finished with value: 0.4769908723864644 and parameters: {'learning_rate': 0.017962209059505168, 'max_depth': 5, 'n_estimators': 100}. Best is trial 33 with value: 0.45975436175942636.\u001b[0m\n"
     ]
    },
    {
     "name": "stdout",
     "output_type": "stream",
     "text": [
      "(124, 2)\n",
      "(124,) (124,) (124,)\n"
     ]
    },
    {
     "name": "stderr",
     "output_type": "stream",
     "text": [
      "\u001b[32m[I 2023-05-15 20:23:31,815]\u001b[0m Trial 37 finished with value: 0.4689362828757567 and parameters: {'learning_rate': 0.02043633050957024, 'max_depth': 6, 'n_estimators': 100}. Best is trial 33 with value: 0.45975436175942636.\u001b[0m\n"
     ]
    },
    {
     "name": "stdout",
     "output_type": "stream",
     "text": [
      "(124, 2)\n",
      "(124,) (124,) (124,)\n"
     ]
    },
    {
     "name": "stderr",
     "output_type": "stream",
     "text": [
      "\u001b[32m[I 2023-05-15 20:23:32,701]\u001b[0m Trial 38 finished with value: 0.478550982314582 and parameters: {'learning_rate': 0.022548944141242595, 'max_depth': 5, 'n_estimators': 100}. Best is trial 33 with value: 0.45975436175942636.\u001b[0m\n"
     ]
    },
    {
     "name": "stdout",
     "output_type": "stream",
     "text": [
      "(124, 2)\n",
      "(124,) (124,) (124,)\n"
     ]
    },
    {
     "name": "stderr",
     "output_type": "stream",
     "text": [
      "\u001b[32m[I 2023-05-15 20:23:33,509]\u001b[0m Trial 39 finished with value: 0.46697161373567775 and parameters: {'learning_rate': 0.016634771107064888, 'max_depth': 6, 'n_estimators': 100}. Best is trial 33 with value: 0.45975436175942636.\u001b[0m\n"
     ]
    },
    {
     "name": "stdout",
     "output_type": "stream",
     "text": [
      "(124, 2)\n",
      "(124,) (124,) (124,)\n"
     ]
    },
    {
     "name": "stderr",
     "output_type": "stream",
     "text": [
      "\u001b[32m[I 2023-05-15 20:23:33,961]\u001b[0m Trial 40 finished with value: 0.48455046587781364 and parameters: {'learning_rate': 0.015610538639810588, 'max_depth': 4, 'n_estimators': 100}. Best is trial 33 with value: 0.45975436175942636.\u001b[0m\n"
     ]
    },
    {
     "name": "stdout",
     "output_type": "stream",
     "text": [
      "(124, 2)\n",
      "(124,) (124,) (124,)\n"
     ]
    },
    {
     "name": "stderr",
     "output_type": "stream",
     "text": [
      "\u001b[32m[I 2023-05-15 20:23:34,587]\u001b[0m Trial 41 finished with value: 0.48422474185346814 and parameters: {'learning_rate': 0.02369867554304983, 'max_depth': 6, 'n_estimators': 100}. Best is trial 33 with value: 0.45975436175942636.\u001b[0m\n"
     ]
    },
    {
     "name": "stdout",
     "output_type": "stream",
     "text": [
      "(124, 2)\n",
      "(124,) (124,) (124,)\n"
     ]
    },
    {
     "name": "stderr",
     "output_type": "stream",
     "text": [
      "\u001b[32m[I 2023-05-15 20:23:35,193]\u001b[0m Trial 42 finished with value: 0.46650392668398094 and parameters: {'learning_rate': 0.01725332274549516, 'max_depth': 6, 'n_estimators': 100}. Best is trial 33 with value: 0.45975436175942636.\u001b[0m\n"
     ]
    },
    {
     "name": "stdout",
     "output_type": "stream",
     "text": [
      "(124, 2)\n",
      "(124,) (124,) (124,)\n"
     ]
    },
    {
     "name": "stderr",
     "output_type": "stream",
     "text": [
      "\u001b[32m[I 2023-05-15 20:23:35,880]\u001b[0m Trial 43 finished with value: 0.46876416919477376 and parameters: {'learning_rate': 0.016723512398481147, 'max_depth': 6, 'n_estimators': 100}. Best is trial 33 with value: 0.45975436175942636.\u001b[0m\n"
     ]
    },
    {
     "name": "stdout",
     "output_type": "stream",
     "text": [
      "(124, 2)\n",
      "(124,) (124,) (124,)\n"
     ]
    },
    {
     "name": "stderr",
     "output_type": "stream",
     "text": [
      "\u001b[32m[I 2023-05-15 20:23:36,409]\u001b[0m Trial 44 finished with value: 0.47334113224358054 and parameters: {'learning_rate': 0.01496429186248302, 'max_depth': 5, 'n_estimators': 100}. Best is trial 33 with value: 0.45975436175942636.\u001b[0m\n"
     ]
    },
    {
     "name": "stdout",
     "output_type": "stream",
     "text": [
      "(124, 2)\n",
      "(124,) (124,) (124,)\n"
     ]
    },
    {
     "name": "stderr",
     "output_type": "stream",
     "text": [
      "\u001b[32m[I 2023-05-15 20:23:36,984]\u001b[0m Trial 45 finished with value: 0.48294933772116316 and parameters: {'learning_rate': 0.026274403490176165, 'max_depth': 6, 'n_estimators': 100}. Best is trial 33 with value: 0.45975436175942636.\u001b[0m\n"
     ]
    },
    {
     "name": "stdout",
     "output_type": "stream",
     "text": [
      "(124, 2)\n",
      "(124,) (124,) (124,)\n"
     ]
    },
    {
     "name": "stderr",
     "output_type": "stream",
     "text": [
      "\u001b[32m[I 2023-05-15 20:23:37,350]\u001b[0m Trial 46 finished with value: 0.5002434086220574 and parameters: {'learning_rate': 0.016877609239658285, 'max_depth': 3, 'n_estimators': 100}. Best is trial 33 with value: 0.45975436175942636.\u001b[0m\n"
     ]
    },
    {
     "name": "stdout",
     "output_type": "stream",
     "text": [
      "(124, 2)\n",
      "(124,) (124,) (124,)\n"
     ]
    },
    {
     "name": "stderr",
     "output_type": "stream",
     "text": [
      "\u001b[32m[I 2023-05-15 20:23:37,899]\u001b[0m Trial 47 finished with value: 0.47448521803686006 and parameters: {'learning_rate': 0.016578131284635488, 'max_depth': 5, 'n_estimators': 100}. Best is trial 33 with value: 0.45975436175942636.\u001b[0m\n"
     ]
    },
    {
     "name": "stdout",
     "output_type": "stream",
     "text": [
      "(124, 2)\n",
      "(124,) (124,) (124,)\n"
     ]
    },
    {
     "name": "stderr",
     "output_type": "stream",
     "text": [
      "\u001b[32m[I 2023-05-15 20:23:38,528]\u001b[0m Trial 48 finished with value: 0.5245265223051848 and parameters: {'learning_rate': 0.04568160972399401, 'max_depth': 6, 'n_estimators': 100}. Best is trial 33 with value: 0.45975436175942636.\u001b[0m\n"
     ]
    },
    {
     "name": "stdout",
     "output_type": "stream",
     "text": [
      "(124, 2)\n",
      "(124,) (124,) (124,)\n"
     ]
    },
    {
     "name": "stderr",
     "output_type": "stream",
     "text": [
      "\u001b[32m[I 2023-05-15 20:23:39,317]\u001b[0m Trial 49 finished with value: 0.4776237803708875 and parameters: {'learning_rate': 0.023542390886046174, 'max_depth': 6, 'n_estimators': 100}. Best is trial 33 with value: 0.45975436175942636.\u001b[0m\n"
     ]
    },
    {
     "name": "stdout",
     "output_type": "stream",
     "text": [
      "(124, 2)\n",
      "(124,) (124,) (124,)\n"
     ]
    },
    {
     "name": "stderr",
     "output_type": "stream",
     "text": [
      "\u001b[32m[I 2023-05-15 20:23:40,003]\u001b[0m Trial 50 finished with value: 0.47817197706344505 and parameters: {'learning_rate': 0.012210825427348478, 'max_depth': 6, 'n_estimators': 100}. Best is trial 33 with value: 0.45975436175942636.\u001b[0m\n"
     ]
    },
    {
     "name": "stdout",
     "output_type": "stream",
     "text": [
      "(124, 2)\n",
      "(124,) (124,) (124,)\n"
     ]
    },
    {
     "name": "stderr",
     "output_type": "stream",
     "text": [
      "\u001b[32m[I 2023-05-15 20:23:40,638]\u001b[0m Trial 51 finished with value: 0.4691440907079534 and parameters: {'learning_rate': 0.017908157089589993, 'max_depth': 6, 'n_estimators': 100}. Best is trial 33 with value: 0.45975436175942636.\u001b[0m\n"
     ]
    },
    {
     "name": "stdout",
     "output_type": "stream",
     "text": [
      "(124, 2)\n",
      "(124,) (124,) (124,)\n"
     ]
    },
    {
     "name": "stderr",
     "output_type": "stream",
     "text": [
      "\u001b[32m[I 2023-05-15 20:23:41,297]\u001b[0m Trial 52 finished with value: 0.4746296618651738 and parameters: {'learning_rate': 0.020577479563556482, 'max_depth': 6, 'n_estimators': 100}. Best is trial 33 with value: 0.45975436175942636.\u001b[0m\n"
     ]
    },
    {
     "name": "stdout",
     "output_type": "stream",
     "text": [
      "(124, 2)\n",
      "(124,) (124,) (124,)\n"
     ]
    },
    {
     "name": "stderr",
     "output_type": "stream",
     "text": [
      "\u001b[32m[I 2023-05-15 20:23:41,946]\u001b[0m Trial 53 finished with value: 0.4768175900965238 and parameters: {'learning_rate': 0.01349968097197805, 'max_depth': 5, 'n_estimators': 100}. Best is trial 33 with value: 0.45975436175942636.\u001b[0m\n"
     ]
    },
    {
     "name": "stdout",
     "output_type": "stream",
     "text": [
      "(124, 2)\n",
      "(124,) (124,) (124,)\n"
     ]
    },
    {
     "name": "stderr",
     "output_type": "stream",
     "text": [
      "\u001b[32m[I 2023-05-15 20:23:42,529]\u001b[0m Trial 54 finished with value: 0.4680699491757176 and parameters: {'learning_rate': 0.016185052070139753, 'max_depth': 6, 'n_estimators': 100}. Best is trial 33 with value: 0.45975436175942636.\u001b[0m\n"
     ]
    },
    {
     "name": "stdout",
     "output_type": "stream",
     "text": [
      "(124, 2)\n",
      "(124,) (124,) (124,)\n"
     ]
    },
    {
     "name": "stderr",
     "output_type": "stream",
     "text": [
      "\u001b[32m[I 2023-05-15 20:23:43,105]\u001b[0m Trial 55 finished with value: 0.5096787272980718 and parameters: {'learning_rate': 0.007121259122401544, 'max_depth': 6, 'n_estimators': 100}. Best is trial 33 with value: 0.45975436175942636.\u001b[0m\n"
     ]
    },
    {
     "name": "stdout",
     "output_type": "stream",
     "text": [
      "(124, 2)\n",
      "(124,) (124,) (124,)\n"
     ]
    },
    {
     "name": "stderr",
     "output_type": "stream",
     "text": [
      "\u001b[32m[I 2023-05-15 20:23:43,610]\u001b[0m Trial 56 finished with value: 0.504755600941585 and parameters: {'learning_rate': 0.009382811453636727, 'max_depth': 4, 'n_estimators': 100}. Best is trial 33 with value: 0.45975436175942636.\u001b[0m\n"
     ]
    },
    {
     "name": "stdout",
     "output_type": "stream",
     "text": [
      "(124, 2)\n",
      "(124,) (124,) (124,)\n"
     ]
    },
    {
     "name": "stderr",
     "output_type": "stream",
     "text": [
      "\u001b[32m[I 2023-05-15 20:23:44,268]\u001b[0m Trial 57 finished with value: 0.4755806888581491 and parameters: {'learning_rate': 0.013124661541155052, 'max_depth': 6, 'n_estimators': 100}. Best is trial 33 with value: 0.45975436175942636.\u001b[0m\n"
     ]
    },
    {
     "name": "stdout",
     "output_type": "stream",
     "text": [
      "(124, 2)\n",
      "(124,) (124,) (124,)\n"
     ]
    },
    {
     "name": "stderr",
     "output_type": "stream",
     "text": [
      "\u001b[32m[I 2023-05-15 20:23:45,283]\u001b[0m Trial 58 finished with value: 0.4919769353832578 and parameters: {'learning_rate': 0.009377403587694334, 'max_depth': 5, 'n_estimators': 100}. Best is trial 33 with value: 0.45975436175942636.\u001b[0m\n"
     ]
    },
    {
     "name": "stdout",
     "output_type": "stream",
     "text": [
      "(124, 2)\n",
      "(124,) (124,) (124,)\n"
     ]
    },
    {
     "name": "stderr",
     "output_type": "stream",
     "text": [
      "\u001b[32m[I 2023-05-15 20:23:45,985]\u001b[0m Trial 59 finished with value: 0.48097303321123547 and parameters: {'learning_rate': 0.011321915442517134, 'max_depth': 6, 'n_estimators': 100}. Best is trial 33 with value: 0.45975436175942636.\u001b[0m\n"
     ]
    },
    {
     "name": "stdout",
     "output_type": "stream",
     "text": [
      "(124, 2)\n",
      "(124,) (124,) (124,)\n"
     ]
    },
    {
     "name": "stderr",
     "output_type": "stream",
     "text": [
      "\u001b[32m[I 2023-05-15 20:23:46,710]\u001b[0m Trial 60 finished with value: 0.4684347200893038 and parameters: {'learning_rate': 0.015222776809298828, 'max_depth': 6, 'n_estimators': 100}. Best is trial 33 with value: 0.45975436175942636.\u001b[0m\n"
     ]
    },
    {
     "name": "stdout",
     "output_type": "stream",
     "text": [
      "(124, 2)\n",
      "(124,) (124,) (124,)\n"
     ]
    },
    {
     "name": "stderr",
     "output_type": "stream",
     "text": [
      "\u001b[32m[I 2023-05-15 20:23:47,480]\u001b[0m Trial 61 finished with value: 0.46795979981209396 and parameters: {'learning_rate': 0.01522559000522362, 'max_depth': 6, 'n_estimators': 100}. Best is trial 33 with value: 0.45975436175942636.\u001b[0m\n"
     ]
    },
    {
     "name": "stdout",
     "output_type": "stream",
     "text": [
      "(124, 2)\n",
      "(124,) (124,) (124,)\n"
     ]
    },
    {
     "name": "stderr",
     "output_type": "stream",
     "text": [
      "\u001b[32m[I 2023-05-15 20:23:48,151]\u001b[0m Trial 62 finished with value: 0.46924175536542223 and parameters: {'learning_rate': 0.014979145944182959, 'max_depth': 6, 'n_estimators': 100}. Best is trial 33 with value: 0.45975436175942636.\u001b[0m\n"
     ]
    },
    {
     "name": "stdout",
     "output_type": "stream",
     "text": [
      "(124, 2)\n",
      "(124,) (124,) (124,)\n"
     ]
    },
    {
     "name": "stderr",
     "output_type": "stream",
     "text": [
      "\u001b[32m[I 2023-05-15 20:23:49,058]\u001b[0m Trial 63 finished with value: 0.4775480401507992 and parameters: {'learning_rate': 0.01246037158331674, 'max_depth': 6, 'n_estimators': 100}. Best is trial 33 with value: 0.45975436175942636.\u001b[0m\n"
     ]
    },
    {
     "name": "stdout",
     "output_type": "stream",
     "text": [
      "(124, 2)\n",
      "(124,) (124,) (124,)\n"
     ]
    },
    {
     "name": "stderr",
     "output_type": "stream",
     "text": [
      "\u001b[32m[I 2023-05-15 20:23:49,644]\u001b[0m Trial 64 finished with value: 0.48339886077199923 and parameters: {'learning_rate': 0.021625571055014857, 'max_depth': 5, 'n_estimators': 100}. Best is trial 33 with value: 0.45975436175942636.\u001b[0m\n"
     ]
    },
    {
     "name": "stdout",
     "output_type": "stream",
     "text": [
      "(124, 2)\n",
      "(124,) (124,) (124,)\n"
     ]
    },
    {
     "name": "stderr",
     "output_type": "stream",
     "text": [
      "\u001b[32m[I 2023-05-15 20:23:50,912]\u001b[0m Trial 65 finished with value: 0.5433514865377582 and parameters: {'learning_rate': 0.027730650090737163, 'max_depth': 6, 'n_estimators': 200}. Best is trial 33 with value: 0.45975436175942636.\u001b[0m\n"
     ]
    },
    {
     "name": "stdout",
     "output_type": "stream",
     "text": [
      "(124, 2)\n",
      "(124,) (124,) (124,)\n"
     ]
    },
    {
     "name": "stderr",
     "output_type": "stream",
     "text": [
      "\u001b[32m[I 2023-05-15 20:23:51,629]\u001b[0m Trial 66 finished with value: 0.4902443117005568 and parameters: {'learning_rate': 0.03356868220054128, 'max_depth': 6, 'n_estimators': 100}. Best is trial 33 with value: 0.45975436175942636.\u001b[0m\n"
     ]
    },
    {
     "name": "stdout",
     "output_type": "stream",
     "text": [
      "(124, 2)\n",
      "(124,) (124,) (124,)\n"
     ]
    },
    {
     "name": "stderr",
     "output_type": "stream",
     "text": [
      "\u001b[32m[I 2023-05-15 20:23:52,413]\u001b[0m Trial 67 finished with value: 0.4679805162410898 and parameters: {'learning_rate': 0.015267539175769663, 'max_depth': 6, 'n_estimators': 100}. Best is trial 33 with value: 0.45975436175942636.\u001b[0m\n"
     ]
    },
    {
     "name": "stdout",
     "output_type": "stream",
     "text": [
      "(124, 2)\n",
      "(124,) (124,) (124,)\n"
     ]
    },
    {
     "name": "stderr",
     "output_type": "stream",
     "text": [
      "\u001b[32m[I 2023-05-15 20:23:53,231]\u001b[0m Trial 68 finished with value: 0.46529376567897524 and parameters: {'learning_rate': 0.019416260548970853, 'max_depth': 7, 'n_estimators': 100}. Best is trial 33 with value: 0.45975436175942636.\u001b[0m\n"
     ]
    },
    {
     "name": "stdout",
     "output_type": "stream",
     "text": [
      "(124, 2)\n",
      "(124,) (124,) (124,)\n"
     ]
    },
    {
     "name": "stderr",
     "output_type": "stream",
     "text": [
      "\u001b[32m[I 2023-05-15 20:23:54,038]\u001b[0m Trial 69 finished with value: 0.4711431543477238 and parameters: {'learning_rate': 0.024489185169036632, 'max_depth': 7, 'n_estimators': 100}. Best is trial 33 with value: 0.45975436175942636.\u001b[0m\n"
     ]
    },
    {
     "name": "stdout",
     "output_type": "stream",
     "text": [
      "(124, 2)\n",
      "(124,) (124,) (124,)\n"
     ]
    },
    {
     "name": "stderr",
     "output_type": "stream",
     "text": [
      "\u001b[32m[I 2023-05-15 20:23:55,486]\u001b[0m Trial 70 finished with value: 0.4703583815574991 and parameters: {'learning_rate': 0.0117165050064874, 'max_depth': 7, 'n_estimators': 200}. Best is trial 33 with value: 0.45975436175942636.\u001b[0m\n"
     ]
    },
    {
     "name": "stdout",
     "output_type": "stream",
     "text": [
      "(124, 2)\n",
      "(124,) (124,) (124,)\n"
     ]
    },
    {
     "name": "stderr",
     "output_type": "stream",
     "text": [
      "\u001b[32m[I 2023-05-15 20:23:56,246]\u001b[0m Trial 71 finished with value: 0.46448761338298333 and parameters: {'learning_rate': 0.0194933309952788, 'max_depth': 7, 'n_estimators': 100}. Best is trial 33 with value: 0.45975436175942636.\u001b[0m\n"
     ]
    },
    {
     "name": "stdout",
     "output_type": "stream",
     "text": [
      "(124, 2)\n",
      "(124,) (124,) (124,)\n"
     ]
    },
    {
     "name": "stderr",
     "output_type": "stream",
     "text": [
      "\u001b[32m[I 2023-05-15 20:23:57,110]\u001b[0m Trial 72 finished with value: 0.46541309000429515 and parameters: {'learning_rate': 0.01953102410749504, 'max_depth': 7, 'n_estimators': 100}. Best is trial 33 with value: 0.45975436175942636.\u001b[0m\n"
     ]
    },
    {
     "name": "stdout",
     "output_type": "stream",
     "text": [
      "(124, 2)\n",
      "(124,) (124,) (124,)\n"
     ]
    },
    {
     "name": "stderr",
     "output_type": "stream",
     "text": [
      "\u001b[32m[I 2023-05-15 20:23:58,051]\u001b[0m Trial 73 finished with value: 0.468657137347973 and parameters: {'learning_rate': 0.020219133937667576, 'max_depth': 7, 'n_estimators': 100}. Best is trial 33 with value: 0.45975436175942636.\u001b[0m\n"
     ]
    },
    {
     "name": "stdout",
     "output_type": "stream",
     "text": [
      "(124, 2)\n",
      "(124,) (124,) (124,)\n"
     ]
    },
    {
     "name": "stderr",
     "output_type": "stream",
     "text": [
      "\u001b[32m[I 2023-05-15 20:23:58,947]\u001b[0m Trial 74 finished with value: 0.46745956119037035 and parameters: {'learning_rate': 0.022382842504729866, 'max_depth': 7, 'n_estimators': 100}. Best is trial 33 with value: 0.45975436175942636.\u001b[0m\n"
     ]
    },
    {
     "name": "stdout",
     "output_type": "stream",
     "text": [
      "(124, 2)\n",
      "(124,) (124,) (124,)\n"
     ]
    },
    {
     "name": "stderr",
     "output_type": "stream",
     "text": [
      "\u001b[32m[I 2023-05-15 20:23:59,823]\u001b[0m Trial 75 finished with value: 0.4671992457998043 and parameters: {'learning_rate': 0.028957206492439255, 'max_depth': 7, 'n_estimators': 100}. Best is trial 33 with value: 0.45975436175942636.\u001b[0m\n"
     ]
    },
    {
     "name": "stdout",
     "output_type": "stream",
     "text": [
      "(124, 2)\n",
      "(124,) (124,) (124,)\n"
     ]
    },
    {
     "name": "stderr",
     "output_type": "stream",
     "text": [
      "\u001b[32m[I 2023-05-15 20:24:01,460]\u001b[0m Trial 76 finished with value: 0.5678452422276701 and parameters: {'learning_rate': 0.028930957204459106, 'max_depth': 7, 'n_estimators': 300}. Best is trial 33 with value: 0.45975436175942636.\u001b[0m\n"
     ]
    },
    {
     "name": "stdout",
     "output_type": "stream",
     "text": [
      "(124, 2)\n",
      "(124,) (124,) (124,)\n"
     ]
    },
    {
     "name": "stderr",
     "output_type": "stream",
     "text": [
      "\u001b[32m[I 2023-05-15 20:24:02,271]\u001b[0m Trial 77 finished with value: 0.4740719362435972 and parameters: {'learning_rate': 0.0247439738328823, 'max_depth': 7, 'n_estimators': 100}. Best is trial 33 with value: 0.45975436175942636.\u001b[0m\n"
     ]
    },
    {
     "name": "stdout",
     "output_type": "stream",
     "text": [
      "(124, 2)\n",
      "(124,) (124,) (124,)\n"
     ]
    },
    {
     "name": "stderr",
     "output_type": "stream",
     "text": [
      "\u001b[32m[I 2023-05-15 20:24:02,971]\u001b[0m Trial 78 finished with value: 0.4840708541154277 and parameters: {'learning_rate': 0.03318702224098068, 'max_depth': 7, 'n_estimators': 100}. Best is trial 33 with value: 0.45975436175942636.\u001b[0m\n"
     ]
    },
    {
     "name": "stdout",
     "output_type": "stream",
     "text": [
      "(124, 2)\n",
      "(124,) (124,) (124,)\n"
     ]
    },
    {
     "name": "stderr",
     "output_type": "stream",
     "text": [
      "\u001b[32m[I 2023-05-15 20:24:03,781]\u001b[0m Trial 79 finished with value: 0.4721120887314784 and parameters: {'learning_rate': 0.02201590782371644, 'max_depth': 7, 'n_estimators': 100}. Best is trial 33 with value: 0.45975436175942636.\u001b[0m\n"
     ]
    },
    {
     "name": "stdout",
     "output_type": "stream",
     "text": [
      "(124, 2)\n",
      "(124,) (124,) (124,)\n"
     ]
    },
    {
     "name": "stderr",
     "output_type": "stream",
     "text": [
      "\u001b[32m[I 2023-05-15 20:24:04,904]\u001b[0m Trial 80 finished with value: 0.46439512808759054 and parameters: {'learning_rate': 0.01902229283636373, 'max_depth': 7, 'n_estimators': 100}. Best is trial 33 with value: 0.45975436175942636.\u001b[0m\n"
     ]
    },
    {
     "name": "stdout",
     "output_type": "stream",
     "text": [
      "(124, 2)\n",
      "(124,) (124,) (124,)\n"
     ]
    },
    {
     "name": "stderr",
     "output_type": "stream",
     "text": [
      "\u001b[32m[I 2023-05-15 20:24:06,172]\u001b[0m Trial 81 finished with value: 0.46231662747641084 and parameters: {'learning_rate': 0.01905888888634566, 'max_depth': 7, 'n_estimators': 100}. Best is trial 33 with value: 0.45975436175942636.\u001b[0m\n"
     ]
    },
    {
     "name": "stdout",
     "output_type": "stream",
     "text": [
      "(124, 2)\n",
      "(124,) (124,) (124,)\n"
     ]
    },
    {
     "name": "stderr",
     "output_type": "stream",
     "text": [
      "\u001b[32m[I 2023-05-15 20:24:07,005]\u001b[0m Trial 82 finished with value: 0.4652522141263288 and parameters: {'learning_rate': 0.01988976790256276, 'max_depth': 7, 'n_estimators': 100}. Best is trial 33 with value: 0.45975436175942636.\u001b[0m\n"
     ]
    },
    {
     "name": "stdout",
     "output_type": "stream",
     "text": [
      "(124, 2)\n",
      "(124,) (124,) (124,)\n"
     ]
    },
    {
     "name": "stderr",
     "output_type": "stream",
     "text": [
      "\u001b[32m[I 2023-05-15 20:24:07,923]\u001b[0m Trial 83 finished with value: 0.4633360114413415 and parameters: {'learning_rate': 0.018871717197849885, 'max_depth': 7, 'n_estimators': 100}. Best is trial 33 with value: 0.45975436175942636.\u001b[0m\n"
     ]
    },
    {
     "name": "stdout",
     "output_type": "stream",
     "text": [
      "(124, 2)\n",
      "(124,) (124,) (124,)\n"
     ]
    },
    {
     "name": "stderr",
     "output_type": "stream",
     "text": [
      "\u001b[32m[I 2023-05-15 20:24:08,742]\u001b[0m Trial 84 finished with value: 0.4646056074808466 and parameters: {'learning_rate': 0.019198378608581968, 'max_depth': 7, 'n_estimators': 100}. Best is trial 33 with value: 0.45975436175942636.\u001b[0m\n"
     ]
    },
    {
     "name": "stdout",
     "output_type": "stream",
     "text": [
      "(124, 2)\n",
      "(124,) (124,) (124,)\n"
     ]
    },
    {
     "name": "stderr",
     "output_type": "stream",
     "text": [
      "\u001b[32m[I 2023-05-15 20:24:09,662]\u001b[0m Trial 85 finished with value: 0.4651443655112901 and parameters: {'learning_rate': 0.019410670680439876, 'max_depth': 7, 'n_estimators': 100}. Best is trial 33 with value: 0.45975436175942636.\u001b[0m\n"
     ]
    },
    {
     "name": "stdout",
     "output_type": "stream",
     "text": [
      "(124, 2)\n",
      "(124,) (124,) (124,)\n"
     ]
    },
    {
     "name": "stderr",
     "output_type": "stream",
     "text": [
      "\u001b[32m[I 2023-05-15 20:24:10,701]\u001b[0m Trial 86 finished with value: 0.4659471624130765 and parameters: {'learning_rate': 0.019466012775590576, 'max_depth': 7, 'n_estimators': 100}. Best is trial 33 with value: 0.45975436175942636.\u001b[0m\n"
     ]
    },
    {
     "name": "stdout",
     "output_type": "stream",
     "text": [
      "(124, 2)\n",
      "(124,) (124,) (124,)\n"
     ]
    },
    {
     "name": "stderr",
     "output_type": "stream",
     "text": [
      "\u001b[32m[I 2023-05-15 20:24:12,638]\u001b[0m Trial 87 finished with value: 0.5250269407045375 and parameters: {'learning_rate': 0.0248602835058977, 'max_depth': 7, 'n_estimators': 200}. Best is trial 33 with value: 0.45975436175942636.\u001b[0m\n"
     ]
    },
    {
     "name": "stdout",
     "output_type": "stream",
     "text": [
      "(124, 2)\n",
      "(124,) (124,) (124,)\n"
     ]
    },
    {
     "name": "stderr",
     "output_type": "stream",
     "text": [
      "\u001b[32m[I 2023-05-15 20:24:15,780]\u001b[0m Trial 88 finished with value: 0.5357045561864594 and parameters: {'learning_rate': 0.018448592652409702, 'max_depth': 7, 'n_estimators': 300}. Best is trial 33 with value: 0.45975436175942636.\u001b[0m\n"
     ]
    },
    {
     "name": "stdout",
     "output_type": "stream",
     "text": [
      "(124, 2)\n",
      "(124,) (124,) (124,)\n"
     ]
    },
    {
     "name": "stderr",
     "output_type": "stream",
     "text": [
      "\u001b[32m[I 2023-05-15 20:24:16,685]\u001b[0m Trial 89 finished with value: 0.4684943109601337 and parameters: {'learning_rate': 0.026957262788745863, 'max_depth': 7, 'n_estimators': 100}. Best is trial 33 with value: 0.45975436175942636.\u001b[0m\n"
     ]
    },
    {
     "name": "stdout",
     "output_type": "stream",
     "text": [
      "(124, 2)\n",
      "(124,) (124,) (124,)\n"
     ]
    },
    {
     "name": "stderr",
     "output_type": "stream",
     "text": [
      "\u001b[32m[I 2023-05-15 20:24:18,394]\u001b[0m Trial 90 finished with value: 0.46701509666873176 and parameters: {'learning_rate': 0.014094454130498256, 'max_depth': 7, 'n_estimators': 100}. Best is trial 33 with value: 0.45975436175942636.\u001b[0m\n"
     ]
    },
    {
     "name": "stdout",
     "output_type": "stream",
     "text": [
      "(124, 2)\n",
      "(124,) (124,) (124,)\n"
     ]
    },
    {
     "name": "stderr",
     "output_type": "stream",
     "text": [
      "\u001b[32m[I 2023-05-15 20:24:19,572]\u001b[0m Trial 91 finished with value: 0.46636024466093207 and parameters: {'learning_rate': 0.019718194591338334, 'max_depth': 7, 'n_estimators': 100}. Best is trial 33 with value: 0.45975436175942636.\u001b[0m\n"
     ]
    },
    {
     "name": "stdout",
     "output_type": "stream",
     "text": [
      "(124, 2)\n",
      "(124,) (124,) (124,)\n"
     ]
    },
    {
     "name": "stderr",
     "output_type": "stream",
     "text": [
      "\u001b[32m[I 2023-05-15 20:24:20,512]\u001b[0m Trial 92 finished with value: 0.47292237162404094 and parameters: {'learning_rate': 0.02162072100267932, 'max_depth': 7, 'n_estimators': 100}. Best is trial 33 with value: 0.45975436175942636.\u001b[0m\n"
     ]
    },
    {
     "name": "stdout",
     "output_type": "stream",
     "text": [
      "(124, 2)\n",
      "(124,) (124,) (124,)\n"
     ]
    },
    {
     "name": "stderr",
     "output_type": "stream",
     "text": [
      "\u001b[32m[I 2023-05-15 20:24:21,558]\u001b[0m Trial 93 finished with value: 0.46446248690420083 and parameters: {'learning_rate': 0.018768280050221298, 'max_depth': 7, 'n_estimators': 100}. Best is trial 33 with value: 0.45975436175942636.\u001b[0m\n"
     ]
    },
    {
     "name": "stdout",
     "output_type": "stream",
     "text": [
      "(124, 2)\n",
      "(124,) (124,) (124,)\n"
     ]
    },
    {
     "name": "stderr",
     "output_type": "stream",
     "text": [
      "\u001b[32m[I 2023-05-15 20:24:22,415]\u001b[0m Trial 94 finished with value: 0.4618530069011365 and parameters: {'learning_rate': 0.01800003938193742, 'max_depth': 7, 'n_estimators': 100}. Best is trial 33 with value: 0.45975436175942636.\u001b[0m\n"
     ]
    },
    {
     "name": "stdout",
     "output_type": "stream",
     "text": [
      "(124, 2)\n",
      "(124,) (124,) (124,)\n"
     ]
    },
    {
     "name": "stderr",
     "output_type": "stream",
     "text": [
      "\u001b[32m[I 2023-05-15 20:24:23,239]\u001b[0m Trial 95 finished with value: 0.46904573760388846 and parameters: {'learning_rate': 0.023526415255024823, 'max_depth': 7, 'n_estimators': 100}. Best is trial 33 with value: 0.45975436175942636.\u001b[0m\n"
     ]
    },
    {
     "name": "stdout",
     "output_type": "stream",
     "text": [
      "(124, 2)\n",
      "(124,) (124,) (124,)\n"
     ]
    },
    {
     "name": "stderr",
     "output_type": "stream",
     "text": [
      "\u001b[32m[I 2023-05-15 20:24:24,045]\u001b[0m Trial 96 finished with value: 0.4637515367060209 and parameters: {'learning_rate': 0.017400062449177155, 'max_depth': 7, 'n_estimators': 100}. Best is trial 33 with value: 0.45975436175942636.\u001b[0m\n"
     ]
    },
    {
     "name": "stdout",
     "output_type": "stream",
     "text": [
      "(124, 2)\n",
      "(124,) (124,) (124,)\n"
     ]
    },
    {
     "name": "stderr",
     "output_type": "stream",
     "text": [
      "\u001b[32m[I 2023-05-15 20:24:24,855]\u001b[0m Trial 97 finished with value: 0.4651890588980732 and parameters: {'learning_rate': 0.017611794983228353, 'max_depth': 7, 'n_estimators': 100}. Best is trial 33 with value: 0.45975436175942636.\u001b[0m\n"
     ]
    },
    {
     "name": "stdout",
     "output_type": "stream",
     "text": [
      "(124, 2)\n",
      "(124,) (124,) (124,)\n"
     ]
    },
    {
     "name": "stderr",
     "output_type": "stream",
     "text": [
      "\u001b[32m[I 2023-05-15 20:24:25,678]\u001b[0m Trial 98 finished with value: 0.46738089433142427 and parameters: {'learning_rate': 0.013887677700319769, 'max_depth': 7, 'n_estimators': 100}. Best is trial 33 with value: 0.45975436175942636.\u001b[0m\n"
     ]
    },
    {
     "name": "stdout",
     "output_type": "stream",
     "text": [
      "(124, 2)\n",
      "(124,) (124,) (124,)\n"
     ]
    },
    {
     "name": "stderr",
     "output_type": "stream",
     "text": [
      "\u001b[32m[I 2023-05-15 20:24:26,520]\u001b[0m Trial 99 finished with value: 0.4601850212549993 and parameters: {'learning_rate': 0.016495364925348022, 'max_depth': 7, 'n_estimators': 100}. Best is trial 33 with value: 0.45975436175942636.\u001b[0m\n"
     ]
    },
    {
     "name": "stdout",
     "output_type": "stream",
     "text": [
      "(124, 2)\n",
      "(124,) (124,) (124,)\n"
     ]
    }
   ],
   "source": [
    "import optuna\n",
    "from xgboost import XGBClassifier\n",
    "\n",
    "def objective(trial):\n",
    "    # Define the search space for hyperparameters\n",
    "    param_space = {\n",
    "        'learning_rate': trial.suggest_loguniform('learning_rate', 0.001, 0.1),\n",
    "        'max_depth': trial.suggest_int('max_depth', 3, 7),\n",
    "        'n_estimators': trial.suggest_categorical('n_estimators', [100, 200, 300])\n",
    "    }\n",
    "\n",
    "    # Create an XGBoost classifier with the suggested hyperparameters\n",
    "    xgb_model = XGBClassifier(**param_space)\n",
    "\n",
    "    # Train and evaluate the model\n",
    "    xgb_model.fit(X_train, y_train)\n",
    "    y_pred = xgb_model.predict_proba(X_test)\n",
    "    score = competition_log_loss(y_test, y_pred)\n",
    "\n",
    "    return score\n",
    "\n",
    "study = optuna.create_study(direction='minimize')\n",
    "study.optimize(objective, n_trials=100)\n",
    "best_params = study.best_params\n",
    "\n"
   ]
  },
  {
   "cell_type": "code",
   "execution_count": 224,
   "metadata": {},
   "outputs": [
    {
     "name": "stdout",
     "output_type": "stream",
     "text": [
      "{'learning_rate': 0.01596255039414685, 'max_depth': 7, 'n_estimators': 100}\n",
      "0.45975436175942636\n"
     ]
    }
   ],
   "source": [
    "print(best_params)\n",
    "print(study.best_value)"
   ]
  },
  {
   "cell_type": "code",
   "execution_count": 176,
   "metadata": {},
   "outputs": [
    {
     "name": "stdout",
     "output_type": "stream",
     "text": [
      "Accuracy of LGBM classifier on train set: 1.00\n",
      "[[407   0]\n",
      " [  0  86]]\n",
      "              precision    recall  f1-score   support\n",
      "\n",
      "           0       1.00      1.00      1.00       407\n",
      "           1       1.00      1.00      1.00        86\n",
      "\n",
      "   micro avg       1.00      1.00      1.00       493\n",
      "   macro avg       1.00      1.00      1.00       493\n",
      "weighted avg       1.00      1.00      1.00       493\n",
      "\n",
      "Accuracy of LGBM classifier on test set: 0.91\n",
      "[[98  4]\n",
      " [ 7 15]]\n",
      "              precision    recall  f1-score   support\n",
      "\n",
      "           0       0.93      0.96      0.95       102\n",
      "           1       0.79      0.68      0.73        22\n",
      "\n",
      "   micro avg       0.91      0.91      0.91       124\n",
      "   macro avg       0.86      0.82      0.84       124\n",
      "weighted avg       0.91      0.91      0.91       124\n",
      "\n",
      "(124, 2)\n",
      "(124,) (124,) (124,)\n",
      "0.6513792546428051\n"
     ]
    }
   ],
   "source": [
    "# LIGHTGBM\n",
    "import lightgbm as lgb\n",
    "\n",
    "lgbm = lgb.LGBMClassifier()\n",
    "lgbm.fit(X_train, y_train)\n",
    "y_pred = lgbm.predict(X_train)\n",
    "\n",
    "print('Accuracy of LGBM classifier on train set: {:.2f}'.format(accuracy_score(y_train, y_pred)))\n",
    "print(confusion_matrix(y_train, y_pred))\n",
    "print(classification_report(y_train, y_pred))\n",
    "\n",
    "y_pred = lgbm.predict(X_test)\n",
    "y_pred2 =   lgbm.predict_proba(X_test)\n",
    "\n",
    "print('Accuracy of LGBM classifier on test set: {:.2f}'.format(accuracy_score(y_test, y_pred)))\n",
    "print(confusion_matrix(y_test, y_pred))\n",
    "print(classification_report(y_test, y_pred))\n",
    "\n",
    "print(competition_log_loss(y_test, y_pred2))\n"
   ]
  },
  {
   "cell_type": "code",
   "execution_count": 225,
   "metadata": {},
   "outputs": [
    {
     "name": "stderr",
     "output_type": "stream",
     "text": [
      "\u001b[32m[I 2023-05-15 20:29:54,943]\u001b[0m A new study created in memory with name: no-name-2cfdd93a-5961-42d9-9755-2415ca36a1bb\u001b[0m\n",
      "/Users/gary/anaconda3/lib/python3.7/site-packages/ipykernel_launcher.py:5: FutureWarning: suggest_loguniform has been deprecated in v3.0.0. This feature will be removed in v6.0.0. See https://github.com/optuna/optuna/releases/tag/v3.0.0. Use :func:`~optuna.trial.Trial.suggest_float` instead.\n",
      "  \"\"\"\n",
      "\u001b[32m[I 2023-05-15 20:29:56,201]\u001b[0m Trial 0 finished with value: 0.7709744446393468 and parameters: {'learning_rate': 0.002840513627856833, 'max_depth': 5, 'n_estimators': 100}. Best is trial 0 with value: 0.7709744446393468.\u001b[0m\n"
     ]
    },
    {
     "name": "stdout",
     "output_type": "stream",
     "text": [
      "(124, 2)\n",
      "(124,) (124,) (124,)\n"
     ]
    },
    {
     "name": "stderr",
     "output_type": "stream",
     "text": [
      "\u001b[32m[I 2023-05-15 20:29:59,672]\u001b[0m Trial 1 finished with value: 0.5315303193439643 and parameters: {'learning_rate': 0.006038523629475501, 'max_depth': 7, 'n_estimators': 300}. Best is trial 1 with value: 0.5315303193439643.\u001b[0m\n"
     ]
    },
    {
     "name": "stdout",
     "output_type": "stream",
     "text": [
      "(124, 2)\n",
      "(124,) (124,) (124,)\n"
     ]
    },
    {
     "name": "stderr",
     "output_type": "stream",
     "text": [
      "\u001b[32m[I 2023-05-15 20:30:00,535]\u001b[0m Trial 2 finished with value: 0.5043814626443425 and parameters: {'learning_rate': 0.055830187758076494, 'max_depth': 4, 'n_estimators': 100}. Best is trial 2 with value: 0.5043814626443425.\u001b[0m\n"
     ]
    },
    {
     "name": "stdout",
     "output_type": "stream",
     "text": [
      "(124, 2)\n",
      "(124,) (124,) (124,)\n"
     ]
    },
    {
     "name": "stderr",
     "output_type": "stream",
     "text": [
      "\u001b[32m[I 2023-05-15 20:30:01,741]\u001b[0m Trial 3 finished with value: 0.7021161161908762 and parameters: {'learning_rate': 0.0015065609645015102, 'max_depth': 5, 'n_estimators': 300}. Best is trial 2 with value: 0.5043814626443425.\u001b[0m\n"
     ]
    },
    {
     "name": "stdout",
     "output_type": "stream",
     "text": [
      "(124, 2)\n",
      "(124,) (124,) (124,)\n"
     ]
    },
    {
     "name": "stderr",
     "output_type": "stream",
     "text": [
      "\u001b[32m[I 2023-05-15 20:30:10,094]\u001b[0m Trial 4 finished with value: 0.5506161695583162 and parameters: {'learning_rate': 0.02803609873180122, 'max_depth': 7, 'n_estimators': 200}. Best is trial 2 with value: 0.5043814626443425.\u001b[0m\n"
     ]
    },
    {
     "name": "stdout",
     "output_type": "stream",
     "text": [
      "(124, 2)\n",
      "(124,) (124,) (124,)\n"
     ]
    },
    {
     "name": "stderr",
     "output_type": "stream",
     "text": [
      "\u001b[32m[I 2023-05-15 20:30:13,394]\u001b[0m Trial 5 finished with value: 0.545312739620964 and parameters: {'learning_rate': 0.04087707923096448, 'max_depth': 7, 'n_estimators': 200}. Best is trial 2 with value: 0.5043814626443425.\u001b[0m\n"
     ]
    },
    {
     "name": "stdout",
     "output_type": "stream",
     "text": [
      "(124, 2)\n",
      "(124,) (124,) (124,)\n"
     ]
    },
    {
     "name": "stderr",
     "output_type": "stream",
     "text": [
      "\u001b[32m[I 2023-05-15 20:30:14,635]\u001b[0m Trial 6 finished with value: 0.7715042172560344 and parameters: {'learning_rate': 0.001035269354800879, 'max_depth': 3, 'n_estimators': 300}. Best is trial 2 with value: 0.5043814626443425.\u001b[0m\n"
     ]
    },
    {
     "name": "stdout",
     "output_type": "stream",
     "text": [
      "(124, 2)\n",
      "(124,) (124,) (124,)\n"
     ]
    },
    {
     "name": "stderr",
     "output_type": "stream",
     "text": [
      "\u001b[32m[I 2023-05-15 20:30:15,533]\u001b[0m Trial 7 finished with value: 0.7891084288511542 and parameters: {'learning_rate': 0.002491377102006751, 'max_depth': 6, 'n_estimators': 100}. Best is trial 2 with value: 0.5043814626443425.\u001b[0m\n"
     ]
    },
    {
     "name": "stdout",
     "output_type": "stream",
     "text": [
      "(124, 2)\n",
      "(124,) (124,) (124,)\n"
     ]
    },
    {
     "name": "stderr",
     "output_type": "stream",
     "text": [
      "\u001b[32m[I 2023-05-15 20:30:16,233]\u001b[0m Trial 8 finished with value: 0.5481150138218647 and parameters: {'learning_rate': 0.013598477416820914, 'max_depth': 6, 'n_estimators': 100}. Best is trial 2 with value: 0.5043814626443425.\u001b[0m\n"
     ]
    },
    {
     "name": "stdout",
     "output_type": "stream",
     "text": [
      "(124, 2)\n",
      "(124,) (124,) (124,)\n"
     ]
    },
    {
     "name": "stderr",
     "output_type": "stream",
     "text": [
      "\u001b[32m[I 2023-05-15 20:30:17,188]\u001b[0m Trial 9 finished with value: 0.5055143688063969 and parameters: {'learning_rate': 0.026442537046663345, 'max_depth': 3, 'n_estimators': 300}. Best is trial 2 with value: 0.5043814626443425.\u001b[0m\n"
     ]
    },
    {
     "name": "stdout",
     "output_type": "stream",
     "text": [
      "(124, 2)\n",
      "(124,) (124,) (124,)\n"
     ]
    },
    {
     "name": "stderr",
     "output_type": "stream",
     "text": [
      "\u001b[32m[I 2023-05-15 20:30:17,755]\u001b[0m Trial 10 finished with value: 0.536763999730669 and parameters: {'learning_rate': 0.09974294366664291, 'max_depth': 4, 'n_estimators': 100}. Best is trial 2 with value: 0.5043814626443425.\u001b[0m\n"
     ]
    },
    {
     "name": "stdout",
     "output_type": "stream",
     "text": [
      "(124, 2)\n",
      "(124,) (124,) (124,)\n"
     ]
    },
    {
     "name": "stderr",
     "output_type": "stream",
     "text": [
      "\u001b[32m[I 2023-05-15 20:30:18,928]\u001b[0m Trial 11 finished with value: 0.508062585414427 and parameters: {'learning_rate': 0.04628588941670189, 'max_depth': 3, 'n_estimators': 300}. Best is trial 2 with value: 0.5043814626443425.\u001b[0m\n"
     ]
    },
    {
     "name": "stdout",
     "output_type": "stream",
     "text": [
      "(124, 2)\n",
      "(124,) (124,) (124,)\n"
     ]
    },
    {
     "name": "stderr",
     "output_type": "stream",
     "text": [
      "\u001b[32m[I 2023-05-15 20:30:20,662]\u001b[0m Trial 12 finished with value: 0.49638462920061477 and parameters: {'learning_rate': 0.01773174265389388, 'max_depth': 4, 'n_estimators': 300}. Best is trial 12 with value: 0.49638462920061477.\u001b[0m\n"
     ]
    },
    {
     "name": "stdout",
     "output_type": "stream",
     "text": [
      "(124, 2)\n",
      "(124,) (124,) (124,)\n"
     ]
    },
    {
     "name": "stderr",
     "output_type": "stream",
     "text": [
      "\u001b[32m[I 2023-05-15 20:30:22,120]\u001b[0m Trial 13 finished with value: 0.5613360868596545 and parameters: {'learning_rate': 0.012070507304520162, 'max_depth': 4, 'n_estimators': 100}. Best is trial 12 with value: 0.49638462920061477.\u001b[0m\n"
     ]
    },
    {
     "name": "stdout",
     "output_type": "stream",
     "text": [
      "(124, 2)\n",
      "(124,) (124,) (124,)\n"
     ]
    },
    {
     "name": "stderr",
     "output_type": "stream",
     "text": [
      "\u001b[32m[I 2023-05-15 20:30:23,513]\u001b[0m Trial 14 finished with value: 0.6453172035202547 and parameters: {'learning_rate': 0.08478985260106366, 'max_depth': 4, 'n_estimators': 200}. Best is trial 12 with value: 0.49638462920061477.\u001b[0m\n"
     ]
    },
    {
     "name": "stdout",
     "output_type": "stream",
     "text": [
      "(124, 2)\n",
      "(124,) (124,) (124,)\n"
     ]
    },
    {
     "name": "stderr",
     "output_type": "stream",
     "text": [
      "\u001b[32m[I 2023-05-15 20:30:24,161]\u001b[0m Trial 15 finished with value: 0.5242398336578021 and parameters: {'learning_rate': 0.019483367836554792, 'max_depth': 4, 'n_estimators': 100}. Best is trial 12 with value: 0.49638462920061477.\u001b[0m\n"
     ]
    },
    {
     "name": "stdout",
     "output_type": "stream",
     "text": [
      "(124, 2)\n",
      "(124,) (124,) (124,)\n"
     ]
    },
    {
     "name": "stderr",
     "output_type": "stream",
     "text": [
      "\u001b[32m[I 2023-05-15 20:30:26,047]\u001b[0m Trial 16 finished with value: 0.5332441926569091 and parameters: {'learning_rate': 0.006531683419781207, 'max_depth': 5, 'n_estimators': 300}. Best is trial 12 with value: 0.49638462920061477.\u001b[0m\n"
     ]
    },
    {
     "name": "stdout",
     "output_type": "stream",
     "text": [
      "(124, 2)\n",
      "(124,) (124,) (124,)\n"
     ]
    },
    {
     "name": "stderr",
     "output_type": "stream",
     "text": [
      "\u001b[32m[I 2023-05-15 20:30:27,597]\u001b[0m Trial 17 finished with value: 0.52889428388747 and parameters: {'learning_rate': 0.0495956560698191, 'max_depth': 4, 'n_estimators': 300}. Best is trial 12 with value: 0.49638462920061477.\u001b[0m\n"
     ]
    },
    {
     "name": "stdout",
     "output_type": "stream",
     "text": [
      "(124, 2)\n",
      "(124,) (124,) (124,)\n"
     ]
    },
    {
     "name": "stderr",
     "output_type": "stream",
     "text": [
      "\u001b[32m[I 2023-05-15 20:30:28,362]\u001b[0m Trial 18 finished with value: 0.5338983479717819 and parameters: {'learning_rate': 0.01882712103269551, 'max_depth': 6, 'n_estimators': 100}. Best is trial 12 with value: 0.49638462920061477.\u001b[0m\n"
     ]
    },
    {
     "name": "stdout",
     "output_type": "stream",
     "text": [
      "(124, 2)\n",
      "(124,) (124,) (124,)\n"
     ]
    },
    {
     "name": "stderr",
     "output_type": "stream",
     "text": [
      "\u001b[32m[I 2023-05-15 20:30:29,093]\u001b[0m Trial 19 finished with value: 0.525801919595796 and parameters: {'learning_rate': 0.06186705389290735, 'max_depth': 3, 'n_estimators': 200}. Best is trial 12 with value: 0.49638462920061477.\u001b[0m\n"
     ]
    },
    {
     "name": "stdout",
     "output_type": "stream",
     "text": [
      "(124, 2)\n",
      "(124,) (124,) (124,)\n"
     ]
    },
    {
     "name": "stderr",
     "output_type": "stream",
     "text": [
      "\u001b[32m[I 2023-05-15 20:30:29,679]\u001b[0m Trial 20 finished with value: 0.504459060292842 and parameters: {'learning_rate': 0.029313236219062042, 'max_depth': 4, 'n_estimators': 100}. Best is trial 12 with value: 0.49638462920061477.\u001b[0m\n"
     ]
    },
    {
     "name": "stdout",
     "output_type": "stream",
     "text": [
      "(124, 2)\n",
      "(124,) (124,) (124,)\n"
     ]
    },
    {
     "name": "stderr",
     "output_type": "stream",
     "text": [
      "\u001b[32m[I 2023-05-15 20:30:30,428]\u001b[0m Trial 21 finished with value: 0.5086966216443474 and parameters: {'learning_rate': 0.031226403915919573, 'max_depth': 4, 'n_estimators': 100}. Best is trial 12 with value: 0.49638462920061477.\u001b[0m\n"
     ]
    },
    {
     "name": "stdout",
     "output_type": "stream",
     "text": [
      "(124, 2)\n",
      "(124,) (124,) (124,)\n"
     ]
    },
    {
     "name": "stderr",
     "output_type": "stream",
     "text": [
      "\u001b[32m[I 2023-05-15 20:30:31,174]\u001b[0m Trial 22 finished with value: 0.5447016370225054 and parameters: {'learning_rate': 0.06368919954989297, 'max_depth': 5, 'n_estimators': 100}. Best is trial 12 with value: 0.49638462920061477.\u001b[0m\n"
     ]
    },
    {
     "name": "stdout",
     "output_type": "stream",
     "text": [
      "(124, 2)\n",
      "(124,) (124,) (124,)\n"
     ]
    },
    {
     "name": "stderr",
     "output_type": "stream",
     "text": [
      "\u001b[32m[I 2023-05-15 20:30:31,795]\u001b[0m Trial 23 finished with value: 0.5176482469866474 and parameters: {'learning_rate': 0.034822382514857815, 'max_depth': 4, 'n_estimators': 100}. Best is trial 12 with value: 0.49638462920061477.\u001b[0m\n"
     ]
    },
    {
     "name": "stdout",
     "output_type": "stream",
     "text": [
      "(124, 2)\n",
      "(124,) (124,) (124,)\n"
     ]
    },
    {
     "name": "stderr",
     "output_type": "stream",
     "text": [
      "\u001b[32m[I 2023-05-15 20:30:32,288]\u001b[0m Trial 24 finished with value: 0.5621540375567744 and parameters: {'learning_rate': 0.020900162771776077, 'max_depth': 3, 'n_estimators': 100}. Best is trial 12 with value: 0.49638462920061477.\u001b[0m\n"
     ]
    },
    {
     "name": "stdout",
     "output_type": "stream",
     "text": [
      "(124, 2)\n",
      "(124,) (124,) (124,)\n"
     ]
    },
    {
     "name": "stderr",
     "output_type": "stream",
     "text": [
      "\u001b[32m[I 2023-05-15 20:30:33,710]\u001b[0m Trial 25 finished with value: 0.5597859199031412 and parameters: {'learning_rate': 0.03940620961426507, 'max_depth': 4, 'n_estimators': 300}. Best is trial 12 with value: 0.49638462920061477.\u001b[0m\n"
     ]
    },
    {
     "name": "stdout",
     "output_type": "stream",
     "text": [
      "(124, 2)\n",
      "(124,) (124,) (124,)\n"
     ]
    },
    {
     "name": "stderr",
     "output_type": "stream",
     "text": [
      "\u001b[32m[I 2023-05-15 20:30:34,381]\u001b[0m Trial 26 finished with value: 0.5416509474374038 and parameters: {'learning_rate': 0.015022207544364051, 'max_depth': 5, 'n_estimators': 100}. Best is trial 12 with value: 0.49638462920061477.\u001b[0m\n"
     ]
    },
    {
     "name": "stdout",
     "output_type": "stream",
     "text": [
      "(124, 2)\n",
      "(124,) (124,) (124,)\n"
     ]
    },
    {
     "name": "stderr",
     "output_type": "stream",
     "text": [
      "\u001b[32m[I 2023-05-15 20:30:35,883]\u001b[0m Trial 27 finished with value: 0.5057059682844891 and parameters: {'learning_rate': 0.009223810092595906, 'max_depth': 4, 'n_estimators': 300}. Best is trial 12 with value: 0.49638462920061477.\u001b[0m\n"
     ]
    },
    {
     "name": "stdout",
     "output_type": "stream",
     "text": [
      "(124, 2)\n",
      "(124,) (124,) (124,)\n"
     ]
    },
    {
     "name": "stderr",
     "output_type": "stream",
     "text": [
      "\u001b[32m[I 2023-05-15 20:30:36,534]\u001b[0m Trial 28 finished with value: 0.5045686911216947 and parameters: {'learning_rate': 0.06302898550275832, 'max_depth': 3, 'n_estimators': 100}. Best is trial 12 with value: 0.49638462920061477.\u001b[0m\n"
     ]
    },
    {
     "name": "stdout",
     "output_type": "stream",
     "text": [
      "(124, 2)\n",
      "(124,) (124,) (124,)\n"
     ]
    },
    {
     "name": "stderr",
     "output_type": "stream",
     "text": [
      "\u001b[32m[I 2023-05-15 20:30:37,907]\u001b[0m Trial 29 finished with value: 0.5512349198807294 and parameters: {'learning_rate': 0.03291293455487212, 'max_depth': 5, 'n_estimators': 200}. Best is trial 12 with value: 0.49638462920061477.\u001b[0m\n"
     ]
    },
    {
     "name": "stdout",
     "output_type": "stream",
     "text": [
      "(124, 2)\n",
      "(124,) (124,) (124,)\n"
     ]
    },
    {
     "name": "stderr",
     "output_type": "stream",
     "text": [
      "\u001b[32m[I 2023-05-15 20:30:38,713]\u001b[0m Trial 30 finished with value: 0.5195842554647967 and parameters: {'learning_rate': 0.02816412311659706, 'max_depth': 5, 'n_estimators': 100}. Best is trial 12 with value: 0.49638462920061477.\u001b[0m\n"
     ]
    },
    {
     "name": "stdout",
     "output_type": "stream",
     "text": [
      "(124, 2)\n",
      "(124,) (124,) (124,)\n"
     ]
    },
    {
     "name": "stderr",
     "output_type": "stream",
     "text": [
      "\u001b[32m[I 2023-05-15 20:30:39,181]\u001b[0m Trial 31 finished with value: 0.5181430796452468 and parameters: {'learning_rate': 0.07882837081599041, 'max_depth': 3, 'n_estimators': 100}. Best is trial 12 with value: 0.49638462920061477.\u001b[0m\n"
     ]
    },
    {
     "name": "stdout",
     "output_type": "stream",
     "text": [
      "(124, 2)\n",
      "(124,) (124,) (124,)\n"
     ]
    },
    {
     "name": "stderr",
     "output_type": "stream",
     "text": [
      "\u001b[32m[I 2023-05-15 20:30:39,544]\u001b[0m Trial 32 finished with value: 0.5094519066747332 and parameters: {'learning_rate': 0.05440574647633327, 'max_depth': 3, 'n_estimators': 100}. Best is trial 12 with value: 0.49638462920061477.\u001b[0m\n"
     ]
    },
    {
     "name": "stdout",
     "output_type": "stream",
     "text": [
      "(124, 2)\n",
      "(124,) (124,) (124,)\n"
     ]
    },
    {
     "name": "stderr",
     "output_type": "stream",
     "text": [
      "\u001b[32m[I 2023-05-15 20:30:40,123]\u001b[0m Trial 33 finished with value: 0.5030352512364223 and parameters: {'learning_rate': 0.05681211098062605, 'max_depth': 4, 'n_estimators': 100}. Best is trial 12 with value: 0.49638462920061477.\u001b[0m\n"
     ]
    },
    {
     "name": "stdout",
     "output_type": "stream",
     "text": [
      "(124, 2)\n",
      "(124,) (124,) (124,)\n"
     ]
    },
    {
     "name": "stderr",
     "output_type": "stream",
     "text": [
      "\u001b[32m[I 2023-05-15 20:30:40,742]\u001b[0m Trial 34 finished with value: 0.5056685676652665 and parameters: {'learning_rate': 0.043394440698878, 'max_depth': 4, 'n_estimators': 100}. Best is trial 12 with value: 0.49638462920061477.\u001b[0m\n"
     ]
    },
    {
     "name": "stdout",
     "output_type": "stream",
     "text": [
      "(124, 2)\n",
      "(124,) (124,) (124,)\n"
     ]
    },
    {
     "name": "stderr",
     "output_type": "stream",
     "text": [
      "\u001b[32m[I 2023-05-15 20:30:42,440]\u001b[0m Trial 35 finished with value: 0.5057403605309918 and parameters: {'learning_rate': 0.02554712309054352, 'max_depth': 4, 'n_estimators': 300}. Best is trial 12 with value: 0.49638462920061477.\u001b[0m\n"
     ]
    },
    {
     "name": "stdout",
     "output_type": "stream",
     "text": [
      "(124, 2)\n",
      "(124,) (124,) (124,)\n"
     ]
    },
    {
     "name": "stderr",
     "output_type": "stream",
     "text": [
      "\u001b[32m[I 2023-05-15 20:30:43,366]\u001b[0m Trial 36 finished with value: 0.5247913774582793 and parameters: {'learning_rate': 0.0368292912103782, 'max_depth': 5, 'n_estimators': 100}. Best is trial 12 with value: 0.49638462920061477.\u001b[0m\n"
     ]
    },
    {
     "name": "stdout",
     "output_type": "stream",
     "text": [
      "(124, 2)\n",
      "(124,) (124,) (124,)\n"
     ]
    },
    {
     "name": "stderr",
     "output_type": "stream",
     "text": [
      "\u001b[32m[I 2023-05-15 20:30:44,834]\u001b[0m Trial 37 finished with value: 0.7185661495161295 and parameters: {'learning_rate': 0.07483956669060085, 'max_depth': 5, 'n_estimators': 200}. Best is trial 12 with value: 0.49638462920061477.\u001b[0m\n"
     ]
    },
    {
     "name": "stdout",
     "output_type": "stream",
     "text": [
      "(124, 2)\n",
      "(124,) (124,) (124,)\n"
     ]
    },
    {
     "name": "stderr",
     "output_type": "stream",
     "text": [
      "\u001b[32m[I 2023-05-15 20:30:47,397]\u001b[0m Trial 38 finished with value: 0.5774005230587477 and parameters: {'learning_rate': 0.05094539551621755, 'max_depth': 4, 'n_estimators': 300}. Best is trial 12 with value: 0.49638462920061477.\u001b[0m\n"
     ]
    },
    {
     "name": "stdout",
     "output_type": "stream",
     "text": [
      "(124, 2)\n",
      "(124,) (124,) (124,)\n"
     ]
    },
    {
     "name": "stderr",
     "output_type": "stream",
     "text": [
      "\u001b[32m[I 2023-05-15 20:30:49,579]\u001b[0m Trial 39 finished with value: 0.5157013790864948 and parameters: {'learning_rate': 0.022977053290879068, 'max_depth': 4, 'n_estimators': 100}. Best is trial 12 with value: 0.49638462920061477.\u001b[0m\n"
     ]
    },
    {
     "name": "stdout",
     "output_type": "stream",
     "text": [
      "(124, 2)\n",
      "(124,) (124,) (124,)\n"
     ]
    },
    {
     "name": "stderr",
     "output_type": "stream",
     "text": [
      "\u001b[32m[I 2023-05-15 20:30:55,466]\u001b[0m Trial 40 finished with value: 0.5353300757876555 and parameters: {'learning_rate': 0.01649135691673493, 'max_depth': 6, 'n_estimators': 300}. Best is trial 12 with value: 0.49638462920061477.\u001b[0m\n"
     ]
    },
    {
     "name": "stdout",
     "output_type": "stream",
     "text": [
      "(124, 2)\n",
      "(124,) (124,) (124,)\n"
     ]
    },
    {
     "name": "stderr",
     "output_type": "stream",
     "text": [
      "\u001b[32m[I 2023-05-15 20:30:56,151]\u001b[0m Trial 41 finished with value: 0.5091071762519439 and parameters: {'learning_rate': 0.06466923510802625, 'max_depth': 3, 'n_estimators': 100}. Best is trial 12 with value: 0.49638462920061477.\u001b[0m\n"
     ]
    },
    {
     "name": "stdout",
     "output_type": "stream",
     "text": [
      "(124, 2)\n",
      "(124,) (124,) (124,)\n"
     ]
    },
    {
     "name": "stderr",
     "output_type": "stream",
     "text": [
      "\u001b[32m[I 2023-05-15 20:30:57,343]\u001b[0m Trial 42 finished with value: 0.5260133773680365 and parameters: {'learning_rate': 0.09823716776687039, 'max_depth': 3, 'n_estimators': 100}. Best is trial 12 with value: 0.49638462920061477.\u001b[0m\n"
     ]
    },
    {
     "name": "stdout",
     "output_type": "stream",
     "text": [
      "(124, 2)\n",
      "(124,) (124,) (124,)\n"
     ]
    },
    {
     "name": "stderr",
     "output_type": "stream",
     "text": [
      "\u001b[32m[I 2023-05-15 20:30:58,233]\u001b[0m Trial 43 finished with value: 0.5102768006061752 and parameters: {'learning_rate': 0.042804178125163905, 'max_depth': 3, 'n_estimators': 100}. Best is trial 12 with value: 0.49638462920061477.\u001b[0m\n"
     ]
    },
    {
     "name": "stdout",
     "output_type": "stream",
     "text": [
      "(124, 2)\n",
      "(124,) (124,) (124,)\n"
     ]
    },
    {
     "name": "stderr",
     "output_type": "stream",
     "text": [
      "\u001b[32m[I 2023-05-15 20:30:59,100]\u001b[0m Trial 44 finished with value: 0.5053845111280532 and parameters: {'learning_rate': 0.05825275019261837, 'max_depth': 4, 'n_estimators': 100}. Best is trial 12 with value: 0.49638462920061477.\u001b[0m\n"
     ]
    },
    {
     "name": "stdout",
     "output_type": "stream",
     "text": [
      "(124, 2)\n",
      "(124,) (124,) (124,)\n"
     ]
    },
    {
     "name": "stderr",
     "output_type": "stream",
     "text": [
      "\u001b[32m[I 2023-05-15 20:31:01,315]\u001b[0m Trial 45 finished with value: 0.5405637841381542 and parameters: {'learning_rate': 0.027059237843689778, 'max_depth': 3, 'n_estimators': 100}. Best is trial 12 with value: 0.49638462920061477.\u001b[0m\n"
     ]
    },
    {
     "name": "stdout",
     "output_type": "stream",
     "text": [
      "(124, 2)\n",
      "(124,) (124,) (124,)\n"
     ]
    },
    {
     "name": "stderr",
     "output_type": "stream",
     "text": [
      "\u001b[32m[I 2023-05-15 20:31:02,871]\u001b[0m Trial 46 finished with value: 0.5210810868655424 and parameters: {'learning_rate': 0.07415335298990167, 'max_depth': 4, 'n_estimators': 100}. Best is trial 12 with value: 0.49638462920061477.\u001b[0m\n"
     ]
    },
    {
     "name": "stdout",
     "output_type": "stream",
     "text": [
      "(124, 2)\n",
      "(124,) (124,) (124,)\n"
     ]
    },
    {
     "name": "stderr",
     "output_type": "stream",
     "text": [
      "\u001b[32m[I 2023-05-15 20:31:08,011]\u001b[0m Trial 47 finished with value: 0.5858921879686108 and parameters: {'learning_rate': 0.04994583094286133, 'max_depth': 7, 'n_estimators': 200}. Best is trial 12 with value: 0.49638462920061477.\u001b[0m\n"
     ]
    },
    {
     "name": "stdout",
     "output_type": "stream",
     "text": [
      "(124, 2)\n",
      "(124,) (124,) (124,)\n"
     ]
    },
    {
     "name": "stderr",
     "output_type": "stream",
     "text": [
      "\u001b[32m[I 2023-05-15 20:31:09,508]\u001b[0m Trial 48 finished with value: 0.5138528493773171 and parameters: {'learning_rate': 0.03735899353483121, 'max_depth': 4, 'n_estimators': 300}. Best is trial 12 with value: 0.49638462920061477.\u001b[0m\n"
     ]
    },
    {
     "name": "stdout",
     "output_type": "stream",
     "text": [
      "(124, 2)\n",
      "(124,) (124,) (124,)\n"
     ]
    },
    {
     "name": "stderr",
     "output_type": "stream",
     "text": [
      "\u001b[32m[I 2023-05-15 20:31:10,050]\u001b[0m Trial 49 finished with value: 0.5346898455168375 and parameters: {'learning_rate': 0.030165522178283544, 'max_depth': 3, 'n_estimators': 100}. Best is trial 12 with value: 0.49638462920061477.\u001b[0m\n"
     ]
    },
    {
     "name": "stdout",
     "output_type": "stream",
     "text": [
      "(124, 2)\n",
      "(124,) (124,) (124,)\n"
     ]
    },
    {
     "name": "stderr",
     "output_type": "stream",
     "text": [
      "\u001b[32m[I 2023-05-15 20:31:10,549]\u001b[0m Trial 50 finished with value: 0.5205091374826155 and parameters: {'learning_rate': 0.022924826618626583, 'max_depth': 4, 'n_estimators': 100}. Best is trial 12 with value: 0.49638462920061477.\u001b[0m\n"
     ]
    },
    {
     "name": "stdout",
     "output_type": "stream",
     "text": [
      "(124, 2)\n",
      "(124,) (124,) (124,)\n"
     ]
    },
    {
     "name": "stderr",
     "output_type": "stream",
     "text": [
      "\u001b[32m[I 2023-05-15 20:31:11,076]\u001b[0m Trial 51 finished with value: 0.5215787102217501 and parameters: {'learning_rate': 0.05783801358387921, 'max_depth': 4, 'n_estimators': 100}. Best is trial 12 with value: 0.49638462920061477.\u001b[0m\n"
     ]
    },
    {
     "name": "stdout",
     "output_type": "stream",
     "text": [
      "(124, 2)\n",
      "(124,) (124,) (124,)\n"
     ]
    },
    {
     "name": "stderr",
     "output_type": "stream",
     "text": [
      "\u001b[32m[I 2023-05-15 20:31:11,590]\u001b[0m Trial 52 finished with value: 0.48955970227139795 and parameters: {'learning_rate': 0.044175917896634186, 'max_depth': 4, 'n_estimators': 100}. Best is trial 52 with value: 0.48955970227139795.\u001b[0m\n"
     ]
    },
    {
     "name": "stdout",
     "output_type": "stream",
     "text": [
      "(124, 2)\n",
      "(124,) (124,) (124,)\n"
     ]
    },
    {
     "name": "stderr",
     "output_type": "stream",
     "text": [
      "\u001b[32m[I 2023-05-15 20:31:12,236]\u001b[0m Trial 53 finished with value: 0.4974697372661607 and parameters: {'learning_rate': 0.04217137024334679, 'max_depth': 4, 'n_estimators': 100}. Best is trial 52 with value: 0.48955970227139795.\u001b[0m\n"
     ]
    },
    {
     "name": "stdout",
     "output_type": "stream",
     "text": [
      "(124, 2)\n",
      "(124,) (124,) (124,)\n"
     ]
    },
    {
     "name": "stderr",
     "output_type": "stream",
     "text": [
      "\u001b[32m[I 2023-05-15 20:31:12,771]\u001b[0m Trial 54 finished with value: 0.5141444193971458 and parameters: {'learning_rate': 0.0430361894752539, 'max_depth': 4, 'n_estimators': 100}. Best is trial 52 with value: 0.48955970227139795.\u001b[0m\n"
     ]
    },
    {
     "name": "stdout",
     "output_type": "stream",
     "text": [
      "(124, 2)\n",
      "(124,) (124,) (124,)\n"
     ]
    },
    {
     "name": "stderr",
     "output_type": "stream",
     "text": [
      "\u001b[32m[I 2023-05-15 20:31:13,318]\u001b[0m Trial 55 finished with value: 0.5077388242765839 and parameters: {'learning_rate': 0.030662660162362094, 'max_depth': 4, 'n_estimators': 100}. Best is trial 52 with value: 0.48955970227139795.\u001b[0m\n"
     ]
    },
    {
     "name": "stdout",
     "output_type": "stream",
     "text": [
      "(124, 2)\n",
      "(124,) (124,) (124,)\n"
     ]
    },
    {
     "name": "stderr",
     "output_type": "stream",
     "text": [
      "\u001b[32m[I 2023-05-15 20:31:15,396]\u001b[0m Trial 56 finished with value: 0.5945943826612587 and parameters: {'learning_rate': 0.03600306659475315, 'max_depth': 5, 'n_estimators': 300}. Best is trial 52 with value: 0.48955970227139795.\u001b[0m\n"
     ]
    },
    {
     "name": "stdout",
     "output_type": "stream",
     "text": [
      "(124, 2)\n",
      "(124,) (124,) (124,)\n"
     ]
    },
    {
     "name": "stderr",
     "output_type": "stream",
     "text": [
      "\u001b[32m[I 2023-05-15 20:31:15,977]\u001b[0m Trial 57 finished with value: 0.49249468119793494 and parameters: {'learning_rate': 0.04401894214340863, 'max_depth': 4, 'n_estimators': 100}. Best is trial 52 with value: 0.48955970227139795.\u001b[0m\n"
     ]
    },
    {
     "name": "stdout",
     "output_type": "stream",
     "text": [
      "(124, 2)\n",
      "(124,) (124,) (124,)\n"
     ]
    },
    {
     "name": "stderr",
     "output_type": "stream",
     "text": [
      "\u001b[32m[I 2023-05-15 20:31:17,110]\u001b[0m Trial 58 finished with value: 0.5101627996205307 and parameters: {'learning_rate': 0.04787325600078722, 'max_depth': 4, 'n_estimators': 200}. Best is trial 52 with value: 0.48955970227139795.\u001b[0m\n"
     ]
    },
    {
     "name": "stdout",
     "output_type": "stream",
     "text": [
      "(124, 2)\n",
      "(124,) (124,) (124,)\n"
     ]
    },
    {
     "name": "stderr",
     "output_type": "stream",
     "text": [
      "\u001b[32m[I 2023-05-15 20:31:17,767]\u001b[0m Trial 59 finished with value: 0.5959870981965105 and parameters: {'learning_rate': 0.08814333318947193, 'max_depth': 5, 'n_estimators': 100}. Best is trial 52 with value: 0.48955970227139795.\u001b[0m\n"
     ]
    },
    {
     "name": "stdout",
     "output_type": "stream",
     "text": [
      "(124, 2)\n",
      "(124,) (124,) (124,)\n"
     ]
    },
    {
     "name": "stderr",
     "output_type": "stream",
     "text": [
      "\u001b[32m[I 2023-05-15 20:31:19,237]\u001b[0m Trial 60 finished with value: 0.6451176403565121 and parameters: {'learning_rate': 0.06927411467203369, 'max_depth': 4, 'n_estimators': 300}. Best is trial 52 with value: 0.48955970227139795.\u001b[0m\n"
     ]
    },
    {
     "name": "stdout",
     "output_type": "stream",
     "text": [
      "(124, 2)\n",
      "(124,) (124,) (124,)\n"
     ]
    },
    {
     "name": "stderr",
     "output_type": "stream",
     "text": [
      "\u001b[32m[I 2023-05-15 20:31:19,771]\u001b[0m Trial 61 finished with value: 0.5000788507984872 and parameters: {'learning_rate': 0.0403101000319501, 'max_depth': 4, 'n_estimators': 100}. Best is trial 52 with value: 0.48955970227139795.\u001b[0m\n"
     ]
    },
    {
     "name": "stdout",
     "output_type": "stream",
     "text": [
      "(124, 2)\n",
      "(124,) (124,) (124,)\n"
     ]
    },
    {
     "name": "stderr",
     "output_type": "stream",
     "text": [
      "\u001b[32m[I 2023-05-15 20:31:20,472]\u001b[0m Trial 62 finished with value: 0.4956237335162728 and parameters: {'learning_rate': 0.05300476609053926, 'max_depth': 4, 'n_estimators': 100}. Best is trial 52 with value: 0.48955970227139795.\u001b[0m\n"
     ]
    },
    {
     "name": "stdout",
     "output_type": "stream",
     "text": [
      "(124, 2)\n",
      "(124,) (124,) (124,)\n"
     ]
    },
    {
     "name": "stderr",
     "output_type": "stream",
     "text": [
      "\u001b[32m[I 2023-05-15 20:31:21,037]\u001b[0m Trial 63 finished with value: 0.502424671096024 and parameters: {'learning_rate': 0.040890615980133146, 'max_depth': 4, 'n_estimators': 100}. Best is trial 52 with value: 0.48955970227139795.\u001b[0m\n"
     ]
    },
    {
     "name": "stdout",
     "output_type": "stream",
     "text": [
      "(124, 2)\n",
      "(124,) (124,) (124,)\n"
     ]
    },
    {
     "name": "stderr",
     "output_type": "stream",
     "text": [
      "\u001b[32m[I 2023-05-15 20:31:21,790]\u001b[0m Trial 64 finished with value: 0.4910878456367976 and parameters: {'learning_rate': 0.040223548931291354, 'max_depth': 4, 'n_estimators': 100}. Best is trial 52 with value: 0.48955970227139795.\u001b[0m\n"
     ]
    },
    {
     "name": "stdout",
     "output_type": "stream",
     "text": [
      "(124, 2)\n",
      "(124,) (124,) (124,)\n"
     ]
    },
    {
     "name": "stderr",
     "output_type": "stream",
     "text": [
      "\u001b[32m[I 2023-05-15 20:31:22,321]\u001b[0m Trial 65 finished with value: 0.5011657507337494 and parameters: {'learning_rate': 0.0347268519845848, 'max_depth': 4, 'n_estimators': 100}. Best is trial 52 with value: 0.48955970227139795.\u001b[0m\n"
     ]
    },
    {
     "name": "stdout",
     "output_type": "stream",
     "text": [
      "(124, 2)\n",
      "(124,) (124,) (124,)\n"
     ]
    },
    {
     "name": "stderr",
     "output_type": "stream",
     "text": [
      "\u001b[32m[I 2023-05-15 20:31:22,854]\u001b[0m Trial 66 finished with value: 0.4964805641072643 and parameters: {'learning_rate': 0.04901735604251781, 'max_depth': 4, 'n_estimators': 100}. Best is trial 52 with value: 0.48955970227139795.\u001b[0m\n"
     ]
    },
    {
     "name": "stdout",
     "output_type": "stream",
     "text": [
      "(124, 2)\n",
      "(124,) (124,) (124,)\n"
     ]
    },
    {
     "name": "stderr",
     "output_type": "stream",
     "text": [
      "\u001b[32m[I 2023-05-15 20:31:23,423]\u001b[0m Trial 67 finished with value: 0.49218005101775697 and parameters: {'learning_rate': 0.048565744753901845, 'max_depth': 4, 'n_estimators': 100}. Best is trial 52 with value: 0.48955970227139795.\u001b[0m\n"
     ]
    },
    {
     "name": "stdout",
     "output_type": "stream",
     "text": [
      "(124, 2)\n",
      "(124,) (124,) (124,)\n"
     ]
    },
    {
     "name": "stderr",
     "output_type": "stream",
     "text": [
      "\u001b[32m[I 2023-05-15 20:31:24,204]\u001b[0m Trial 68 finished with value: 0.526399813684321 and parameters: {'learning_rate': 0.05098370527746714, 'max_depth': 5, 'n_estimators': 100}. Best is trial 52 with value: 0.48955970227139795.\u001b[0m\n"
     ]
    },
    {
     "name": "stdout",
     "output_type": "stream",
     "text": [
      "(124, 2)\n",
      "(124,) (124,) (124,)\n"
     ]
    },
    {
     "name": "stderr",
     "output_type": "stream",
     "text": [
      "\u001b[32m[I 2023-05-15 20:31:24,627]\u001b[0m Trial 69 finished with value: 0.5321713201550892 and parameters: {'learning_rate': 0.06652424154549716, 'max_depth': 4, 'n_estimators': 100}. Best is trial 52 with value: 0.48955970227139795.\u001b[0m\n"
     ]
    },
    {
     "name": "stdout",
     "output_type": "stream",
     "text": [
      "(124, 2)\n",
      "(124,) (124,) (124,)\n"
     ]
    },
    {
     "name": "stderr",
     "output_type": "stream",
     "text": [
      "\u001b[32m[I 2023-05-15 20:31:25,105]\u001b[0m Trial 70 finished with value: 0.49687464527876946 and parameters: {'learning_rate': 0.046524882079583114, 'max_depth': 4, 'n_estimators': 100}. Best is trial 52 with value: 0.48955970227139795.\u001b[0m\n"
     ]
    },
    {
     "name": "stdout",
     "output_type": "stream",
     "text": [
      "(124, 2)\n",
      "(124,) (124,) (124,)\n"
     ]
    },
    {
     "name": "stderr",
     "output_type": "stream",
     "text": [
      "\u001b[32m[I 2023-05-15 20:31:25,532]\u001b[0m Trial 71 finished with value: 0.5041394958438283 and parameters: {'learning_rate': 0.047022968067107325, 'max_depth': 4, 'n_estimators': 100}. Best is trial 52 with value: 0.48955970227139795.\u001b[0m\n"
     ]
    },
    {
     "name": "stdout",
     "output_type": "stream",
     "text": [
      "(124, 2)\n",
      "(124,) (124,) (124,)\n"
     ]
    },
    {
     "name": "stderr",
     "output_type": "stream",
     "text": [
      "\u001b[32m[I 2023-05-15 20:31:26,304]\u001b[0m Trial 72 finished with value: 0.5087989898540408 and parameters: {'learning_rate': 0.051085970881809384, 'max_depth': 4, 'n_estimators': 100}. Best is trial 52 with value: 0.48955970227139795.\u001b[0m\n"
     ]
    },
    {
     "name": "stdout",
     "output_type": "stream",
     "text": [
      "(124, 2)\n",
      "(124,) (124,) (124,)\n"
     ]
    },
    {
     "name": "stderr",
     "output_type": "stream",
     "text": [
      "\u001b[32m[I 2023-05-15 20:31:27,619]\u001b[0m Trial 73 finished with value: 0.5042889573862719 and parameters: {'learning_rate': 0.03368350746700322, 'max_depth': 4, 'n_estimators': 100}. Best is trial 52 with value: 0.48955970227139795.\u001b[0m\n"
     ]
    },
    {
     "name": "stdout",
     "output_type": "stream",
     "text": [
      "(124, 2)\n",
      "(124,) (124,) (124,)\n"
     ]
    },
    {
     "name": "stderr",
     "output_type": "stream",
     "text": [
      "\u001b[32m[I 2023-05-15 20:31:27,917]\u001b[0m Trial 74 finished with value: 0.48372759400721 and parameters: {'learning_rate': 0.05679604223386096, 'max_depth': 4, 'n_estimators': 100}. Best is trial 74 with value: 0.48372759400721.\u001b[0m\n"
     ]
    },
    {
     "name": "stdout",
     "output_type": "stream",
     "text": [
      "(124, 2)\n",
      "(124,) (124,) (124,)\n"
     ]
    },
    {
     "name": "stderr",
     "output_type": "stream",
     "text": [
      "\u001b[32m[I 2023-05-15 20:31:30,666]\u001b[0m Trial 75 finished with value: 0.7623639131186856 and parameters: {'learning_rate': 0.0584149813675763, 'max_depth': 5, 'n_estimators': 300}. Best is trial 74 with value: 0.48372759400721.\u001b[0m\n"
     ]
    },
    {
     "name": "stdout",
     "output_type": "stream",
     "text": [
      "(124, 2)\n",
      "(124,) (124,) (124,)\n"
     ]
    },
    {
     "name": "stderr",
     "output_type": "stream",
     "text": [
      "\u001b[32m[I 2023-05-15 20:31:32,237]\u001b[0m Trial 76 finished with value: 0.5391450669141646 and parameters: {'learning_rate': 0.07244801958464406, 'max_depth': 4, 'n_estimators': 100}. Best is trial 74 with value: 0.48372759400721.\u001b[0m\n"
     ]
    },
    {
     "name": "stdout",
     "output_type": "stream",
     "text": [
      "(124, 2)\n",
      "(124,) (124,) (124,)\n"
     ]
    },
    {
     "name": "stderr",
     "output_type": "stream",
     "text": [
      "\u001b[32m[I 2023-05-15 20:31:33,375]\u001b[0m Trial 77 finished with value: 0.6066480057250987 and parameters: {'learning_rate': 0.0855503299848049, 'max_depth': 4, 'n_estimators': 200}. Best is trial 74 with value: 0.48372759400721.\u001b[0m\n"
     ]
    },
    {
     "name": "stdout",
     "output_type": "stream",
     "text": [
      "(124, 2)\n",
      "(124,) (124,) (124,)\n"
     ]
    },
    {
     "name": "stderr",
     "output_type": "stream",
     "text": [
      "\u001b[32m[I 2023-05-15 20:31:34,029]\u001b[0m Trial 78 finished with value: 0.5198544550050214 and parameters: {'learning_rate': 0.05444074418843836, 'max_depth': 4, 'n_estimators': 100}. Best is trial 74 with value: 0.48372759400721.\u001b[0m\n"
     ]
    },
    {
     "name": "stdout",
     "output_type": "stream",
     "text": [
      "(124, 2)\n",
      "(124,) (124,) (124,)\n"
     ]
    },
    {
     "name": "stderr",
     "output_type": "stream",
     "text": [
      "\u001b[32m[I 2023-05-15 20:31:34,933]\u001b[0m Trial 79 finished with value: 0.5116414358758875 and parameters: {'learning_rate': 0.03153640462913099, 'max_depth': 4, 'n_estimators': 100}. Best is trial 74 with value: 0.48372759400721.\u001b[0m\n"
     ]
    },
    {
     "name": "stdout",
     "output_type": "stream",
     "text": [
      "(124, 2)\n",
      "(124,) (124,) (124,)\n"
     ]
    },
    {
     "name": "stderr",
     "output_type": "stream",
     "text": [
      "\u001b[32m[I 2023-05-15 20:31:38,540]\u001b[0m Trial 80 finished with value: 0.8093523320724146 and parameters: {'learning_rate': 0.06372965697483546, 'max_depth': 5, 'n_estimators': 300}. Best is trial 74 with value: 0.48372759400721.\u001b[0m\n"
     ]
    },
    {
     "name": "stdout",
     "output_type": "stream",
     "text": [
      "(124, 2)\n",
      "(124,) (124,) (124,)\n"
     ]
    },
    {
     "name": "stderr",
     "output_type": "stream",
     "text": [
      "\u001b[32m[I 2023-05-15 20:31:39,026]\u001b[0m Trial 81 finished with value: 0.5113555675651423 and parameters: {'learning_rate': 0.044937286365232885, 'max_depth': 4, 'n_estimators': 100}. Best is trial 74 with value: 0.48372759400721.\u001b[0m\n"
     ]
    },
    {
     "name": "stdout",
     "output_type": "stream",
     "text": [
      "(124, 2)\n",
      "(124,) (124,) (124,)\n"
     ]
    },
    {
     "name": "stderr",
     "output_type": "stream",
     "text": [
      "\u001b[32m[I 2023-05-15 20:31:39,714]\u001b[0m Trial 82 finished with value: 0.4972387850896426 and parameters: {'learning_rate': 0.03857206005829992, 'max_depth': 4, 'n_estimators': 100}. Best is trial 74 with value: 0.48372759400721.\u001b[0m\n"
     ]
    },
    {
     "name": "stdout",
     "output_type": "stream",
     "text": [
      "(124, 2)\n",
      "(124,) (124,) (124,)\n"
     ]
    },
    {
     "name": "stderr",
     "output_type": "stream",
     "text": [
      "\u001b[32m[I 2023-05-15 20:31:40,468]\u001b[0m Trial 83 finished with value: 0.48794793577626644 and parameters: {'learning_rate': 0.047648511459214324, 'max_depth': 4, 'n_estimators': 100}. Best is trial 74 with value: 0.48372759400721.\u001b[0m\n"
     ]
    },
    {
     "name": "stdout",
     "output_type": "stream",
     "text": [
      "(124, 2)\n",
      "(124,) (124,) (124,)\n"
     ]
    },
    {
     "name": "stderr",
     "output_type": "stream",
     "text": [
      "\u001b[32m[I 2023-05-15 20:31:41,043]\u001b[0m Trial 84 finished with value: 0.5128229709120552 and parameters: {'learning_rate': 0.026846558404510664, 'max_depth': 4, 'n_estimators': 100}. Best is trial 74 with value: 0.48372759400721.\u001b[0m\n"
     ]
    },
    {
     "name": "stdout",
     "output_type": "stream",
     "text": [
      "(124, 2)\n",
      "(124,) (124,) (124,)\n"
     ]
    },
    {
     "name": "stderr",
     "output_type": "stream",
     "text": [
      "\u001b[32m[I 2023-05-15 20:31:41,653]\u001b[0m Trial 85 finished with value: 0.5129766905600162 and parameters: {'learning_rate': 0.0529312480117777, 'max_depth': 4, 'n_estimators': 100}. Best is trial 74 with value: 0.48372759400721.\u001b[0m\n"
     ]
    },
    {
     "name": "stdout",
     "output_type": "stream",
     "text": [
      "(124, 2)\n",
      "(124,) (124,) (124,)\n"
     ]
    },
    {
     "name": "stderr",
     "output_type": "stream",
     "text": [
      "\u001b[32m[I 2023-05-15 20:31:42,304]\u001b[0m Trial 86 finished with value: 0.5079527353282642 and parameters: {'learning_rate': 0.06076157114105556, 'max_depth': 4, 'n_estimators': 100}. Best is trial 74 with value: 0.48372759400721.\u001b[0m\n"
     ]
    },
    {
     "name": "stdout",
     "output_type": "stream",
     "text": [
      "(124, 2)\n",
      "(124,) (124,) (124,)\n"
     ]
    },
    {
     "name": "stderr",
     "output_type": "stream",
     "text": [
      "\u001b[32m[I 2023-05-15 20:31:42,694]\u001b[0m Trial 87 finished with value: 0.5204282750814534 and parameters: {'learning_rate': 0.03579795117618894, 'max_depth': 3, 'n_estimators': 100}. Best is trial 74 with value: 0.48372759400721.\u001b[0m\n"
     ]
    },
    {
     "name": "stdout",
     "output_type": "stream",
     "text": [
      "(124, 2)\n",
      "(124,) (124,) (124,)\n"
     ]
    },
    {
     "name": "stderr",
     "output_type": "stream",
     "text": [
      "\u001b[32m[I 2023-05-15 20:31:43,296]\u001b[0m Trial 88 finished with value: 0.5232271420612042 and parameters: {'learning_rate': 0.08017036791656118, 'max_depth': 4, 'n_estimators': 100}. Best is trial 74 with value: 0.48372759400721.\u001b[0m\n"
     ]
    },
    {
     "name": "stdout",
     "output_type": "stream",
     "text": [
      "(124, 2)\n",
      "(124,) (124,) (124,)\n"
     ]
    },
    {
     "name": "stderr",
     "output_type": "stream",
     "text": [
      "\u001b[32m[I 2023-05-15 20:31:43,860]\u001b[0m Trial 89 finished with value: 0.4966599060889174 and parameters: {'learning_rate': 0.06813583007756532, 'max_depth': 4, 'n_estimators': 100}. Best is trial 74 with value: 0.48372759400721.\u001b[0m\n"
     ]
    },
    {
     "name": "stdout",
     "output_type": "stream",
     "text": [
      "(124, 2)\n",
      "(124,) (124,) (124,)\n"
     ]
    },
    {
     "name": "stderr",
     "output_type": "stream",
     "text": [
      "\u001b[32m[I 2023-05-15 20:31:45,939]\u001b[0m Trial 90 finished with value: 0.5556117252024853 and parameters: {'learning_rate': 0.045296203719209914, 'max_depth': 4, 'n_estimators': 300}. Best is trial 74 with value: 0.48372759400721.\u001b[0m\n"
     ]
    },
    {
     "name": "stdout",
     "output_type": "stream",
     "text": [
      "(124, 2)\n",
      "(124,) (124,) (124,)\n"
     ]
    },
    {
     "name": "stderr",
     "output_type": "stream",
     "text": [
      "\u001b[32m[I 2023-05-15 20:31:46,677]\u001b[0m Trial 91 finished with value: 0.509062616782795 and parameters: {'learning_rate': 0.05702114116903538, 'max_depth': 4, 'n_estimators': 100}. Best is trial 74 with value: 0.48372759400721.\u001b[0m\n"
     ]
    },
    {
     "name": "stdout",
     "output_type": "stream",
     "text": [
      "(124, 2)\n",
      "(124,) (124,) (124,)\n"
     ]
    },
    {
     "name": "stderr",
     "output_type": "stream",
     "text": [
      "\u001b[32m[I 2023-05-15 20:31:47,221]\u001b[0m Trial 92 finished with value: 0.5368047504395875 and parameters: {'learning_rate': 0.06463432037227945, 'max_depth': 4, 'n_estimators': 100}. Best is trial 74 with value: 0.48372759400721.\u001b[0m\n"
     ]
    },
    {
     "name": "stdout",
     "output_type": "stream",
     "text": [
      "(124, 2)\n",
      "(124,) (124,) (124,)\n"
     ]
    },
    {
     "name": "stderr",
     "output_type": "stream",
     "text": [
      "\u001b[32m[I 2023-05-15 20:31:48,348]\u001b[0m Trial 93 finished with value: 0.5254775730726307 and parameters: {'learning_rate': 0.07198340360707797, 'max_depth': 4, 'n_estimators': 100}. Best is trial 74 with value: 0.48372759400721.\u001b[0m\n"
     ]
    },
    {
     "name": "stdout",
     "output_type": "stream",
     "text": [
      "(124, 2)\n",
      "(124,) (124,) (124,)\n"
     ]
    },
    {
     "name": "stderr",
     "output_type": "stream",
     "text": [
      "\u001b[32m[I 2023-05-15 20:31:48,984]\u001b[0m Trial 94 finished with value: 0.4966551780113432 and parameters: {'learning_rate': 0.03851475067445413, 'max_depth': 4, 'n_estimators': 100}. Best is trial 74 with value: 0.48372759400721.\u001b[0m\n"
     ]
    },
    {
     "name": "stdout",
     "output_type": "stream",
     "text": [
      "(124, 2)\n",
      "(124,) (124,) (124,)\n"
     ]
    },
    {
     "name": "stderr",
     "output_type": "stream",
     "text": [
      "\u001b[32m[I 2023-05-15 20:31:49,931]\u001b[0m Trial 95 finished with value: 0.5172378046203 and parameters: {'learning_rate': 0.03868384174422519, 'max_depth': 4, 'n_estimators': 100}. Best is trial 74 with value: 0.48372759400721.\u001b[0m\n"
     ]
    },
    {
     "name": "stdout",
     "output_type": "stream",
     "text": [
      "(124, 2)\n",
      "(124,) (124,) (124,)\n"
     ]
    },
    {
     "name": "stderr",
     "output_type": "stream",
     "text": [
      "\u001b[32m[I 2023-05-15 20:31:51,771]\u001b[0m Trial 96 finished with value: 0.5059834631358388 and parameters: {'learning_rate': 0.02963563749377381, 'max_depth': 4, 'n_estimators': 200}. Best is trial 74 with value: 0.48372759400721.\u001b[0m\n"
     ]
    },
    {
     "name": "stdout",
     "output_type": "stream",
     "text": [
      "(124, 2)\n",
      "(124,) (124,) (124,)\n"
     ]
    },
    {
     "name": "stderr",
     "output_type": "stream",
     "text": [
      "\u001b[32m[I 2023-05-15 20:31:52,786]\u001b[0m Trial 97 finished with value: 0.4974030895566704 and parameters: {'learning_rate': 0.040558186365291196, 'max_depth': 4, 'n_estimators': 100}. Best is trial 74 with value: 0.48372759400721.\u001b[0m\n"
     ]
    },
    {
     "name": "stdout",
     "output_type": "stream",
     "text": [
      "(124, 2)\n",
      "(124,) (124,) (124,)\n"
     ]
    },
    {
     "name": "stderr",
     "output_type": "stream",
     "text": [
      "\u001b[32m[I 2023-05-15 20:31:53,506]\u001b[0m Trial 98 finished with value: 0.507648329438622 and parameters: {'learning_rate': 0.0472956855871066, 'max_depth': 4, 'n_estimators': 100}. Best is trial 74 with value: 0.48372759400721.\u001b[0m\n"
     ]
    },
    {
     "name": "stdout",
     "output_type": "stream",
     "text": [
      "(124, 2)\n",
      "(124,) (124,) (124,)\n"
     ]
    },
    {
     "name": "stderr",
     "output_type": "stream",
     "text": [
      "\u001b[32m[I 2023-05-15 20:31:54,056]\u001b[0m Trial 99 finished with value: 0.557295337764022 and parameters: {'learning_rate': 0.02440188585065466, 'max_depth': 3, 'n_estimators': 100}. Best is trial 74 with value: 0.48372759400721.\u001b[0m\n"
     ]
    },
    {
     "name": "stdout",
     "output_type": "stream",
     "text": [
      "(124, 2)\n",
      "(124,) (124,) (124,)\n"
     ]
    }
   ],
   "source": [
    "# optimize lightgbm\n",
    "def objective(trial):\n",
    "    # Define the search space for hyperparameters\n",
    "    param_space = {\n",
    "        'learning_rate': trial.suggest_loguniform('learning_rate', 0.001, 0.1),\n",
    "        'max_depth': trial.suggest_int('max_depth', 3, 7),\n",
    "        'n_estimators': trial.suggest_categorical('n_estimators', [100, 200, 300])\n",
    "    }\n",
    "\n",
    "    # Create an XGBoost classifier with the suggested hyperparameters\n",
    "    lgbm_model = lgb.LGBMClassifier(**param_space)\n",
    "\n",
    "    # Train and evaluate the model\n",
    "    lgbm_model.fit(X_train, y_train)\n",
    "    y_pred = lgbm_model.predict_proba(X_test)\n",
    "    score = competition_log_loss(y_test, y_pred)\n",
    "\n",
    "    return score\n",
    "\n",
    "study = optuna.create_study(direction='minimize')\n",
    "study.optimize(objective, n_trials=100)\n",
    "best_params = study.best_params\n",
    "\n"
   ]
  },
  {
   "cell_type": "code",
   "execution_count": 226,
   "metadata": {},
   "outputs": [
    {
     "name": "stdout",
     "output_type": "stream",
     "text": [
      "{'learning_rate': 0.05679604223386096, 'max_depth': 4, 'n_estimators': 100}\n",
      "0.48372759400721\n"
     ]
    }
   ],
   "source": [
    "print(best_params)\n",
    "print(study.best_value)\n"
   ]
  },
  {
   "cell_type": "code",
   "execution_count": 227,
   "metadata": {},
   "outputs": [
    {
     "name": "stdout",
     "output_type": "stream",
     "text": [
      "Accuracy of ensemble classifier on train set: 1.00\n",
      "[[407   0]\n",
      " [  2  84]]\n",
      "              precision    recall  f1-score   support\n",
      "\n",
      "           0       1.00      1.00      1.00       407\n",
      "           1       1.00      0.98      0.99        86\n",
      "\n",
      "   micro avg       1.00      1.00      1.00       493\n",
      "   macro avg       1.00      0.99      0.99       493\n",
      "weighted avg       1.00      1.00      1.00       493\n",
      "\n",
      "Accuracy of ensemble classifier on test set: 0.92\n",
      "[[99  3]\n",
      " [ 7 15]]\n",
      "              precision    recall  f1-score   support\n",
      "\n",
      "           0       0.93      0.97      0.95       102\n",
      "           1       0.83      0.68      0.75        22\n",
      "\n",
      "   micro avg       0.92      0.92      0.92       124\n",
      "   macro avg       0.88      0.83      0.85       124\n",
      "weighted avg       0.92      0.92      0.92       124\n",
      "\n",
      "(124, 2)\n",
      "(124,) (124,) (124,)\n",
      "0.44558104598232023\n"
     ]
    }
   ],
   "source": [
    "# ensemble\n",
    "from sklearn.ensemble import VotingClassifier\n",
    "\n",
    "xgb = XGBClassifier(learning_rate=0.015962550394, max_depth=7, n_estimators=100)\n",
    "lgbm = lgb.LGBMClassifier(learning_rate=0.05679604, max_depth=4, n_estimators=100)\n",
    "\n",
    "estimators = [('xgb', xgb), ('lgbm', lgbm)]\n",
    "\n",
    "ensemble = VotingClassifier(estimators, voting='soft')\n",
    "ensemble.fit(X_train, y_train)\n",
    "y_pred = ensemble.predict(X_train)\n",
    "\n",
    "print('Accuracy of ensemble classifier on train set: {:.2f}'.format(accuracy_score(y_train, y_pred)))\n",
    "print(confusion_matrix(y_train, y_pred))\n",
    "print(classification_report(y_train, y_pred))\n",
    "\n",
    "y_pred = ensemble.predict(X_test)\n",
    "y_pred2 =  ensemble.predict_proba(X_test)\n",
    "\n",
    "print('Accuracy of ensemble classifier on test set: {:.2f}'.format(accuracy_score(y_test, y_pred)))\n",
    "print(confusion_matrix(y_test, y_pred))\n",
    "print(classification_report(y_test, y_pred))\n",
    "\n",
    "print(competition_log_loss(y_test, y_pred2))\n"
   ]
  },
  {
   "cell_type": "markdown",
   "metadata": {
    "collapsed": false
   },
   "source": [
    "### Test data"
   ]
  },
  {
   "cell_type": "code",
   "execution_count": null,
   "metadata": {
    "collapsed": false
   },
   "outputs": [
    {
     "data": {
      "text/html": [
       "<div>\n",
       "<style scoped>\n",
       "    .dataframe tbody tr th:only-of-type {\n",
       "        vertical-align: middle;\n",
       "    }\n",
       "\n",
       "    .dataframe tbody tr th {\n",
       "        vertical-align: top;\n",
       "    }\n",
       "\n",
       "    .dataframe thead th {\n",
       "        text-align: right;\n",
       "    }\n",
       "</style>\n",
       "<table border=\"1\" class=\"dataframe\">\n",
       "  <thead>\n",
       "    <tr style=\"text-align: right;\">\n",
       "      <th></th>\n",
       "      <th>Id</th>\n",
       "      <th>AB</th>\n",
       "      <th>AF</th>\n",
       "      <th>AH</th>\n",
       "      <th>AM</th>\n",
       "      <th>AR</th>\n",
       "      <th>AX</th>\n",
       "      <th>AY</th>\n",
       "      <th>AZ</th>\n",
       "      <th>BC</th>\n",
       "      <th>...</th>\n",
       "      <th>FI</th>\n",
       "      <th>FL</th>\n",
       "      <th>FR</th>\n",
       "      <th>FS</th>\n",
       "      <th>GB</th>\n",
       "      <th>GE</th>\n",
       "      <th>GF</th>\n",
       "      <th>GH</th>\n",
       "      <th>GI</th>\n",
       "      <th>GL</th>\n",
       "    </tr>\n",
       "  </thead>\n",
       "  <tbody>\n",
       "    <tr>\n",
       "      <th>0</th>\n",
       "      <td>00eed32682bb</td>\n",
       "      <td>0.0</td>\n",
       "      <td>0.0</td>\n",
       "      <td>0.0</td>\n",
       "      <td>0.0</td>\n",
       "      <td>0.0</td>\n",
       "      <td>0.0</td>\n",
       "      <td>0.0</td>\n",
       "      <td>0.0</td>\n",
       "      <td>0.0</td>\n",
       "      <td>...</td>\n",
       "      <td>0.0</td>\n",
       "      <td>0.0</td>\n",
       "      <td>0.0</td>\n",
       "      <td>0.0</td>\n",
       "      <td>0.0</td>\n",
       "      <td>0.0</td>\n",
       "      <td>0.0</td>\n",
       "      <td>0.0</td>\n",
       "      <td>0.0</td>\n",
       "      <td>0.0</td>\n",
       "    </tr>\n",
       "    <tr>\n",
       "      <th>1</th>\n",
       "      <td>010ebe33f668</td>\n",
       "      <td>0.0</td>\n",
       "      <td>0.0</td>\n",
       "      <td>0.0</td>\n",
       "      <td>0.0</td>\n",
       "      <td>0.0</td>\n",
       "      <td>0.0</td>\n",
       "      <td>0.0</td>\n",
       "      <td>0.0</td>\n",
       "      <td>0.0</td>\n",
       "      <td>...</td>\n",
       "      <td>0.0</td>\n",
       "      <td>0.0</td>\n",
       "      <td>0.0</td>\n",
       "      <td>0.0</td>\n",
       "      <td>0.0</td>\n",
       "      <td>0.0</td>\n",
       "      <td>0.0</td>\n",
       "      <td>0.0</td>\n",
       "      <td>0.0</td>\n",
       "      <td>0.0</td>\n",
       "    </tr>\n",
       "    <tr>\n",
       "      <th>2</th>\n",
       "      <td>02fa521e1838</td>\n",
       "      <td>0.0</td>\n",
       "      <td>0.0</td>\n",
       "      <td>0.0</td>\n",
       "      <td>0.0</td>\n",
       "      <td>0.0</td>\n",
       "      <td>0.0</td>\n",
       "      <td>0.0</td>\n",
       "      <td>0.0</td>\n",
       "      <td>0.0</td>\n",
       "      <td>...</td>\n",
       "      <td>0.0</td>\n",
       "      <td>0.0</td>\n",
       "      <td>0.0</td>\n",
       "      <td>0.0</td>\n",
       "      <td>0.0</td>\n",
       "      <td>0.0</td>\n",
       "      <td>0.0</td>\n",
       "      <td>0.0</td>\n",
       "      <td>0.0</td>\n",
       "      <td>0.0</td>\n",
       "    </tr>\n",
       "    <tr>\n",
       "      <th>3</th>\n",
       "      <td>040e15f562a2</td>\n",
       "      <td>0.0</td>\n",
       "      <td>0.0</td>\n",
       "      <td>0.0</td>\n",
       "      <td>0.0</td>\n",
       "      <td>0.0</td>\n",
       "      <td>0.0</td>\n",
       "      <td>0.0</td>\n",
       "      <td>0.0</td>\n",
       "      <td>0.0</td>\n",
       "      <td>...</td>\n",
       "      <td>0.0</td>\n",
       "      <td>0.0</td>\n",
       "      <td>0.0</td>\n",
       "      <td>0.0</td>\n",
       "      <td>0.0</td>\n",
       "      <td>0.0</td>\n",
       "      <td>0.0</td>\n",
       "      <td>0.0</td>\n",
       "      <td>0.0</td>\n",
       "      <td>0.0</td>\n",
       "    </tr>\n",
       "    <tr>\n",
       "      <th>4</th>\n",
       "      <td>046e85c7cc7f</td>\n",
       "      <td>0.0</td>\n",
       "      <td>0.0</td>\n",
       "      <td>0.0</td>\n",
       "      <td>0.0</td>\n",
       "      <td>0.0</td>\n",
       "      <td>0.0</td>\n",
       "      <td>0.0</td>\n",
       "      <td>0.0</td>\n",
       "      <td>0.0</td>\n",
       "      <td>...</td>\n",
       "      <td>0.0</td>\n",
       "      <td>0.0</td>\n",
       "      <td>0.0</td>\n",
       "      <td>0.0</td>\n",
       "      <td>0.0</td>\n",
       "      <td>0.0</td>\n",
       "      <td>0.0</td>\n",
       "      <td>0.0</td>\n",
       "      <td>0.0</td>\n",
       "      <td>0.0</td>\n",
       "    </tr>\n",
       "  </tbody>\n",
       "</table>\n",
       "<p>5 rows × 57 columns</p>\n",
       "</div>"
      ],
      "text/plain": [
       "             Id   AB   AF   AH   AM   AR   AX   AY   AZ   BC  ...   FI   FL  \\\n",
       "0  00eed32682bb  0.0  0.0  0.0  0.0  0.0  0.0  0.0  0.0  0.0  ...  0.0  0.0   \n",
       "1  010ebe33f668  0.0  0.0  0.0  0.0  0.0  0.0  0.0  0.0  0.0  ...  0.0  0.0   \n",
       "2  02fa521e1838  0.0  0.0  0.0  0.0  0.0  0.0  0.0  0.0  0.0  ...  0.0  0.0   \n",
       "3  040e15f562a2  0.0  0.0  0.0  0.0  0.0  0.0  0.0  0.0  0.0  ...  0.0  0.0   \n",
       "4  046e85c7cc7f  0.0  0.0  0.0  0.0  0.0  0.0  0.0  0.0  0.0  ...  0.0  0.0   \n",
       "\n",
       "    FR   FS   GB   GE   GF   GH   GI   GL  \n",
       "0  0.0  0.0  0.0  0.0  0.0  0.0  0.0  0.0  \n",
       "1  0.0  0.0  0.0  0.0  0.0  0.0  0.0  0.0  \n",
       "2  0.0  0.0  0.0  0.0  0.0  0.0  0.0  0.0  \n",
       "3  0.0  0.0  0.0  0.0  0.0  0.0  0.0  0.0  \n",
       "4  0.0  0.0  0.0  0.0  0.0  0.0  0.0  0.0  \n",
       "\n",
       "[5 rows x 57 columns]"
      ]
     },
     "execution_count": 81,
     "metadata": {},
     "output_type": "execute_result"
    }
   ],
   "source": [
    "test = pd.read_csv(os.path.join(directory, \"test.csv\"))\n",
    "test.head()\n"
   ]
  },
  {
   "cell_type": "code",
   "execution_count": null,
   "metadata": {
    "collapsed": false
   },
   "outputs": [
    {
     "data": {
      "text/html": [
       "<div>\n",
       "<style scoped>\n",
       "    .dataframe tbody tr th:only-of-type {\n",
       "        vertical-align: middle;\n",
       "    }\n",
       "\n",
       "    .dataframe tbody tr th {\n",
       "        vertical-align: top;\n",
       "    }\n",
       "\n",
       "    .dataframe thead th {\n",
       "        text-align: right;\n",
       "    }\n",
       "</style>\n",
       "<table border=\"1\" class=\"dataframe\">\n",
       "  <thead>\n",
       "    <tr style=\"text-align: right;\">\n",
       "      <th></th>\n",
       "      <th>AB</th>\n",
       "      <th>AF</th>\n",
       "      <th>AH</th>\n",
       "      <th>AM</th>\n",
       "      <th>AR</th>\n",
       "      <th>AX</th>\n",
       "      <th>AY</th>\n",
       "      <th>AZ</th>\n",
       "      <th>BC</th>\n",
       "      <th>BD</th>\n",
       "      <th>...</th>\n",
       "      <th>FR</th>\n",
       "      <th>FS</th>\n",
       "      <th>GB</th>\n",
       "      <th>GE</th>\n",
       "      <th>GF</th>\n",
       "      <th>GH</th>\n",
       "      <th>GI</th>\n",
       "      <th>GL</th>\n",
       "      <th>EJ_A</th>\n",
       "      <th>EJ_B</th>\n",
       "    </tr>\n",
       "  </thead>\n",
       "  <tbody>\n",
       "    <tr>\n",
       "      <th>0</th>\n",
       "      <td>0.0</td>\n",
       "      <td>0.0</td>\n",
       "      <td>0.0</td>\n",
       "      <td>0.0</td>\n",
       "      <td>0.0</td>\n",
       "      <td>0.0</td>\n",
       "      <td>0.0</td>\n",
       "      <td>0.0</td>\n",
       "      <td>0.0</td>\n",
       "      <td>0.0</td>\n",
       "      <td>...</td>\n",
       "      <td>0.0</td>\n",
       "      <td>0.0</td>\n",
       "      <td>0.0</td>\n",
       "      <td>0.0</td>\n",
       "      <td>0.0</td>\n",
       "      <td>0.0</td>\n",
       "      <td>0.0</td>\n",
       "      <td>0.0</td>\n",
       "      <td>1</td>\n",
       "      <td>0</td>\n",
       "    </tr>\n",
       "    <tr>\n",
       "      <th>1</th>\n",
       "      <td>0.0</td>\n",
       "      <td>0.0</td>\n",
       "      <td>0.0</td>\n",
       "      <td>0.0</td>\n",
       "      <td>0.0</td>\n",
       "      <td>0.0</td>\n",
       "      <td>0.0</td>\n",
       "      <td>0.0</td>\n",
       "      <td>0.0</td>\n",
       "      <td>0.0</td>\n",
       "      <td>...</td>\n",
       "      <td>0.0</td>\n",
       "      <td>0.0</td>\n",
       "      <td>0.0</td>\n",
       "      <td>0.0</td>\n",
       "      <td>0.0</td>\n",
       "      <td>0.0</td>\n",
       "      <td>0.0</td>\n",
       "      <td>0.0</td>\n",
       "      <td>1</td>\n",
       "      <td>0</td>\n",
       "    </tr>\n",
       "    <tr>\n",
       "      <th>2</th>\n",
       "      <td>0.0</td>\n",
       "      <td>0.0</td>\n",
       "      <td>0.0</td>\n",
       "      <td>0.0</td>\n",
       "      <td>0.0</td>\n",
       "      <td>0.0</td>\n",
       "      <td>0.0</td>\n",
       "      <td>0.0</td>\n",
       "      <td>0.0</td>\n",
       "      <td>0.0</td>\n",
       "      <td>...</td>\n",
       "      <td>0.0</td>\n",
       "      <td>0.0</td>\n",
       "      <td>0.0</td>\n",
       "      <td>0.0</td>\n",
       "      <td>0.0</td>\n",
       "      <td>0.0</td>\n",
       "      <td>0.0</td>\n",
       "      <td>0.0</td>\n",
       "      <td>1</td>\n",
       "      <td>0</td>\n",
       "    </tr>\n",
       "    <tr>\n",
       "      <th>3</th>\n",
       "      <td>0.0</td>\n",
       "      <td>0.0</td>\n",
       "      <td>0.0</td>\n",
       "      <td>0.0</td>\n",
       "      <td>0.0</td>\n",
       "      <td>0.0</td>\n",
       "      <td>0.0</td>\n",
       "      <td>0.0</td>\n",
       "      <td>0.0</td>\n",
       "      <td>0.0</td>\n",
       "      <td>...</td>\n",
       "      <td>0.0</td>\n",
       "      <td>0.0</td>\n",
       "      <td>0.0</td>\n",
       "      <td>0.0</td>\n",
       "      <td>0.0</td>\n",
       "      <td>0.0</td>\n",
       "      <td>0.0</td>\n",
       "      <td>0.0</td>\n",
       "      <td>1</td>\n",
       "      <td>0</td>\n",
       "    </tr>\n",
       "    <tr>\n",
       "      <th>4</th>\n",
       "      <td>0.0</td>\n",
       "      <td>0.0</td>\n",
       "      <td>0.0</td>\n",
       "      <td>0.0</td>\n",
       "      <td>0.0</td>\n",
       "      <td>0.0</td>\n",
       "      <td>0.0</td>\n",
       "      <td>0.0</td>\n",
       "      <td>0.0</td>\n",
       "      <td>0.0</td>\n",
       "      <td>...</td>\n",
       "      <td>0.0</td>\n",
       "      <td>0.0</td>\n",
       "      <td>0.0</td>\n",
       "      <td>0.0</td>\n",
       "      <td>0.0</td>\n",
       "      <td>0.0</td>\n",
       "      <td>0.0</td>\n",
       "      <td>0.0</td>\n",
       "      <td>1</td>\n",
       "      <td>0</td>\n",
       "    </tr>\n",
       "  </tbody>\n",
       "</table>\n",
       "<p>5 rows × 55 columns</p>\n",
       "</div>"
      ],
      "text/plain": [
       "    AB   AF   AH   AM   AR   AX   AY   AZ   BC  BD   ...   FR   FS   GB   GE  \\\n",
       "0  0.0  0.0  0.0  0.0  0.0  0.0  0.0  0.0  0.0  0.0  ...  0.0  0.0  0.0  0.0   \n",
       "1  0.0  0.0  0.0  0.0  0.0  0.0  0.0  0.0  0.0  0.0  ...  0.0  0.0  0.0  0.0   \n",
       "2  0.0  0.0  0.0  0.0  0.0  0.0  0.0  0.0  0.0  0.0  ...  0.0  0.0  0.0  0.0   \n",
       "3  0.0  0.0  0.0  0.0  0.0  0.0  0.0  0.0  0.0  0.0  ...  0.0  0.0  0.0  0.0   \n",
       "4  0.0  0.0  0.0  0.0  0.0  0.0  0.0  0.0  0.0  0.0  ...  0.0  0.0  0.0  0.0   \n",
       "\n",
       "    GF   GH   GI   GL  EJ_A  EJ_B  \n",
       "0  0.0  0.0  0.0  0.0     1     0  \n",
       "1  0.0  0.0  0.0  0.0     1     0  \n",
       "2  0.0  0.0  0.0  0.0     1     0  \n",
       "3  0.0  0.0  0.0  0.0     1     0  \n",
       "4  0.0  0.0  0.0  0.0     1     0  \n",
       "\n",
       "[5 rows x 55 columns]"
      ]
     },
     "execution_count": 82,
     "metadata": {},
     "output_type": "execute_result"
    }
   ],
   "source": [
    "# remove BQ and EL since they have more 50 null values\n",
    "test = test.drop(['BQ', 'EL'], axis=1)\n",
    "\n",
    "# fill null values with mean\n",
    "null_cols = test.columns[test.isnull().any()]\n",
    "for col in null_cols:\n",
    "    test[col].fillna(test[col].mean(), inplace=True)\n",
    "\n",
    "# drop Id column\n",
    "test_id = test['Id']\n",
    "test = test.drop(['Id'], axis=1)\n",
    "\n",
    "# make categorical data into numerical data\n",
    "test[\"EJ\"] = test[\"EJ\"].replace({'A': 0, 'B': 1})\n",
    "test.head()"
   ]
  },
  {
   "cell_type": "code",
   "execution_count": null,
   "metadata": {
    "collapsed": false
   },
   "outputs": [
    {
     "ename": "NameError",
     "evalue": "name 'pca' is not defined",
     "output_type": "error",
     "traceback": [
      "\u001b[0;31m---------------------------------------------------------------------------\u001b[0m",
      "\u001b[0;31mNameError\u001b[0m                                 Traceback (most recent call last)",
      "\u001b[0;32m<ipython-input-83-18dcf7579a90>\u001b[0m in \u001b[0;36m<module>\u001b[0;34m\u001b[0m\n\u001b[1;32m      1\u001b[0m \u001b[0;31m# fit the test data\u001b[0m\u001b[0;34m\u001b[0m\u001b[0;34m\u001b[0m\u001b[0;34m\u001b[0m\u001b[0m\n\u001b[0;32m----> 2\u001b[0;31m \u001b[0mtest_pca\u001b[0m \u001b[0;34m=\u001b[0m \u001b[0mpca\u001b[0m\u001b[0;34m.\u001b[0m\u001b[0mtransform\u001b[0m\u001b[0;34m(\u001b[0m\u001b[0mtest\u001b[0m\u001b[0;34m)\u001b[0m\u001b[0;34m\u001b[0m\u001b[0;34m\u001b[0m\u001b[0m\n\u001b[0m\u001b[1;32m      3\u001b[0m \u001b[0my_prob\u001b[0m \u001b[0;34m=\u001b[0m \u001b[0mlogreg\u001b[0m\u001b[0;34m.\u001b[0m\u001b[0mpredict_proba\u001b[0m\u001b[0;34m(\u001b[0m\u001b[0mtest_pca\u001b[0m\u001b[0;34m)\u001b[0m\u001b[0;34m\u001b[0m\u001b[0;34m\u001b[0m\u001b[0m\n\u001b[1;32m      4\u001b[0m \u001b[0;34m\u001b[0m\u001b[0m\n\u001b[1;32m      5\u001b[0m \u001b[0my_prob\u001b[0m\u001b[0;34m[\u001b[0m\u001b[0;34m:\u001b[0m\u001b[0;34m,\u001b[0m\u001b[0;36m1\u001b[0m\u001b[0;34m]\u001b[0m\u001b[0;34m\u001b[0m\u001b[0;34m\u001b[0m\u001b[0m\n",
      "\u001b[0;31mNameError\u001b[0m: name 'pca' is not defined"
     ]
    }
   ],
   "source": [
    "# predict\n",
    "y_pred = ensemble.predict(test)\n",
    "y_prob = ensemble.predict_proba(test)\n",
    "\n"
   ]
  },
  {
   "cell_type": "code",
   "execution_count": null,
   "metadata": {
    "collapsed": false
   },
   "outputs": [],
   "source": []
  },
  {
   "cell_type": "code",
   "execution_count": null,
   "metadata": {
    "collapsed": false
   },
   "outputs": [],
   "source": [
    "out = pd.DataFrame(\n",
    "    {\n",
    "        \"Id\": test_id,\n",
    "        \"class_0\": y_prob[:,0],\n",
    "        \"class_1\": y_prob[:,1],\n",
    "    }\n",
    ")"
   ]
  },
  {
   "cell_type": "code",
   "execution_count": null,
   "metadata": {
    "collapsed": false
   },
   "outputs": [],
   "source": [
    "out"
   ]
  },
  {
   "cell_type": "code",
   "execution_count": null,
   "metadata": {
    "collapsed": false
   },
   "outputs": [],
   "source": [
    "out.to_csv(r\"submission.csv\", index=False)\n"
   ]
  },
  {
   "cell_type": "code",
   "execution_count": null,
   "metadata": {
    "collapsed": false
   },
   "outputs": [],
   "source": []
  }
 ],
 "metadata": {
  "kernelspec": {
   "display_name": "base",
   "language": "python",
   "name": "python3"
  },
  "language_info": {
   "codemirror_mode": {
    "name": "ipython",
    "version": 3
   },
   "file_extension": ".py",
   "mimetype": "text/x-python",
   "name": "python",
   "nbconvert_exporter": "python",
   "pygments_lexer": "ipython3",
   "version": "3.7.3"
  },
  "orig_nbformat": 4
 },
 "nbformat": 4,
 "nbformat_minor": 2
}
