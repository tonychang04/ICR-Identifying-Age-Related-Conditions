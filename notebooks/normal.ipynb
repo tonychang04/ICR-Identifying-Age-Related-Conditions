{
 "cells": [
  {
   "attachments": {},
   "cell_type": "markdown",
   "metadata": {},
   "source": [
    "## ICR - Identifying Age-Related Conditions¶\n"
   ]
  },
  {
   "attachments": {},
   "cell_type": "markdown",
   "metadata": {},
   "source": [
    "Use Machine Learning to detect conditions with measurements of anonymous characteristics\n",
    "https://www.kaggle.com/code/samuelabatnehendalie/icr-identifying-age-related-conditions"
   ]
  },
  {
   "cell_type": "markdown",
   "source": [
    "### Importing Libraries"
   ],
   "metadata": {
    "collapsed": false
   }
  },
  {
   "cell_type": "code",
   "execution_count": 84,
   "metadata": {},
   "outputs": [],
   "source": [
    "import pandas as pd\n",
    "import numpy as np\n",
    "import matplotlib.pyplot as plt\n",
    "import seaborn as sns\n",
    "import os\n",
    "import warnings"
   ]
  },
  {
   "cell_type": "code",
   "execution_count": 85,
   "outputs": [
    {
     "data": {
      "text/plain": "' use this code when upload to kaggle\\n# This Python 3 environment comes with many helpful analytics libraries installed\\n# It is defined by the kaggle/python Docker image: https://github.com/kaggle/docker-python\\n# For example, here\\'s several helpful packages to load\\n\\nimport numpy as np # linear algebra\\nimport pandas as pd # data processing, CSV file I/O (e.g. pd.read_csv)\\nimport matplotlib.pyplot as plt\\nimport seaborn as sns\\n\\n# Input data files are available in the read-only \"../input/\" directory\\n# For example, running this (by clicking run or pressing Shift+Enter) will list all files under the input directory\\n\\nimport os\\nfor dirname, _, filenames in os.walk(\\'/kaggle/input\\'):\\n    for filename in filenames:\\n        print(os.path.join(dirname, filename))\\n\\n# You can write up to 20GB to the current directory (/kaggle/working/) that gets preserved as output when you create a version using \"Save & Run All\"\\n# You can also write temporary files to /kaggle/temp/, but they won\\'t be saved outside of the current session\\n\\n\\ntrain = pd.read_csv(\\'/kaggle/input/icr-identify-age-related-conditions/train.csv\\')\\ntest = pd.read_csv(\\'/kaggle/input/icr-identify-age-related-conditions/test.csv\\')\\n'"
     },
     "execution_count": 85,
     "metadata": {},
     "output_type": "execute_result"
    }
   ],
   "source": [
    "''' use this code when upload to kaggle\n",
    "# This Python 3 environment comes with many helpful analytics libraries installed\n",
    "# It is defined by the kaggle/python Docker image: https://github.com/kaggle/docker-python\n",
    "# For example, here's several helpful packages to load\n",
    "\n",
    "import numpy as np # linear algebra\n",
    "import pandas as pd # data processing, CSV file I/O (e.g. pd.read_csv)\n",
    "import matplotlib.pyplot as plt\n",
    "import seaborn as sns\n",
    "\n",
    "# Input data files are available in the read-only \"../input/\" directory\n",
    "# For example, running this (by clicking run or pressing Shift+Enter) will list all files under the input directory\n",
    "\n",
    "import os\n",
    "for dirname, _, filenames in os.walk('/kaggle/input'):\n",
    "    for filename in filenames:\n",
    "        print(os.path.join(dirname, filename))\n",
    "\n",
    "# You can write up to 20GB to the current directory (/kaggle/working/) that gets preserved as output when you create a version using \"Save & Run All\"\n",
    "# You can also write temporary files to /kaggle/temp/, but they won't be saved outside of the current session\n",
    "\n",
    "\n",
    "train = pd.read_csv('/kaggle/input/icr-identify-age-related-conditions/train.csv')\n",
    "test = pd.read_csv('/kaggle/input/icr-identify-age-related-conditions/test.csv')\n",
    "'''"
   ],
   "metadata": {
    "collapsed": false
   }
  },
  {
   "attachments": {},
   "cell_type": "markdown",
   "metadata": {},
   "source": []
  },
  {
   "cell_type": "code",
   "execution_count": 86,
   "metadata": {},
   "outputs": [],
   "source": [
    "directory = \"../data\"\n"
   ]
  },
  {
   "cell_type": "code",
   "execution_count": 87,
   "metadata": {},
   "outputs": [],
   "source": [
    "train = pd.read_csv(os.path.join(directory, \"train.csv\"))\n",
    "meta_data = pd.read_csv(os.path.join(directory, \"greeks.csv\"))\n",
    "test = pd.read_csv(os.path.join(directory, \"test.csv\"))"
   ]
  },
  {
   "cell_type": "markdown",
   "source": [
    "### Exploratory Data Analysis"
   ],
   "metadata": {
    "collapsed": false
   }
  },
  {
   "cell_type": "code",
   "execution_count": 88,
   "outputs": [
    {
     "data": {
      "text/plain": "             Id        AB          AF          AH         AM        AR  \\\n0  000ff2bfdfe9  0.209377  3109.03329   85.200147  22.394407  8.138688   \n1  007255e47698  0.145282   978.76416   85.200147  36.968889  8.138688   \n2  013f2bd269f5  0.470030  2635.10654   85.200147  32.360553  8.138688   \n3  043ac50845d5  0.252107  3819.65177  120.201618  77.112203  8.138688   \n4  044fb8a146ec  0.380297  3733.04844   85.200147  14.103738  8.138688   \n\n         AX        AY         AZ          BC  ...        FL        FR  \\\n0  0.699861  0.025578   9.812214    5.555634  ...  7.298162   1.73855   \n1  3.632190  0.025578  13.517790    1.229900  ...  0.173229   0.49706   \n2  6.732840  0.025578  12.824570    1.229900  ...  7.709560   0.97556   \n3  3.685344  0.025578  11.053708    1.229900  ...  6.122162   0.49706   \n4  3.942255  0.054810   3.396778  102.151980  ...  8.153058  48.50134   \n\n         FS         GB          GE            GF         GH         GI  \\\n0  0.094822  11.339138   72.611063   2003.810319  22.136229  69.834944   \n1  0.568932   9.292698   72.611063  27981.562750  29.135430  32.131996   \n2  1.198821  37.077772   88.609437  13676.957810  28.022851  35.192676   \n3  0.284466  18.529584   82.416803   2094.262452  39.948656  90.493248   \n4  0.121914  16.408728  146.109943   8524.370502  45.381316  36.262628   \n\n          GL  Class  \n0   0.120343      1  \n1  21.978000      0  \n2   0.196941      0  \n3   0.155829      0  \n4   0.096614      1  \n\n[5 rows x 58 columns]",
      "text/html": "<div>\n<style scoped>\n    .dataframe tbody tr th:only-of-type {\n        vertical-align: middle;\n    }\n\n    .dataframe tbody tr th {\n        vertical-align: top;\n    }\n\n    .dataframe thead th {\n        text-align: right;\n    }\n</style>\n<table border=\"1\" class=\"dataframe\">\n  <thead>\n    <tr style=\"text-align: right;\">\n      <th></th>\n      <th>Id</th>\n      <th>AB</th>\n      <th>AF</th>\n      <th>AH</th>\n      <th>AM</th>\n      <th>AR</th>\n      <th>AX</th>\n      <th>AY</th>\n      <th>AZ</th>\n      <th>BC</th>\n      <th>...</th>\n      <th>FL</th>\n      <th>FR</th>\n      <th>FS</th>\n      <th>GB</th>\n      <th>GE</th>\n      <th>GF</th>\n      <th>GH</th>\n      <th>GI</th>\n      <th>GL</th>\n      <th>Class</th>\n    </tr>\n  </thead>\n  <tbody>\n    <tr>\n      <th>0</th>\n      <td>000ff2bfdfe9</td>\n      <td>0.209377</td>\n      <td>3109.03329</td>\n      <td>85.200147</td>\n      <td>22.394407</td>\n      <td>8.138688</td>\n      <td>0.699861</td>\n      <td>0.025578</td>\n      <td>9.812214</td>\n      <td>5.555634</td>\n      <td>...</td>\n      <td>7.298162</td>\n      <td>1.73855</td>\n      <td>0.094822</td>\n      <td>11.339138</td>\n      <td>72.611063</td>\n      <td>2003.810319</td>\n      <td>22.136229</td>\n      <td>69.834944</td>\n      <td>0.120343</td>\n      <td>1</td>\n    </tr>\n    <tr>\n      <th>1</th>\n      <td>007255e47698</td>\n      <td>0.145282</td>\n      <td>978.76416</td>\n      <td>85.200147</td>\n      <td>36.968889</td>\n      <td>8.138688</td>\n      <td>3.632190</td>\n      <td>0.025578</td>\n      <td>13.517790</td>\n      <td>1.229900</td>\n      <td>...</td>\n      <td>0.173229</td>\n      <td>0.49706</td>\n      <td>0.568932</td>\n      <td>9.292698</td>\n      <td>72.611063</td>\n      <td>27981.562750</td>\n      <td>29.135430</td>\n      <td>32.131996</td>\n      <td>21.978000</td>\n      <td>0</td>\n    </tr>\n    <tr>\n      <th>2</th>\n      <td>013f2bd269f5</td>\n      <td>0.470030</td>\n      <td>2635.10654</td>\n      <td>85.200147</td>\n      <td>32.360553</td>\n      <td>8.138688</td>\n      <td>6.732840</td>\n      <td>0.025578</td>\n      <td>12.824570</td>\n      <td>1.229900</td>\n      <td>...</td>\n      <td>7.709560</td>\n      <td>0.97556</td>\n      <td>1.198821</td>\n      <td>37.077772</td>\n      <td>88.609437</td>\n      <td>13676.957810</td>\n      <td>28.022851</td>\n      <td>35.192676</td>\n      <td>0.196941</td>\n      <td>0</td>\n    </tr>\n    <tr>\n      <th>3</th>\n      <td>043ac50845d5</td>\n      <td>0.252107</td>\n      <td>3819.65177</td>\n      <td>120.201618</td>\n      <td>77.112203</td>\n      <td>8.138688</td>\n      <td>3.685344</td>\n      <td>0.025578</td>\n      <td>11.053708</td>\n      <td>1.229900</td>\n      <td>...</td>\n      <td>6.122162</td>\n      <td>0.49706</td>\n      <td>0.284466</td>\n      <td>18.529584</td>\n      <td>82.416803</td>\n      <td>2094.262452</td>\n      <td>39.948656</td>\n      <td>90.493248</td>\n      <td>0.155829</td>\n      <td>0</td>\n    </tr>\n    <tr>\n      <th>4</th>\n      <td>044fb8a146ec</td>\n      <td>0.380297</td>\n      <td>3733.04844</td>\n      <td>85.200147</td>\n      <td>14.103738</td>\n      <td>8.138688</td>\n      <td>3.942255</td>\n      <td>0.054810</td>\n      <td>3.396778</td>\n      <td>102.151980</td>\n      <td>...</td>\n      <td>8.153058</td>\n      <td>48.50134</td>\n      <td>0.121914</td>\n      <td>16.408728</td>\n      <td>146.109943</td>\n      <td>8524.370502</td>\n      <td>45.381316</td>\n      <td>36.262628</td>\n      <td>0.096614</td>\n      <td>1</td>\n    </tr>\n  </tbody>\n</table>\n<p>5 rows × 58 columns</p>\n</div>"
     },
     "execution_count": 88,
     "metadata": {},
     "output_type": "execute_result"
    }
   ],
   "source": [
    "train.head() # a lot of columns!"
   ],
   "metadata": {
    "collapsed": false
   }
  },
  {
   "cell_type": "code",
   "execution_count": 89,
   "outputs": [
    {
     "data": {
      "text/plain": "               AB            AF           AH          AM          AR  \\\ncount  617.000000    617.000000   617.000000  617.000000  617.000000   \nmean     0.477149   3502.013221   118.624513   38.968552   10.128242   \nstd      0.468388   2300.322717   127.838950   69.728226   10.518877   \nmin      0.081187    192.593280    85.200147    3.177522    8.138688   \n25%      0.252107   2197.345480    85.200147   12.270314    8.138688   \n50%      0.354659   3120.318960    85.200147   20.533110    8.138688   \n75%      0.559763   4361.637390   113.739540   39.139886    8.138688   \nmax      6.161666  28688.187660  1910.123198  630.518230  178.943634   \n\n               AX          AY          AZ           BC           BD   ...  \\\ncount  617.000000  617.000000  617.000000   617.000000    617.000000  ...   \nmean     5.545576    0.060320   10.566447     8.053012   5350.388655  ...   \nstd      2.551696    0.416817    4.350645    65.166943   3021.326641  ...   \nmin      0.699861    0.025578    3.396778     1.229900   1693.624320  ...   \n25%      4.128294    0.025578    8.129580     1.229900   4155.702870  ...   \n50%      5.031912    0.025578   10.461320     1.229900   4997.960730  ...   \n75%      6.431634    0.036845   12.969516     5.081244   6035.885700  ...   \nmax     38.270880   10.315851   38.971568  1463.693448  53060.599240  ...   \n\n               FL           FR          FS          GB           GE  \\\ncount  616.000000   617.000000  615.000000  617.000000   617.000000   \nmean     5.433199     3.533905    0.421501   20.724856   131.714987   \nstd     11.496257    50.181948    1.305365    9.991907   144.181524   \nmin      0.173229     0.497060    0.067730    4.102182    72.611063   \n25%      0.173229     0.497060    0.067730   14.036718    72.611063   \n50%      3.028141     1.131000    0.250601   18.771436    72.611063   \n75%      6.238814     1.512060    0.535067   25.608406   127.591671   \nmax    137.932739  1244.227020   31.365763  135.781294  1497.351958   \n\n                  GF          GH          GI          GL       Class  \ncount     617.000000  617.000000  617.000000  616.000000  617.000000  \nmean    14679.595398   31.489716   50.584437    8.530961    0.175041  \nstd     19352.959387    9.864239   36.266251   10.327010    0.380310  \nmin        13.038894    9.432735    0.897628    0.001129    0.000000  \n25%      2798.992584   25.034888   23.011684    0.124392    0.000000  \n50%      7838.273610   30.608946   41.007968    0.337827    0.000000  \n75%     19035.709240   36.863947   67.931664   21.978000    0.000000  \nmax    143790.071200   81.210825  191.194764   21.978000    1.000000  \n\n[8 rows x 56 columns]",
      "text/html": "<div>\n<style scoped>\n    .dataframe tbody tr th:only-of-type {\n        vertical-align: middle;\n    }\n\n    .dataframe tbody tr th {\n        vertical-align: top;\n    }\n\n    .dataframe thead th {\n        text-align: right;\n    }\n</style>\n<table border=\"1\" class=\"dataframe\">\n  <thead>\n    <tr style=\"text-align: right;\">\n      <th></th>\n      <th>AB</th>\n      <th>AF</th>\n      <th>AH</th>\n      <th>AM</th>\n      <th>AR</th>\n      <th>AX</th>\n      <th>AY</th>\n      <th>AZ</th>\n      <th>BC</th>\n      <th>BD</th>\n      <th>...</th>\n      <th>FL</th>\n      <th>FR</th>\n      <th>FS</th>\n      <th>GB</th>\n      <th>GE</th>\n      <th>GF</th>\n      <th>GH</th>\n      <th>GI</th>\n      <th>GL</th>\n      <th>Class</th>\n    </tr>\n  </thead>\n  <tbody>\n    <tr>\n      <th>count</th>\n      <td>617.000000</td>\n      <td>617.000000</td>\n      <td>617.000000</td>\n      <td>617.000000</td>\n      <td>617.000000</td>\n      <td>617.000000</td>\n      <td>617.000000</td>\n      <td>617.000000</td>\n      <td>617.000000</td>\n      <td>617.000000</td>\n      <td>...</td>\n      <td>616.000000</td>\n      <td>617.000000</td>\n      <td>615.000000</td>\n      <td>617.000000</td>\n      <td>617.000000</td>\n      <td>617.000000</td>\n      <td>617.000000</td>\n      <td>617.000000</td>\n      <td>616.000000</td>\n      <td>617.000000</td>\n    </tr>\n    <tr>\n      <th>mean</th>\n      <td>0.477149</td>\n      <td>3502.013221</td>\n      <td>118.624513</td>\n      <td>38.968552</td>\n      <td>10.128242</td>\n      <td>5.545576</td>\n      <td>0.060320</td>\n      <td>10.566447</td>\n      <td>8.053012</td>\n      <td>5350.388655</td>\n      <td>...</td>\n      <td>5.433199</td>\n      <td>3.533905</td>\n      <td>0.421501</td>\n      <td>20.724856</td>\n      <td>131.714987</td>\n      <td>14679.595398</td>\n      <td>31.489716</td>\n      <td>50.584437</td>\n      <td>8.530961</td>\n      <td>0.175041</td>\n    </tr>\n    <tr>\n      <th>std</th>\n      <td>0.468388</td>\n      <td>2300.322717</td>\n      <td>127.838950</td>\n      <td>69.728226</td>\n      <td>10.518877</td>\n      <td>2.551696</td>\n      <td>0.416817</td>\n      <td>4.350645</td>\n      <td>65.166943</td>\n      <td>3021.326641</td>\n      <td>...</td>\n      <td>11.496257</td>\n      <td>50.181948</td>\n      <td>1.305365</td>\n      <td>9.991907</td>\n      <td>144.181524</td>\n      <td>19352.959387</td>\n      <td>9.864239</td>\n      <td>36.266251</td>\n      <td>10.327010</td>\n      <td>0.380310</td>\n    </tr>\n    <tr>\n      <th>min</th>\n      <td>0.081187</td>\n      <td>192.593280</td>\n      <td>85.200147</td>\n      <td>3.177522</td>\n      <td>8.138688</td>\n      <td>0.699861</td>\n      <td>0.025578</td>\n      <td>3.396778</td>\n      <td>1.229900</td>\n      <td>1693.624320</td>\n      <td>...</td>\n      <td>0.173229</td>\n      <td>0.497060</td>\n      <td>0.067730</td>\n      <td>4.102182</td>\n      <td>72.611063</td>\n      <td>13.038894</td>\n      <td>9.432735</td>\n      <td>0.897628</td>\n      <td>0.001129</td>\n      <td>0.000000</td>\n    </tr>\n    <tr>\n      <th>25%</th>\n      <td>0.252107</td>\n      <td>2197.345480</td>\n      <td>85.200147</td>\n      <td>12.270314</td>\n      <td>8.138688</td>\n      <td>4.128294</td>\n      <td>0.025578</td>\n      <td>8.129580</td>\n      <td>1.229900</td>\n      <td>4155.702870</td>\n      <td>...</td>\n      <td>0.173229</td>\n      <td>0.497060</td>\n      <td>0.067730</td>\n      <td>14.036718</td>\n      <td>72.611063</td>\n      <td>2798.992584</td>\n      <td>25.034888</td>\n      <td>23.011684</td>\n      <td>0.124392</td>\n      <td>0.000000</td>\n    </tr>\n    <tr>\n      <th>50%</th>\n      <td>0.354659</td>\n      <td>3120.318960</td>\n      <td>85.200147</td>\n      <td>20.533110</td>\n      <td>8.138688</td>\n      <td>5.031912</td>\n      <td>0.025578</td>\n      <td>10.461320</td>\n      <td>1.229900</td>\n      <td>4997.960730</td>\n      <td>...</td>\n      <td>3.028141</td>\n      <td>1.131000</td>\n      <td>0.250601</td>\n      <td>18.771436</td>\n      <td>72.611063</td>\n      <td>7838.273610</td>\n      <td>30.608946</td>\n      <td>41.007968</td>\n      <td>0.337827</td>\n      <td>0.000000</td>\n    </tr>\n    <tr>\n      <th>75%</th>\n      <td>0.559763</td>\n      <td>4361.637390</td>\n      <td>113.739540</td>\n      <td>39.139886</td>\n      <td>8.138688</td>\n      <td>6.431634</td>\n      <td>0.036845</td>\n      <td>12.969516</td>\n      <td>5.081244</td>\n      <td>6035.885700</td>\n      <td>...</td>\n      <td>6.238814</td>\n      <td>1.512060</td>\n      <td>0.535067</td>\n      <td>25.608406</td>\n      <td>127.591671</td>\n      <td>19035.709240</td>\n      <td>36.863947</td>\n      <td>67.931664</td>\n      <td>21.978000</td>\n      <td>0.000000</td>\n    </tr>\n    <tr>\n      <th>max</th>\n      <td>6.161666</td>\n      <td>28688.187660</td>\n      <td>1910.123198</td>\n      <td>630.518230</td>\n      <td>178.943634</td>\n      <td>38.270880</td>\n      <td>10.315851</td>\n      <td>38.971568</td>\n      <td>1463.693448</td>\n      <td>53060.599240</td>\n      <td>...</td>\n      <td>137.932739</td>\n      <td>1244.227020</td>\n      <td>31.365763</td>\n      <td>135.781294</td>\n      <td>1497.351958</td>\n      <td>143790.071200</td>\n      <td>81.210825</td>\n      <td>191.194764</td>\n      <td>21.978000</td>\n      <td>1.000000</td>\n    </tr>\n  </tbody>\n</table>\n<p>8 rows × 56 columns</p>\n</div>"
     },
     "execution_count": 89,
     "metadata": {},
     "output_type": "execute_result"
    }
   ],
   "source": [
    "train.describe() # may be coming from different distribution\n"
   ],
   "metadata": {
    "collapsed": false
   }
  },
  {
   "cell_type": "code",
   "execution_count": 90,
   "outputs": [
    {
     "name": "stdout",
     "output_type": "stream",
     "text": [
      "<class 'pandas.core.frame.DataFrame'>\n",
      "RangeIndex: 617 entries, 0 to 616\n",
      "Data columns (total 58 columns):\n",
      " #   Column  Non-Null Count  Dtype  \n",
      "---  ------  --------------  -----  \n",
      " 0   Id      617 non-null    object \n",
      " 1   AB      617 non-null    float64\n",
      " 2   AF      617 non-null    float64\n",
      " 3   AH      617 non-null    float64\n",
      " 4   AM      617 non-null    float64\n",
      " 5   AR      617 non-null    float64\n",
      " 6   AX      617 non-null    float64\n",
      " 7   AY      617 non-null    float64\n",
      " 8   AZ      617 non-null    float64\n",
      " 9   BC      617 non-null    float64\n",
      " 10  BD      617 non-null    float64\n",
      " 11  BN      617 non-null    float64\n",
      " 12  BP      617 non-null    float64\n",
      " 13  BQ      557 non-null    float64\n",
      " 14  BR      617 non-null    float64\n",
      " 15  BZ      617 non-null    float64\n",
      " 16  CB      615 non-null    float64\n",
      " 17  CC      614 non-null    float64\n",
      " 18  CD      617 non-null    float64\n",
      " 19  CF      617 non-null    float64\n",
      " 20  CH      617 non-null    float64\n",
      " 21  CL      617 non-null    float64\n",
      " 22  CR      617 non-null    float64\n",
      " 23  CS      617 non-null    float64\n",
      " 24  CU      617 non-null    float64\n",
      " 25  CW      617 non-null    float64\n",
      " 26  DA      617 non-null    float64\n",
      " 27  DE      617 non-null    float64\n",
      " 28  DF      617 non-null    float64\n",
      " 29  DH      617 non-null    float64\n",
      " 30  DI      617 non-null    float64\n",
      " 31  DL      617 non-null    float64\n",
      " 32  DN      617 non-null    float64\n",
      " 33  DU      616 non-null    float64\n",
      " 34  DV      617 non-null    float64\n",
      " 35  DY      617 non-null    float64\n",
      " 36  EB      617 non-null    float64\n",
      " 37  EE      617 non-null    float64\n",
      " 38  EG      617 non-null    float64\n",
      " 39  EH      617 non-null    float64\n",
      " 40  EJ      617 non-null    object \n",
      " 41  EL      557 non-null    float64\n",
      " 42  EP      617 non-null    float64\n",
      " 43  EU      617 non-null    float64\n",
      " 44  FC      616 non-null    float64\n",
      " 45  FD      617 non-null    float64\n",
      " 46  FE      617 non-null    float64\n",
      " 47  FI      617 non-null    float64\n",
      " 48  FL      616 non-null    float64\n",
      " 49  FR      617 non-null    float64\n",
      " 50  FS      615 non-null    float64\n",
      " 51  GB      617 non-null    float64\n",
      " 52  GE      617 non-null    float64\n",
      " 53  GF      617 non-null    float64\n",
      " 54  GH      617 non-null    float64\n",
      " 55  GI      617 non-null    float64\n",
      " 56  GL      616 non-null    float64\n",
      " 57  Class   617 non-null    int64  \n",
      "dtypes: float64(55), int64(1), object(2)\n",
      "memory usage: 279.7+ KB\n"
     ]
    }
   ],
   "source": [
    "train.info() # can see that there are several null values in the data"
   ],
   "metadata": {
    "collapsed": false
   }
  },
  {
   "cell_type": "code",
   "execution_count": 91,
   "outputs": [
    {
     "name": "stdout",
     "output_type": "stream",
     "text": [
      "BQ    60\n",
      "CB     2\n",
      "CC     3\n",
      "DU     1\n",
      "EL    60\n",
      "FC     1\n",
      "FL     1\n",
      "FS     2\n",
      "GL     1\n",
      "dtype: int64\n"
     ]
    }
   ],
   "source": [
    "null_cols = train.columns[train.isnull().any()]\n",
    "print(train[null_cols].isnull().sum()) # remove BQ and EL since they have more 50 null values"
   ],
   "metadata": {
    "collapsed": false
   }
  },
  {
   "cell_type": "code",
   "execution_count": 92,
   "outputs": [],
   "source": [
    "train = train.drop(['BQ', 'EL'], axis=1)\n",
    "\n"
   ],
   "metadata": {
    "collapsed": false
   }
  },
  {
   "cell_type": "code",
   "execution_count": 93,
   "outputs": [],
   "source": [
    "null_cols = train.columns[train.isnull().any()]\n",
    "for col in null_cols:\n",
    "    train[col].fillna(train[col].mean(), inplace=True)\n"
   ],
   "metadata": {
    "collapsed": false
   }
  },
  {
   "cell_type": "code",
   "execution_count": 94,
   "outputs": [
    {
     "name": "stdout",
     "output_type": "stream",
     "text": [
      "<class 'pandas.core.frame.DataFrame'>\n",
      "RangeIndex: 617 entries, 0 to 616\n",
      "Data columns (total 56 columns):\n",
      " #   Column  Non-Null Count  Dtype  \n",
      "---  ------  --------------  -----  \n",
      " 0   Id      617 non-null    object \n",
      " 1   AB      617 non-null    float64\n",
      " 2   AF      617 non-null    float64\n",
      " 3   AH      617 non-null    float64\n",
      " 4   AM      617 non-null    float64\n",
      " 5   AR      617 non-null    float64\n",
      " 6   AX      617 non-null    float64\n",
      " 7   AY      617 non-null    float64\n",
      " 8   AZ      617 non-null    float64\n",
      " 9   BC      617 non-null    float64\n",
      " 10  BD      617 non-null    float64\n",
      " 11  BN      617 non-null    float64\n",
      " 12  BP      617 non-null    float64\n",
      " 13  BR      617 non-null    float64\n",
      " 14  BZ      617 non-null    float64\n",
      " 15  CB      617 non-null    float64\n",
      " 16  CC      617 non-null    float64\n",
      " 17  CD      617 non-null    float64\n",
      " 18  CF      617 non-null    float64\n",
      " 19  CH      617 non-null    float64\n",
      " 20  CL      617 non-null    float64\n",
      " 21  CR      617 non-null    float64\n",
      " 22  CS      617 non-null    float64\n",
      " 23  CU      617 non-null    float64\n",
      " 24  CW      617 non-null    float64\n",
      " 25  DA      617 non-null    float64\n",
      " 26  DE      617 non-null    float64\n",
      " 27  DF      617 non-null    float64\n",
      " 28  DH      617 non-null    float64\n",
      " 29  DI      617 non-null    float64\n",
      " 30  DL      617 non-null    float64\n",
      " 31  DN      617 non-null    float64\n",
      " 32  DU      617 non-null    float64\n",
      " 33  DV      617 non-null    float64\n",
      " 34  DY      617 non-null    float64\n",
      " 35  EB      617 non-null    float64\n",
      " 36  EE      617 non-null    float64\n",
      " 37  EG      617 non-null    float64\n",
      " 38  EH      617 non-null    float64\n",
      " 39  EJ      617 non-null    object \n",
      " 40  EP      617 non-null    float64\n",
      " 41  EU      617 non-null    float64\n",
      " 42  FC      617 non-null    float64\n",
      " 43  FD      617 non-null    float64\n",
      " 44  FE      617 non-null    float64\n",
      " 45  FI      617 non-null    float64\n",
      " 46  FL      617 non-null    float64\n",
      " 47  FR      617 non-null    float64\n",
      " 48  FS      617 non-null    float64\n",
      " 49  GB      617 non-null    float64\n",
      " 50  GE      617 non-null    float64\n",
      " 51  GF      617 non-null    float64\n",
      " 52  GH      617 non-null    float64\n",
      " 53  GI      617 non-null    float64\n",
      " 54  GL      617 non-null    float64\n",
      " 55  Class   617 non-null    int64  \n",
      "dtypes: float64(53), int64(1), object(2)\n",
      "memory usage: 270.1+ KB\n"
     ]
    }
   ],
   "source": [
    "train.info() # no more null values\n"
   ],
   "metadata": {
    "collapsed": false
   }
  },
  {
   "cell_type": "code",
   "execution_count": 95,
   "outputs": [
    {
     "name": "stdout",
     "output_type": "stream",
     "text": [
      "0      1\n",
      "1      0\n",
      "2      0\n",
      "3      0\n",
      "4      1\n",
      "      ..\n",
      "612    0\n",
      "613    0\n",
      "614    0\n",
      "615    0\n",
      "616    0\n",
      "Name: Class, Length: 617, dtype: int64\n"
     ]
    },
    {
     "data": {
      "text/plain": "         AB          AF          AH         AM        AR        AX        AY  \\\n0  0.209377  3109.03329   85.200147  22.394407  8.138688  0.699861  0.025578   \n1  0.145282   978.76416   85.200147  36.968889  8.138688  3.632190  0.025578   \n2  0.470030  2635.10654   85.200147  32.360553  8.138688  6.732840  0.025578   \n3  0.252107  3819.65177  120.201618  77.112203  8.138688  3.685344  0.025578   \n4  0.380297  3733.04844   85.200147  14.103738  8.138688  3.942255  0.054810   \n\n          AZ          BC         BD   ...         FI        FL        FR  \\\n0   9.812214    5.555634  4126.58731  ...   3.583450  7.298162   1.73855   \n1  13.517790    1.229900  5496.92824  ...  10.358927  0.173229   0.49706   \n2  12.824570    1.229900  5135.78024  ...  11.626917  7.709560   0.97556   \n3  11.053708    1.229900  4169.67738  ...  14.852022  6.122162   0.49706   \n4   3.396778  102.151980  5728.73412  ...  13.666727  8.153058  48.50134   \n\n         FS         GB          GE            GF         GH         GI  \\\n0  0.094822  11.339138   72.611063   2003.810319  22.136229  69.834944   \n1  0.568932   9.292698   72.611063  27981.562750  29.135430  32.131996   \n2  1.198821  37.077772   88.609437  13676.957810  28.022851  35.192676   \n3  0.284466  18.529584   82.416803   2094.262452  39.948656  90.493248   \n4  0.121914  16.408728  146.109943   8524.370502  45.381316  36.262628   \n\n          GL  \n0   0.120343  \n1  21.978000  \n2   0.196941  \n3   0.155829  \n4   0.096614  \n\n[5 rows x 54 columns]",
      "text/html": "<div>\n<style scoped>\n    .dataframe tbody tr th:only-of-type {\n        vertical-align: middle;\n    }\n\n    .dataframe tbody tr th {\n        vertical-align: top;\n    }\n\n    .dataframe thead th {\n        text-align: right;\n    }\n</style>\n<table border=\"1\" class=\"dataframe\">\n  <thead>\n    <tr style=\"text-align: right;\">\n      <th></th>\n      <th>AB</th>\n      <th>AF</th>\n      <th>AH</th>\n      <th>AM</th>\n      <th>AR</th>\n      <th>AX</th>\n      <th>AY</th>\n      <th>AZ</th>\n      <th>BC</th>\n      <th>BD</th>\n      <th>...</th>\n      <th>FI</th>\n      <th>FL</th>\n      <th>FR</th>\n      <th>FS</th>\n      <th>GB</th>\n      <th>GE</th>\n      <th>GF</th>\n      <th>GH</th>\n      <th>GI</th>\n      <th>GL</th>\n    </tr>\n  </thead>\n  <tbody>\n    <tr>\n      <th>0</th>\n      <td>0.209377</td>\n      <td>3109.03329</td>\n      <td>85.200147</td>\n      <td>22.394407</td>\n      <td>8.138688</td>\n      <td>0.699861</td>\n      <td>0.025578</td>\n      <td>9.812214</td>\n      <td>5.555634</td>\n      <td>4126.58731</td>\n      <td>...</td>\n      <td>3.583450</td>\n      <td>7.298162</td>\n      <td>1.73855</td>\n      <td>0.094822</td>\n      <td>11.339138</td>\n      <td>72.611063</td>\n      <td>2003.810319</td>\n      <td>22.136229</td>\n      <td>69.834944</td>\n      <td>0.120343</td>\n    </tr>\n    <tr>\n      <th>1</th>\n      <td>0.145282</td>\n      <td>978.76416</td>\n      <td>85.200147</td>\n      <td>36.968889</td>\n      <td>8.138688</td>\n      <td>3.632190</td>\n      <td>0.025578</td>\n      <td>13.517790</td>\n      <td>1.229900</td>\n      <td>5496.92824</td>\n      <td>...</td>\n      <td>10.358927</td>\n      <td>0.173229</td>\n      <td>0.49706</td>\n      <td>0.568932</td>\n      <td>9.292698</td>\n      <td>72.611063</td>\n      <td>27981.562750</td>\n      <td>29.135430</td>\n      <td>32.131996</td>\n      <td>21.978000</td>\n    </tr>\n    <tr>\n      <th>2</th>\n      <td>0.470030</td>\n      <td>2635.10654</td>\n      <td>85.200147</td>\n      <td>32.360553</td>\n      <td>8.138688</td>\n      <td>6.732840</td>\n      <td>0.025578</td>\n      <td>12.824570</td>\n      <td>1.229900</td>\n      <td>5135.78024</td>\n      <td>...</td>\n      <td>11.626917</td>\n      <td>7.709560</td>\n      <td>0.97556</td>\n      <td>1.198821</td>\n      <td>37.077772</td>\n      <td>88.609437</td>\n      <td>13676.957810</td>\n      <td>28.022851</td>\n      <td>35.192676</td>\n      <td>0.196941</td>\n    </tr>\n    <tr>\n      <th>3</th>\n      <td>0.252107</td>\n      <td>3819.65177</td>\n      <td>120.201618</td>\n      <td>77.112203</td>\n      <td>8.138688</td>\n      <td>3.685344</td>\n      <td>0.025578</td>\n      <td>11.053708</td>\n      <td>1.229900</td>\n      <td>4169.67738</td>\n      <td>...</td>\n      <td>14.852022</td>\n      <td>6.122162</td>\n      <td>0.49706</td>\n      <td>0.284466</td>\n      <td>18.529584</td>\n      <td>82.416803</td>\n      <td>2094.262452</td>\n      <td>39.948656</td>\n      <td>90.493248</td>\n      <td>0.155829</td>\n    </tr>\n    <tr>\n      <th>4</th>\n      <td>0.380297</td>\n      <td>3733.04844</td>\n      <td>85.200147</td>\n      <td>14.103738</td>\n      <td>8.138688</td>\n      <td>3.942255</td>\n      <td>0.054810</td>\n      <td>3.396778</td>\n      <td>102.151980</td>\n      <td>5728.73412</td>\n      <td>...</td>\n      <td>13.666727</td>\n      <td>8.153058</td>\n      <td>48.50134</td>\n      <td>0.121914</td>\n      <td>16.408728</td>\n      <td>146.109943</td>\n      <td>8524.370502</td>\n      <td>45.381316</td>\n      <td>36.262628</td>\n      <td>0.096614</td>\n    </tr>\n  </tbody>\n</table>\n<p>5 rows × 54 columns</p>\n</div>"
     },
     "execution_count": 95,
     "metadata": {},
     "output_type": "execute_result"
    }
   ],
   "source": [
    "ytrain = train['Class']\n",
    "print(ytrain)\n",
    "train = train.drop(['Class', 'Id'], axis=1)\n",
    "train.head()"
   ],
   "metadata": {
    "collapsed": false
   }
  },
  {
   "cell_type": "code",
   "execution_count": 96,
   "outputs": [
    {
     "data": {
      "text/plain": "array(['B', 'A'], dtype=object)"
     },
     "execution_count": 96,
     "metadata": {},
     "output_type": "execute_result"
    }
   ],
   "source": [
    "train['EJ'].unique()"
   ],
   "metadata": {
    "collapsed": false
   }
  },
  {
   "cell_type": "code",
   "execution_count": 97,
   "outputs": [
    {
     "data": {
      "text/plain": "         AB          AF          AH         AM        AR        AX        AY  \\\n0  0.209377  3109.03329   85.200147  22.394407  8.138688  0.699861  0.025578   \n1  0.145282   978.76416   85.200147  36.968889  8.138688  3.632190  0.025578   \n2  0.470030  2635.10654   85.200147  32.360553  8.138688  6.732840  0.025578   \n3  0.252107  3819.65177  120.201618  77.112203  8.138688  3.685344  0.025578   \n4  0.380297  3733.04844   85.200147  14.103738  8.138688  3.942255  0.054810   \n\n          AZ          BC         BD   ...        FR        FS         GB  \\\n0   9.812214    5.555634  4126.58731  ...   1.73855  0.094822  11.339138   \n1  13.517790    1.229900  5496.92824  ...   0.49706  0.568932   9.292698   \n2  12.824570    1.229900  5135.78024  ...   0.97556  1.198821  37.077772   \n3  11.053708    1.229900  4169.67738  ...   0.49706  0.284466  18.529584   \n4   3.396778  102.151980  5728.73412  ...  48.50134  0.121914  16.408728   \n\n           GE            GF         GH         GI         GL  EJ_A  EJ_B  \n0   72.611063   2003.810319  22.136229  69.834944   0.120343     0     1  \n1   72.611063  27981.562750  29.135430  32.131996  21.978000     1     0  \n2   88.609437  13676.957810  28.022851  35.192676   0.196941     0     1  \n3   82.416803   2094.262452  39.948656  90.493248   0.155829     0     1  \n4  146.109943   8524.370502  45.381316  36.262628   0.096614     0     1  \n\n[5 rows x 55 columns]",
      "text/html": "<div>\n<style scoped>\n    .dataframe tbody tr th:only-of-type {\n        vertical-align: middle;\n    }\n\n    .dataframe tbody tr th {\n        vertical-align: top;\n    }\n\n    .dataframe thead th {\n        text-align: right;\n    }\n</style>\n<table border=\"1\" class=\"dataframe\">\n  <thead>\n    <tr style=\"text-align: right;\">\n      <th></th>\n      <th>AB</th>\n      <th>AF</th>\n      <th>AH</th>\n      <th>AM</th>\n      <th>AR</th>\n      <th>AX</th>\n      <th>AY</th>\n      <th>AZ</th>\n      <th>BC</th>\n      <th>BD</th>\n      <th>...</th>\n      <th>FR</th>\n      <th>FS</th>\n      <th>GB</th>\n      <th>GE</th>\n      <th>GF</th>\n      <th>GH</th>\n      <th>GI</th>\n      <th>GL</th>\n      <th>EJ_A</th>\n      <th>EJ_B</th>\n    </tr>\n  </thead>\n  <tbody>\n    <tr>\n      <th>0</th>\n      <td>0.209377</td>\n      <td>3109.03329</td>\n      <td>85.200147</td>\n      <td>22.394407</td>\n      <td>8.138688</td>\n      <td>0.699861</td>\n      <td>0.025578</td>\n      <td>9.812214</td>\n      <td>5.555634</td>\n      <td>4126.58731</td>\n      <td>...</td>\n      <td>1.73855</td>\n      <td>0.094822</td>\n      <td>11.339138</td>\n      <td>72.611063</td>\n      <td>2003.810319</td>\n      <td>22.136229</td>\n      <td>69.834944</td>\n      <td>0.120343</td>\n      <td>0</td>\n      <td>1</td>\n    </tr>\n    <tr>\n      <th>1</th>\n      <td>0.145282</td>\n      <td>978.76416</td>\n      <td>85.200147</td>\n      <td>36.968889</td>\n      <td>8.138688</td>\n      <td>3.632190</td>\n      <td>0.025578</td>\n      <td>13.517790</td>\n      <td>1.229900</td>\n      <td>5496.92824</td>\n      <td>...</td>\n      <td>0.49706</td>\n      <td>0.568932</td>\n      <td>9.292698</td>\n      <td>72.611063</td>\n      <td>27981.562750</td>\n      <td>29.135430</td>\n      <td>32.131996</td>\n      <td>21.978000</td>\n      <td>1</td>\n      <td>0</td>\n    </tr>\n    <tr>\n      <th>2</th>\n      <td>0.470030</td>\n      <td>2635.10654</td>\n      <td>85.200147</td>\n      <td>32.360553</td>\n      <td>8.138688</td>\n      <td>6.732840</td>\n      <td>0.025578</td>\n      <td>12.824570</td>\n      <td>1.229900</td>\n      <td>5135.78024</td>\n      <td>...</td>\n      <td>0.97556</td>\n      <td>1.198821</td>\n      <td>37.077772</td>\n      <td>88.609437</td>\n      <td>13676.957810</td>\n      <td>28.022851</td>\n      <td>35.192676</td>\n      <td>0.196941</td>\n      <td>0</td>\n      <td>1</td>\n    </tr>\n    <tr>\n      <th>3</th>\n      <td>0.252107</td>\n      <td>3819.65177</td>\n      <td>120.201618</td>\n      <td>77.112203</td>\n      <td>8.138688</td>\n      <td>3.685344</td>\n      <td>0.025578</td>\n      <td>11.053708</td>\n      <td>1.229900</td>\n      <td>4169.67738</td>\n      <td>...</td>\n      <td>0.49706</td>\n      <td>0.284466</td>\n      <td>18.529584</td>\n      <td>82.416803</td>\n      <td>2094.262452</td>\n      <td>39.948656</td>\n      <td>90.493248</td>\n      <td>0.155829</td>\n      <td>0</td>\n      <td>1</td>\n    </tr>\n    <tr>\n      <th>4</th>\n      <td>0.380297</td>\n      <td>3733.04844</td>\n      <td>85.200147</td>\n      <td>14.103738</td>\n      <td>8.138688</td>\n      <td>3.942255</td>\n      <td>0.054810</td>\n      <td>3.396778</td>\n      <td>102.151980</td>\n      <td>5728.73412</td>\n      <td>...</td>\n      <td>48.50134</td>\n      <td>0.121914</td>\n      <td>16.408728</td>\n      <td>146.109943</td>\n      <td>8524.370502</td>\n      <td>45.381316</td>\n      <td>36.262628</td>\n      <td>0.096614</td>\n      <td>0</td>\n      <td>1</td>\n    </tr>\n  </tbody>\n</table>\n<p>5 rows × 55 columns</p>\n</div>"
     },
     "execution_count": 97,
     "metadata": {},
     "output_type": "execute_result"
    }
   ],
   "source": [
    "# make categorical data into numerical data\n",
    "train = pd.get_dummies(train)\n",
    "train.head()\n"
   ],
   "metadata": {
    "collapsed": false
   }
  },
  {
   "cell_type": "code",
   "execution_count": 98,
   "outputs": [],
   "source": [
    " # referenced https://www.kaggle.com/code/dan3dewey/icr-2023-balanced-log-loss\n",
    "def competition_log_loss(y_true, y_pred):\n",
    "    # y_true: correct labels 0, 1\n",
    "    # y_pred: predicted probabilities of class=1\n",
    "    # Implements the Evaluation equation with w_0 = w_1 = 1.\n",
    "    # Calculate the number of observations for each class\n",
    "    N_0 = np.sum(1 - y_true)\n",
    "    N_1 = np.sum(y_true)\n",
    "    print(y_pred.shape)\n",
    "    # Calculate the predicted probabilities for each class\n",
    "    p_1 = np.clip(y_pred[:,1], 1e-15, 1 - 1e-15)\n",
    "    p_0 = 1 - p_1\n",
    "    # Calculate the average log loss for each class\n",
    "    #print(\"reached\")\n",
    "    print(p_0.shape, p_1.shape, y_true.shape)\n",
    "\n",
    "    log_loss_0 = -np.sum((1 - y_true) * np.log(p_0)) / N_0\n",
    "    log_loss_1 = -np.sum(y_true * np.log(p_1)) / N_1\n",
    "    # return the (not further weighted) average of the averages\n",
    "    return (log_loss_0 + log_loss_1)/2\n"
   ],
   "metadata": {
    "collapsed": false
   }
  },
  {
   "cell_type": "markdown",
   "source": [
    "### Train Test Split"
   ],
   "metadata": {
    "collapsed": false
   }
  },
  {
   "cell_type": "code",
   "execution_count": 99,
   "outputs": [],
   "source": [
    "# train test split such that same distribution of classes in train and test\n",
    "from sklearn.model_selection import train_test_split\n",
    "X_train, X_test, y_train, y_test = train_test_split(train, ytrain, test_size=0.2, random_state=42, stratify=ytrain)"
   ],
   "metadata": {
    "collapsed": false
   }
  },
  {
   "cell_type": "code",
   "execution_count": 100,
   "outputs": [
    {
     "name": "stdout",
     "output_type": "stream",
     "text": [
      "Accuracy of logistic regression classifier on train set: 0.88\n",
      "[[397  10]\n",
      " [ 50  36]]\n",
      "              precision    recall  f1-score   support\n",
      "\n",
      "           0       0.89      0.98      0.93       407\n",
      "           1       0.78      0.42      0.55        86\n",
      "\n",
      "    accuracy                           0.88       493\n",
      "   macro avg       0.84      0.70      0.74       493\n",
      "weighted avg       0.87      0.88      0.86       493\n",
      "\n",
      "Accuracy of logistic regression classifier on test set: 0.86\n",
      "[[100   2]\n",
      " [ 15   7]]\n",
      "              precision    recall  f1-score   support\n",
      "\n",
      "           0       0.87      0.98      0.92       102\n",
      "           1       0.78      0.32      0.45        22\n",
      "\n",
      "    accuracy                           0.86       124\n",
      "   macro avg       0.82      0.65      0.69       124\n",
      "weighted avg       0.85      0.86      0.84       124\n",
      "\n",
      "(124, 2)\n",
      "(124,) (124,) (124,)\n",
      "0.7956187772167251\n"
     ]
    },
    {
     "name": "stderr",
     "output_type": "stream",
     "text": [
      "/Library/Frameworks/Python.framework/Versions/3.9/lib/python3.9/site-packages/sklearn/linear_model/_logistic.py:444: ConvergenceWarning: lbfgs failed to converge (status=1):\n",
      "STOP: TOTAL NO. of ITERATIONS REACHED LIMIT.\n",
      "\n",
      "Increase the number of iterations (max_iter) or scale the data as shown in:\n",
      "    https://scikit-learn.org/stable/modules/preprocessing.html\n",
      "Please also refer to the documentation for alternative solver options:\n",
      "    https://scikit-learn.org/stable/modules/linear_model.html#logistic-regression\n",
      "  n_iter_i = _check_optimize_result(\n"
     ]
    }
   ],
   "source": [
    "# fit a logistic regression model\n",
    "from sklearn.linear_model import LogisticRegression\n",
    "from sklearn.metrics import accuracy_score\n",
    "from sklearn.metrics import confusion_matrix\n",
    "from sklearn.metrics import classification_report\n",
    "\n",
    "logreg = LogisticRegression()\n",
    "logreg.fit(X_train, y_train)\n",
    "y_pred = logreg.predict(X_train)\n",
    "y_pred2 = logreg.predict_proba(X_train)\n",
    "print('Accuracy of logistic regression classifier on train set: {:.2f}'.format(accuracy_score(y_train, y_pred)))\n",
    "print(confusion_matrix(y_train, y_pred))\n",
    "print(classification_report(y_train, y_pred))\n",
    "\n",
    "\n",
    "y_pred = logreg.predict(X_test)\n",
    "y_pred2 = logreg.predict_proba(X_test)\n",
    "\n",
    "print('Accuracy of logistic regression classifier on test set: {:.2f}'.format(accuracy_score(y_test, y_pred)))\n",
    "print(confusion_matrix(y_test, y_pred))\n",
    "print(classification_report(y_test, y_pred))\n",
    "print(competition_log_loss(y_test, y_pred2))\n",
    "\n"
   ],
   "metadata": {
    "collapsed": false
   }
  },
  {
   "cell_type": "code",
   "execution_count": 101,
   "outputs": [
    {
     "name": "stdout",
     "output_type": "stream",
     "text": [
      "Accuracy of SVM classifier on train set: 0.84\n",
      "[[404   3]\n",
      " [ 77   9]]\n",
      "              precision    recall  f1-score   support\n",
      "\n",
      "           0       0.84      0.99      0.91       407\n",
      "           1       0.75      0.10      0.18        86\n",
      "\n",
      "    accuracy                           0.84       493\n",
      "   macro avg       0.79      0.55      0.55       493\n",
      "weighted avg       0.82      0.84      0.78       493\n",
      "\n",
      "Accuracy of SVM classifier on test set: 0.85\n",
      "[[102   0]\n",
      " [ 18   4]]\n",
      "              precision    recall  f1-score   support\n",
      "\n",
      "           0       0.85      1.00      0.92       102\n",
      "           1       1.00      0.18      0.31        22\n",
      "\n",
      "    accuracy                           0.85       124\n",
      "   macro avg       0.93      0.59      0.61       124\n",
      "weighted avg       0.88      0.85      0.81       124\n",
      "\n",
      "(124, 2)\n",
      "(124,) (124,) (124,)\n",
      "0.8093270553129697\n"
     ]
    }
   ],
   "source": [
    "# fit a svm model\n",
    "from sklearn.svm import SVC\n",
    "\n",
    "svm = SVC(probability=True)\n",
    "svm.fit(X_train, y_train)\n",
    "y_pred = svm.predict(X_train)\n",
    "print('Accuracy of SVM classifier on train set: {:.2f}'.format(accuracy_score(y_train, y_pred)))\n",
    "print(confusion_matrix(y_train, y_pred))\n",
    "print(classification_report(y_train, y_pred))\n",
    "\n",
    "\n",
    "y_pred = svm.predict(X_test)\n",
    "y_pred2 = svm.predict_proba(X_test)\n",
    "\n",
    "print('Accuracy of SVM classifier on test set: {:.2f}'.format(accuracy_score(y_test, y_pred)))\n",
    "print(confusion_matrix(y_test, y_pred))\n",
    "print(classification_report(y_test, y_pred))\n",
    "print(competition_log_loss(y_test, y_pred2))\n"
   ],
   "metadata": {
    "collapsed": false
   }
  },
  {
   "cell_type": "code",
   "execution_count": 108,
   "outputs": [
    {
     "name": "stdout",
     "output_type": "stream",
     "text": [
      "Accuracy of XGB classifier on train set: 1.00\n",
      "[[407   0]\n",
      " [  0  86]]\n",
      "              precision    recall  f1-score   support\n",
      "\n",
      "           0       1.00      1.00      1.00       407\n",
      "           1       1.00      1.00      1.00        86\n",
      "\n",
      "    accuracy                           1.00       493\n",
      "   macro avg       1.00      1.00      1.00       493\n",
      "weighted avg       1.00      1.00      1.00       493\n",
      "\n",
      "Accuracy of XGB classifier on test set: 0.91\n",
      "[[99  3]\n",
      " [ 8 14]]\n",
      "              precision    recall  f1-score   support\n",
      "\n",
      "           0       0.93      0.97      0.95       102\n",
      "           1       0.82      0.64      0.72        22\n",
      "\n",
      "    accuracy                           0.91       124\n",
      "   macro avg       0.87      0.80      0.83       124\n",
      "weighted avg       0.91      0.91      0.91       124\n",
      "\n",
      "(124, 2)\n",
      "(124,) (124,) (124,)\n",
      "0.599189009599169\n"
     ]
    }
   ],
   "source": [
    "# xgboost model\n",
    "from xgboost import XGBClassifier\n",
    "\n",
    "xgb = XGBClassifier()\n",
    "xgb.fit(X_train, y_train)\n",
    "y_pred = xgb.predict(X_train)\n",
    "\n",
    "print('Accuracy of XGB classifier on train set: {:.2f}'.format(accuracy_score(y_train, y_pred)))\n",
    "print(confusion_matrix(y_train, y_pred))\n",
    "print(classification_report(y_train, y_pred))\n",
    "\n",
    "y_pred = xgb.predict(X_test)\n",
    "y_pred2 =   xgb.predict_proba(X_test)\n",
    "\n",
    "print('Accuracy of XGB classifier on test set: {:.2f}'.format(accuracy_score(y_test, y_pred)))\n",
    "print(confusion_matrix(y_test, y_pred))\n",
    "print(classification_report(y_test, y_pred))\n",
    "\n",
    "print(competition_log_loss(y_test, y_pred2))\n",
    "\n",
    "\n",
    "\n"
   ],
   "metadata": {
    "collapsed": false
   }
  },
  {
   "cell_type": "markdown",
   "source": [
    "### Test data"
   ],
   "metadata": {
    "collapsed": false
   }
  },
  {
   "cell_type": "code",
   "execution_count": 103,
   "outputs": [
    {
     "data": {
      "text/plain": "             Id   AB   AF   AH   AM   AR   AX   AY   AZ   BC  ...   FI   FL  \\\n0  00eed32682bb  0.0  0.0  0.0  0.0  0.0  0.0  0.0  0.0  0.0  ...  0.0  0.0   \n1  010ebe33f668  0.0  0.0  0.0  0.0  0.0  0.0  0.0  0.0  0.0  ...  0.0  0.0   \n2  02fa521e1838  0.0  0.0  0.0  0.0  0.0  0.0  0.0  0.0  0.0  ...  0.0  0.0   \n3  040e15f562a2  0.0  0.0  0.0  0.0  0.0  0.0  0.0  0.0  0.0  ...  0.0  0.0   \n4  046e85c7cc7f  0.0  0.0  0.0  0.0  0.0  0.0  0.0  0.0  0.0  ...  0.0  0.0   \n\n    FR   FS   GB   GE   GF   GH   GI   GL  \n0  0.0  0.0  0.0  0.0  0.0  0.0  0.0  0.0  \n1  0.0  0.0  0.0  0.0  0.0  0.0  0.0  0.0  \n2  0.0  0.0  0.0  0.0  0.0  0.0  0.0  0.0  \n3  0.0  0.0  0.0  0.0  0.0  0.0  0.0  0.0  \n4  0.0  0.0  0.0  0.0  0.0  0.0  0.0  0.0  \n\n[5 rows x 57 columns]",
      "text/html": "<div>\n<style scoped>\n    .dataframe tbody tr th:only-of-type {\n        vertical-align: middle;\n    }\n\n    .dataframe tbody tr th {\n        vertical-align: top;\n    }\n\n    .dataframe thead th {\n        text-align: right;\n    }\n</style>\n<table border=\"1\" class=\"dataframe\">\n  <thead>\n    <tr style=\"text-align: right;\">\n      <th></th>\n      <th>Id</th>\n      <th>AB</th>\n      <th>AF</th>\n      <th>AH</th>\n      <th>AM</th>\n      <th>AR</th>\n      <th>AX</th>\n      <th>AY</th>\n      <th>AZ</th>\n      <th>BC</th>\n      <th>...</th>\n      <th>FI</th>\n      <th>FL</th>\n      <th>FR</th>\n      <th>FS</th>\n      <th>GB</th>\n      <th>GE</th>\n      <th>GF</th>\n      <th>GH</th>\n      <th>GI</th>\n      <th>GL</th>\n    </tr>\n  </thead>\n  <tbody>\n    <tr>\n      <th>0</th>\n      <td>00eed32682bb</td>\n      <td>0.0</td>\n      <td>0.0</td>\n      <td>0.0</td>\n      <td>0.0</td>\n      <td>0.0</td>\n      <td>0.0</td>\n      <td>0.0</td>\n      <td>0.0</td>\n      <td>0.0</td>\n      <td>...</td>\n      <td>0.0</td>\n      <td>0.0</td>\n      <td>0.0</td>\n      <td>0.0</td>\n      <td>0.0</td>\n      <td>0.0</td>\n      <td>0.0</td>\n      <td>0.0</td>\n      <td>0.0</td>\n      <td>0.0</td>\n    </tr>\n    <tr>\n      <th>1</th>\n      <td>010ebe33f668</td>\n      <td>0.0</td>\n      <td>0.0</td>\n      <td>0.0</td>\n      <td>0.0</td>\n      <td>0.0</td>\n      <td>0.0</td>\n      <td>0.0</td>\n      <td>0.0</td>\n      <td>0.0</td>\n      <td>...</td>\n      <td>0.0</td>\n      <td>0.0</td>\n      <td>0.0</td>\n      <td>0.0</td>\n      <td>0.0</td>\n      <td>0.0</td>\n      <td>0.0</td>\n      <td>0.0</td>\n      <td>0.0</td>\n      <td>0.0</td>\n    </tr>\n    <tr>\n      <th>2</th>\n      <td>02fa521e1838</td>\n      <td>0.0</td>\n      <td>0.0</td>\n      <td>0.0</td>\n      <td>0.0</td>\n      <td>0.0</td>\n      <td>0.0</td>\n      <td>0.0</td>\n      <td>0.0</td>\n      <td>0.0</td>\n      <td>...</td>\n      <td>0.0</td>\n      <td>0.0</td>\n      <td>0.0</td>\n      <td>0.0</td>\n      <td>0.0</td>\n      <td>0.0</td>\n      <td>0.0</td>\n      <td>0.0</td>\n      <td>0.0</td>\n      <td>0.0</td>\n    </tr>\n    <tr>\n      <th>3</th>\n      <td>040e15f562a2</td>\n      <td>0.0</td>\n      <td>0.0</td>\n      <td>0.0</td>\n      <td>0.0</td>\n      <td>0.0</td>\n      <td>0.0</td>\n      <td>0.0</td>\n      <td>0.0</td>\n      <td>0.0</td>\n      <td>...</td>\n      <td>0.0</td>\n      <td>0.0</td>\n      <td>0.0</td>\n      <td>0.0</td>\n      <td>0.0</td>\n      <td>0.0</td>\n      <td>0.0</td>\n      <td>0.0</td>\n      <td>0.0</td>\n      <td>0.0</td>\n    </tr>\n    <tr>\n      <th>4</th>\n      <td>046e85c7cc7f</td>\n      <td>0.0</td>\n      <td>0.0</td>\n      <td>0.0</td>\n      <td>0.0</td>\n      <td>0.0</td>\n      <td>0.0</td>\n      <td>0.0</td>\n      <td>0.0</td>\n      <td>0.0</td>\n      <td>...</td>\n      <td>0.0</td>\n      <td>0.0</td>\n      <td>0.0</td>\n      <td>0.0</td>\n      <td>0.0</td>\n      <td>0.0</td>\n      <td>0.0</td>\n      <td>0.0</td>\n      <td>0.0</td>\n      <td>0.0</td>\n    </tr>\n  </tbody>\n</table>\n<p>5 rows × 57 columns</p>\n</div>"
     },
     "execution_count": 103,
     "metadata": {},
     "output_type": "execute_result"
    }
   ],
   "source": [
    "test = pd.read_csv(os.path.join(directory, \"test.csv\"))\n",
    "test.head()\n"
   ],
   "metadata": {
    "collapsed": false
   }
  },
  {
   "cell_type": "code",
   "execution_count": 104,
   "outputs": [
    {
     "data": {
      "text/plain": "    AB   AF   AH   AM   AR   AX   AY   AZ   BC  BD   ...   FR   FS   GB   GE  \\\n0  0.0  0.0  0.0  0.0  0.0  0.0  0.0  0.0  0.0  0.0  ...  0.0  0.0  0.0  0.0   \n1  0.0  0.0  0.0  0.0  0.0  0.0  0.0  0.0  0.0  0.0  ...  0.0  0.0  0.0  0.0   \n2  0.0  0.0  0.0  0.0  0.0  0.0  0.0  0.0  0.0  0.0  ...  0.0  0.0  0.0  0.0   \n3  0.0  0.0  0.0  0.0  0.0  0.0  0.0  0.0  0.0  0.0  ...  0.0  0.0  0.0  0.0   \n4  0.0  0.0  0.0  0.0  0.0  0.0  0.0  0.0  0.0  0.0  ...  0.0  0.0  0.0  0.0   \n\n    GF   GH   GI   GL  EJ_A  EJ_B  \n0  0.0  0.0  0.0  0.0     1     0  \n1  0.0  0.0  0.0  0.0     1     0  \n2  0.0  0.0  0.0  0.0     1     0  \n3  0.0  0.0  0.0  0.0     1     0  \n4  0.0  0.0  0.0  0.0     1     0  \n\n[5 rows x 55 columns]",
      "text/html": "<div>\n<style scoped>\n    .dataframe tbody tr th:only-of-type {\n        vertical-align: middle;\n    }\n\n    .dataframe tbody tr th {\n        vertical-align: top;\n    }\n\n    .dataframe thead th {\n        text-align: right;\n    }\n</style>\n<table border=\"1\" class=\"dataframe\">\n  <thead>\n    <tr style=\"text-align: right;\">\n      <th></th>\n      <th>AB</th>\n      <th>AF</th>\n      <th>AH</th>\n      <th>AM</th>\n      <th>AR</th>\n      <th>AX</th>\n      <th>AY</th>\n      <th>AZ</th>\n      <th>BC</th>\n      <th>BD</th>\n      <th>...</th>\n      <th>FR</th>\n      <th>FS</th>\n      <th>GB</th>\n      <th>GE</th>\n      <th>GF</th>\n      <th>GH</th>\n      <th>GI</th>\n      <th>GL</th>\n      <th>EJ_A</th>\n      <th>EJ_B</th>\n    </tr>\n  </thead>\n  <tbody>\n    <tr>\n      <th>0</th>\n      <td>0.0</td>\n      <td>0.0</td>\n      <td>0.0</td>\n      <td>0.0</td>\n      <td>0.0</td>\n      <td>0.0</td>\n      <td>0.0</td>\n      <td>0.0</td>\n      <td>0.0</td>\n      <td>0.0</td>\n      <td>...</td>\n      <td>0.0</td>\n      <td>0.0</td>\n      <td>0.0</td>\n      <td>0.0</td>\n      <td>0.0</td>\n      <td>0.0</td>\n      <td>0.0</td>\n      <td>0.0</td>\n      <td>1</td>\n      <td>0</td>\n    </tr>\n    <tr>\n      <th>1</th>\n      <td>0.0</td>\n      <td>0.0</td>\n      <td>0.0</td>\n      <td>0.0</td>\n      <td>0.0</td>\n      <td>0.0</td>\n      <td>0.0</td>\n      <td>0.0</td>\n      <td>0.0</td>\n      <td>0.0</td>\n      <td>...</td>\n      <td>0.0</td>\n      <td>0.0</td>\n      <td>0.0</td>\n      <td>0.0</td>\n      <td>0.0</td>\n      <td>0.0</td>\n      <td>0.0</td>\n      <td>0.0</td>\n      <td>1</td>\n      <td>0</td>\n    </tr>\n    <tr>\n      <th>2</th>\n      <td>0.0</td>\n      <td>0.0</td>\n      <td>0.0</td>\n      <td>0.0</td>\n      <td>0.0</td>\n      <td>0.0</td>\n      <td>0.0</td>\n      <td>0.0</td>\n      <td>0.0</td>\n      <td>0.0</td>\n      <td>...</td>\n      <td>0.0</td>\n      <td>0.0</td>\n      <td>0.0</td>\n      <td>0.0</td>\n      <td>0.0</td>\n      <td>0.0</td>\n      <td>0.0</td>\n      <td>0.0</td>\n      <td>1</td>\n      <td>0</td>\n    </tr>\n    <tr>\n      <th>3</th>\n      <td>0.0</td>\n      <td>0.0</td>\n      <td>0.0</td>\n      <td>0.0</td>\n      <td>0.0</td>\n      <td>0.0</td>\n      <td>0.0</td>\n      <td>0.0</td>\n      <td>0.0</td>\n      <td>0.0</td>\n      <td>...</td>\n      <td>0.0</td>\n      <td>0.0</td>\n      <td>0.0</td>\n      <td>0.0</td>\n      <td>0.0</td>\n      <td>0.0</td>\n      <td>0.0</td>\n      <td>0.0</td>\n      <td>1</td>\n      <td>0</td>\n    </tr>\n    <tr>\n      <th>4</th>\n      <td>0.0</td>\n      <td>0.0</td>\n      <td>0.0</td>\n      <td>0.0</td>\n      <td>0.0</td>\n      <td>0.0</td>\n      <td>0.0</td>\n      <td>0.0</td>\n      <td>0.0</td>\n      <td>0.0</td>\n      <td>...</td>\n      <td>0.0</td>\n      <td>0.0</td>\n      <td>0.0</td>\n      <td>0.0</td>\n      <td>0.0</td>\n      <td>0.0</td>\n      <td>0.0</td>\n      <td>0.0</td>\n      <td>1</td>\n      <td>0</td>\n    </tr>\n  </tbody>\n</table>\n<p>5 rows × 55 columns</p>\n</div>"
     },
     "execution_count": 104,
     "metadata": {},
     "output_type": "execute_result"
    }
   ],
   "source": [
    "# remove BQ and EL since they have more 50 null values\n",
    "test = test.drop(['BQ', 'EL'], axis=1)\n",
    "\n",
    "# fill null values with mean\n",
    "null_cols = test.columns[test.isnull().any()]\n",
    "for col in null_cols:\n",
    "    test[col].fillna(test[col].mean(), inplace=True)\n",
    "\n",
    "# drop Id column\n",
    "test_id = test['Id']\n",
    "test = test.drop(['Id'], axis=1)\n",
    "\n",
    "# make categorical data into numerical data\n",
    "test = pd.get_dummies(test)\n",
    "# add a new column to test data\n",
    "\n",
    "test['EJ_B'] = 0 # delete this line when upload to kaggle\n",
    "test.head()"
   ],
   "metadata": {
    "collapsed": false
   }
  },
  {
   "cell_type": "code",
   "execution_count": 105,
   "outputs": [
    {
     "ename": "NameError",
     "evalue": "name 'pca' is not defined",
     "output_type": "error",
     "traceback": [
      "\u001B[0;31m---------------------------------------------------------------------------\u001B[0m",
      "\u001B[0;31mNameError\u001B[0m                                 Traceback (most recent call last)",
      "Cell \u001B[0;32mIn [105], line 2\u001B[0m\n\u001B[1;32m      1\u001B[0m \u001B[38;5;66;03m# fit the test data\u001B[39;00m\n\u001B[0;32m----> 2\u001B[0m test_pca \u001B[38;5;241m=\u001B[39m \u001B[43mpca\u001B[49m\u001B[38;5;241m.\u001B[39mtransform(test)\n\u001B[1;32m      3\u001B[0m y_prob \u001B[38;5;241m=\u001B[39m logreg\u001B[38;5;241m.\u001B[39mpredict_proba(test_pca)\n\u001B[1;32m      5\u001B[0m y_prob[:,\u001B[38;5;241m1\u001B[39m]\n",
      "\u001B[0;31mNameError\u001B[0m: name 'pca' is not defined"
     ]
    }
   ],
   "source": [
    "# fit the test data\n",
    "test_pca = pca.transform(test)\n",
    "y_prob = logreg.predict_proba(test_pca)\n",
    "\n",
    "y_prob[:,1]\n"
   ],
   "metadata": {
    "collapsed": false
   }
  },
  {
   "cell_type": "code",
   "execution_count": null,
   "outputs": [],
   "source": [],
   "metadata": {
    "collapsed": false
   }
  },
  {
   "cell_type": "code",
   "execution_count": null,
   "outputs": [],
   "source": [
    "out = pd.DataFrame(\n",
    "    {\n",
    "        \"Id\": test_id,\n",
    "        \"class_0\": y_prob[:,0],\n",
    "        \"class_1\": y_prob[:,1],\n",
    "    }\n",
    ")"
   ],
   "metadata": {
    "collapsed": false
   }
  },
  {
   "cell_type": "code",
   "execution_count": null,
   "outputs": [],
   "source": [
    "out"
   ],
   "metadata": {
    "collapsed": false
   }
  },
  {
   "cell_type": "code",
   "execution_count": null,
   "outputs": [],
   "source": [
    "out.to_csv(r\"submission.csv\", index=False)\n"
   ],
   "metadata": {
    "collapsed": false
   }
  },
  {
   "cell_type": "code",
   "execution_count": null,
   "outputs": [],
   "source": [],
   "metadata": {
    "collapsed": false
   }
  }
 ],
 "metadata": {
  "kernelspec": {
   "display_name": "base",
   "language": "python",
   "name": "python3"
  },
  "language_info": {
   "codemirror_mode": {
    "name": "ipython",
    "version": 3
   },
   "file_extension": ".py",
   "mimetype": "text/x-python",
   "name": "python",
   "nbconvert_exporter": "python",
   "pygments_lexer": "ipython3",
   "version": "3.7.3"
  },
  "orig_nbformat": 4
 },
 "nbformat": 4,
 "nbformat_minor": 2
}
